{
  "cells": [
    {
      "cell_type": "markdown",
      "metadata": {
        "id": "oVWUjbQ4U3z2"
      },
      "source": [
        "# Imports y Preparacion del dataset"
      ]
    },
    {
      "cell_type": "code",
      "execution_count": 29,
      "metadata": {
        "id": "FGzbOdhoc94G"
      },
      "outputs": [],
      "source": [
        "\n",
        "import pandas as pd\n",
        "import numpy as np\n",
        "import matplotlib.pyplot as plt\n",
        "import seaborn as sns\n",
        "import sklearn as sk\n",
        "import sklearn.preprocessing as skp\n",
        "import scipy.stats as stats\n",
        "import scipy as sc\n",
        "from sklearn.feature_extraction import FeatureHasher\n",
        "from sklearn.feature_selection import VarianceThreshold\n",
        "from sklearn.impute import KNNImputer, SimpleImputer\n",
        "from sklearn.linear_model import LinearRegression, LogisticRegressionCV\n",
        "from sklearn.metrics import confusion_matrix, classification_report\n",
        "from sklearn.model_selection import train_test_split\n",
        "from sklearn.ensemble import RandomForestClassifier\n",
        "from sklearn.model_selection import RandomizedSearchCV #HACEMOS VALIDACION CRUZADA PARA BUSCAR HIPERPARAMETROS \n",
        "\n",
        "\n",
        "#joblib\n",
        "#from joblib import dump, load\n",
        "import joblib\n",
        "\n",
        "# multivariado   \n",
        "from sklearn.ensemble import IsolationForest\n",
        "from sklearn.neighbors import LocalOutlierFactor\n",
        "from sklearn.neighbors import DistanceMetric\n",
        "\n",
        "from sklearn import metrics\n",
        "\n",
        "from sklearn.metrics import precision_score, recall_score, accuracy_score,f1_score#, precision_recall_curve, roc_curve, \n",
        "#KNN\n",
        "from sklearn.neighbors import KNeighborsClassifier\n",
        "from sklearn.datasets import load_iris\n",
        "from sklearn.svm import SVC\n",
        "\n",
        "#\n",
        "from sklearn.model_selection import GridSearchCV, StratifiedKFold,KFold\n",
        "from sklearn.metrics import make_scorer\n",
        "\n"
      ]
    },
    {
      "cell_type": "code",
      "execution_count": 4,
      "metadata": {
        "id": "JYMIAzRWd0tM",
        "colab": {
          "base_uri": "https://localhost:8080/"
        },
        "outputId": "f8991cdb-993b-4f48-f939-53c325c3b175"
      },
      "outputs": [
        {
          "output_type": "stream",
          "name": "stdout",
          "text": [
            "Mounted at /content/drive\n"
          ]
        }
      ],
      "source": [
        "from google.colab import drive\n",
        "drive.mount('/content/drive')"
      ]
    },
    {
      "cell_type": "code",
      "execution_count": 5,
      "metadata": {
        "id": "KbcRoA5pvsTX"
      },
      "outputs": [],
      "source": [
        "df = pd.read_csv('/content/drive/MyDrive/Datasets/hotels_train_processed.csv') \n",
        "df_test= pd.read_csv('/content/drive/MyDrive/Datasets/hotels_test_processed_with_id.csv')\n"
      ]
    },
    {
      "cell_type": "code",
      "source": [
        "features = ['lead_time', 'stays_in_weekend_nights', 'stays_in_week_nights',\n",
        "       'adults', 'children', 'babies', 'is_repeated_guest',\n",
        "       'previous_cancellations', 'previous_bookings_not_canceled',\n",
        "       'booking_changes', 'agent', 'days_in_waiting_list',\n",
        "       'average_daily_rate', 'required_car_parking_spaces',\n",
        "       'total_of_special_requests', 'assigned_equals_reserved',\n",
        "       'temporada_alta', 'hotel_Resort Hotel', 'meal_FB', 'meal_HB', 'meal_SC',\n",
        "       'deposit_type_Non Refund', 'deposit_type_Refundable',\n",
        "       'customer_type_Group', 'customer_type_Transient',\n",
        "       'customer_type_Transient-Party', 'country_BEL', 'country_BRA',\n",
        "       'country_CHE', 'country_CHN', 'country_CN', 'country_DEU',\n",
        "       'country_ESP', 'country_FRA', 'country_GBR', 'country_IRL',\n",
        "       'country_ISR', 'country_ITA', 'country_NLD', 'country_NOR',\n",
        "       'country_OTHER', 'country_POL', 'country_PRT', 'country_RUS',\n",
        "       'country_SWE', 'country_USA', 'distribution_channel_Direct',\n",
        "       'distribution_channel_GDS', 'distribution_channel_TA/TO',\n",
        "       'market_segment_Complementary', 'market_segment_Corporate',\n",
        "       'market_segment_Direct', 'market_segment_Groups',\n",
        "       'market_segment_Offline TA/TO', 'market_segment_Online TA']"
      ],
      "metadata": {
        "id": "cpA7NuHK85cZ"
      },
      "execution_count": 6,
      "outputs": []
    },
    {
      "cell_type": "markdown",
      "metadata": {
        "id": "RXOW_A113V0T"
      },
      "source": [
        "# CHECKPOINT 3"
      ]
    },
    {
      "cell_type": "markdown",
      "metadata": {
        "id": "tEZARh7LlUZ8"
      },
      "source": [
        "Para este checkpoint de ensambles solo vamos a usar variables numericas."
      ]
    },
    {
      "cell_type": "markdown",
      "metadata": {
        "id": "9mY3sUv34AE5"
      },
      "source": [
        "##a. Construir un clasificador KNN optimizar sus hiperparámetros mediante k-fold Cross Validation\n"
      ]
    },
    {
      "cell_type": "markdown",
      "metadata": {
        "id": "Pup77Yeg3hhm"
      },
      "source": [
        "### Preparacion"
      ]
    },
    {
      "cell_type": "code",
      "execution_count": 7,
      "metadata": {
        "id": "QGXemENzlwCd"
      },
      "outputs": [],
      "source": [
        "df_knntest = df_test.copy()\n",
        "datasetknn = df.copy()"
      ]
    },
    {
      "cell_type": "code",
      "execution_count": 8,
      "metadata": {
        "id": "5uq8PRygd0EB"
      },
      "outputs": [],
      "source": [
        "#Separar datos y etiquetas\n",
        "x = datasetknn[features]\n",
        "y = datasetknn.is_canceled\n",
        "#Separo conjunto de Train y de Test (80/20)\n",
        "x_train, x_test, y_train, y_test = train_test_split(x, y, test_size=0.20, random_state=0)"
      ]
    },
    {
      "cell_type": "code",
      "execution_count": null,
      "metadata": {
        "id": "Yj0X3-YiiF1p",
        "colab": {
          "base_uri": "https://localhost:8080/"
        },
        "outputId": "58b6fc0d-7a40-499e-e7c4-942f3ed59654"
      },
      "outputs": [
        {
          "output_type": "execute_result",
          "data": {
            "text/plain": [
              "{'algorithm': 'auto',\n",
              " 'leaf_size': 30,\n",
              " 'metric': 'minkowski',\n",
              " 'metric_params': None,\n",
              " 'n_jobs': None,\n",
              " 'n_neighbors': 5,\n",
              " 'p': 2,\n",
              " 'weights': 'uniform'}"
            ]
          },
          "metadata": {},
          "execution_count": 109
        }
      ],
      "source": [
        "#Crear el modelo\n",
        "KNN_Classifier = KNeighborsClassifier()\n",
        "\n",
        "#vemos sus parámetros\n",
        "KNN_Classifier.get_params()"
      ]
    },
    {
      "cell_type": "code",
      "execution_count": null,
      "metadata": {
        "id": "CtdYHl7tjt8H"
      },
      "outputs": [],
      "source": [
        "#Entrenar el modelo\n",
        "KNN_Classifier.fit(x_train, y_train)\n",
        "\n",
        "#Predicción sobre test\n",
        "y_pred = KNN_Classifier.predict(x_test)"
      ]
    },
    {
      "cell_type": "code",
      "execution_count": null,
      "metadata": {
        "id": "HQHeOMKnkf_C",
        "colab": {
          "base_uri": "https://localhost:8080/"
        },
        "outputId": "6bf7cce3-038c-4a72-9916-c68900218721"
      },
      "outputs": [
        {
          "output_type": "stream",
          "name": "stdout",
          "text": [
            "correctas:  9002\n",
            "total:  12203\n"
          ]
        }
      ],
      "source": [
        "#Cantidad de aciertos\n",
        "print('correctas: ', np.sum(y_test == y_pred))\n",
        "print('total: ', len(y_test))"
      ]
    },
    {
      "cell_type": "code",
      "execution_count": null,
      "metadata": {
        "id": "k2sSSbIKNiLz",
        "colab": {
          "base_uri": "https://localhost:8080/"
        },
        "outputId": "ce790c0f-2390-4d0b-ff07-a7c94dfb7c33"
      },
      "outputs": [
        {
          "output_type": "execute_result",
          "data": {
            "text/plain": [
              "0.7441860465116278"
            ]
          },
          "metadata": {},
          "execution_count": 112
        }
      ],
      "source": [
        "f1_score(y_test, y_pred)"
      ]
    },
    {
      "cell_type": "markdown",
      "metadata": {
        "id": "hcuUExeI-VYe"
      },
      "source": [
        "### Submit KNN Estandar "
      ]
    },
    {
      "cell_type": "code",
      "execution_count": null,
      "metadata": {
        "id": "Zxo9vC_6-XKS"
      },
      "outputs": [],
      "source": [
        "pruebas11 = df_knntest.copy()"
      ]
    },
    {
      "cell_type": "code",
      "execution_count": null,
      "metadata": {
        "id": "jU0Hh20U_BIT"
      },
      "outputs": [],
      "source": [
        "y_pred = KNN_Classifier.predict(pruebas11[features])"
      ]
    },
    {
      "cell_type": "code",
      "execution_count": null,
      "metadata": {
        "id": "F6Pt-fxglwZx",
        "colab": {
          "base_uri": "https://localhost:8080/"
        },
        "outputId": "e733b9c7-ce41-4ea9-c92f-9a3a7ccad21d"
      },
      "outputs": [
        {
          "output_type": "execute_result",
          "data": {
            "text/plain": [
              "(26535, 2)"
            ]
          },
          "metadata": {},
          "execution_count": 115
        }
      ],
      "source": [
        "df_submission = pd.DataFrame({'id':df_test['id'], 'is_canceled':y_pred})\n",
        "df_submission.head()\n",
        "df_submission.shape"
      ]
    },
    {
      "cell_type": "code",
      "execution_count": null,
      "metadata": {
        "id": "kSqwizaLlwZy"
      },
      "outputs": [],
      "source": [
        "df_submission.to_csv('/content/drive/MyDrive/submissions/submission_v11.csv', index=False)"
      ]
    },
    {
      "cell_type": "markdown",
      "metadata": {
        "id": "hDFSILyNOFU7"
      },
      "source": [
        "### KNN N1"
      ]
    },
    {
      "cell_type": "code",
      "execution_count": null,
      "metadata": {
        "id": "Pkf9bcB7OLAt",
        "colab": {
          "base_uri": "https://localhost:8080/"
        },
        "outputId": "1bbddc7e-8f36-402e-a70a-79fe5b9ad633"
      },
      "outputs": [
        {
          "output_type": "execute_result",
          "data": {
            "text/plain": [
              "{'algorithm': 'auto',\n",
              " 'leaf_size': 30,\n",
              " 'metric': 'minkowski',\n",
              " 'metric_params': None,\n",
              " 'n_jobs': None,\n",
              " 'n_neighbors': 5,\n",
              " 'p': 2,\n",
              " 'weights': 'uniform'}"
            ]
          },
          "metadata": {},
          "execution_count": 117
        }
      ],
      "source": [
        "#Crear el modelo,arrancamos eligiendo 10 vecinos mas cercanos y distancia euclidea\n",
        "KNN_Classifier_N1 = KNeighborsClassifier(metric='euclidean', n_neighbors=10)\n",
        "\n",
        "#vemos sus parámetros\n",
        "KNN_Classifier.get_params()"
      ]
    },
    {
      "cell_type": "code",
      "execution_count": null,
      "metadata": {
        "id": "5ODbNahfO_WT"
      },
      "outputs": [],
      "source": [
        "#Entrenar el modelo\n",
        "KNN_Classifier_N1.fit(x_train, y_train)\n",
        "\n",
        "#Predicción sobre test\n",
        "y_pred = KNN_Classifier_N1.predict(x_test)"
      ]
    },
    {
      "cell_type": "code",
      "execution_count": null,
      "metadata": {
        "id": "49AVjhLpO_WU",
        "colab": {
          "base_uri": "https://localhost:8080/"
        },
        "outputId": "d2cf1e9f-a45c-414e-a655-857406d4966b"
      },
      "outputs": [
        {
          "output_type": "stream",
          "name": "stdout",
          "text": [
            "correctas:  8915\n",
            "total:  12203\n"
          ]
        }
      ],
      "source": [
        "#Cantidad de aciertos\n",
        "print('correctas: ', np.sum(y_test == y_pred))\n",
        "print('total: ', len(y_test))"
      ]
    },
    {
      "cell_type": "code",
      "execution_count": null,
      "metadata": {
        "id": "rWzH9x07OBRY",
        "colab": {
          "base_uri": "https://localhost:8080/"
        },
        "outputId": "1c461ab1-10e6-4281-c4c4-40c8475a6068"
      },
      "outputs": [
        {
          "output_type": "execute_result",
          "data": {
            "text/plain": [
              "0.7256341789052071"
            ]
          },
          "metadata": {},
          "execution_count": 120
        }
      ],
      "source": [
        "f1_score(y_test,y_pred)"
      ]
    },
    {
      "cell_type": "markdown",
      "metadata": {
        "id": "sDjkAjoSPhOb"
      },
      "source": [
        "### KNN N2"
      ]
    },
    {
      "cell_type": "code",
      "execution_count": null,
      "metadata": {
        "id": "_hLoOd-2Pt8-",
        "colab": {
          "base_uri": "https://localhost:8080/"
        },
        "outputId": "071f200a-b564-4a9c-d2f4-27d61965257d"
      },
      "outputs": [
        {
          "output_type": "execute_result",
          "data": {
            "text/plain": [
              "{'algorithm': 'auto',\n",
              " 'leaf_size': 30,\n",
              " 'metric': 'euclidean',\n",
              " 'metric_params': None,\n",
              " 'n_jobs': None,\n",
              " 'n_neighbors': 35,\n",
              " 'p': 2,\n",
              " 'weights': 'uniform'}"
            ]
          },
          "metadata": {},
          "execution_count": 121
        }
      ],
      "source": [
        "#Crear el modelo, decido aumentar la cantidad de vecinos cercanos\n",
        "KNN_Classifier_N2 = KNeighborsClassifier(metric='euclidean', n_neighbors=35)\n",
        "\n",
        "#vemos sus parámetros\n",
        "KNN_Classifier_N2.get_params()"
      ]
    },
    {
      "cell_type": "code",
      "execution_count": null,
      "metadata": {
        "id": "mrOSVXxxPpt8"
      },
      "outputs": [],
      "source": [
        "#Entrenar el modelo\n",
        "KNN_Classifier_N2.fit(x_train, y_train)\n",
        "\n",
        "#Predicción sobre test\n",
        "y_pred = KNN_Classifier_N2.predict(x_test)"
      ]
    },
    {
      "cell_type": "code",
      "execution_count": null,
      "metadata": {
        "id": "SXdK8DbjPpuL",
        "colab": {
          "base_uri": "https://localhost:8080/"
        },
        "outputId": "609d868a-6cd5-4238-97cd-3151eea64995"
      },
      "outputs": [
        {
          "output_type": "stream",
          "name": "stdout",
          "text": [
            "correctas:  8528\n",
            "total:  12203\n"
          ]
        }
      ],
      "source": [
        "#Cantidad de aciertos\n",
        "print('correctas: ', np.sum(y_test == y_pred))\n",
        "print('total: ', len(y_test))"
      ]
    },
    {
      "cell_type": "code",
      "execution_count": null,
      "metadata": {
        "id": "rsh3KTjjOPV4",
        "colab": {
          "base_uri": "https://localhost:8080/"
        },
        "outputId": "701d4cc6-6fe7-4c84-a028-50b2d9d7523b"
      },
      "outputs": [
        {
          "output_type": "execute_result",
          "data": {
            "text/plain": [
              "0.7132714363735665"
            ]
          },
          "metadata": {},
          "execution_count": 124
        }
      ],
      "source": [
        "f1_score(y_test,y_pred)"
      ]
    },
    {
      "cell_type": "markdown",
      "metadata": {
        "id": "n8UuPRENP8v9"
      },
      "source": [
        "### KNN N3"
      ]
    },
    {
      "cell_type": "code",
      "execution_count": null,
      "metadata": {
        "id": "0wstuAztP8wP",
        "colab": {
          "base_uri": "https://localhost:8080/"
        },
        "outputId": "7380adfd-4faf-4cf8-facf-fb738b9c5e10"
      },
      "outputs": [
        {
          "output_type": "execute_result",
          "data": {
            "text/plain": [
              "{'algorithm': 'auto',\n",
              " 'leaf_size': 30,\n",
              " 'metric': 'euclidean',\n",
              " 'metric_params': None,\n",
              " 'n_jobs': None,\n",
              " 'n_neighbors': 85,\n",
              " 'p': 2,\n",
              " 'weights': 'uniform'}"
            ]
          },
          "metadata": {},
          "execution_count": 125
        }
      ],
      "source": [
        "#Crear el modelo, seguimos aumentando la cant de vecinos con la misma metrica de distancia\n",
        "KNN_Classifier_N3 = KNeighborsClassifier(metric='euclidean', n_neighbors=85)\n",
        "\n",
        "#vemos sus parámetros\n",
        "KNN_Classifier_N3.get_params()"
      ]
    },
    {
      "cell_type": "code",
      "execution_count": null,
      "metadata": {
        "id": "JIuW4mvkP8wP"
      },
      "outputs": [],
      "source": [
        "#Entrenar el modelo\n",
        "KNN_Classifier_N3.fit(x_train, y_train)\n",
        "\n",
        "#Predicción sobre test\n",
        "y_pred = KNN_Classifier_N3.predict(x_test)"
      ]
    },
    {
      "cell_type": "code",
      "execution_count": null,
      "metadata": {
        "id": "6IbCqzjcP8wQ",
        "colab": {
          "base_uri": "https://localhost:8080/"
        },
        "outputId": "9d79c012-3781-4124-a26a-7fbc7d32b495"
      },
      "outputs": [
        {
          "output_type": "stream",
          "name": "stdout",
          "text": [
            "correctas:  8286\n",
            "total:  12203\n"
          ]
        }
      ],
      "source": [
        "#Cantidad de aciertos\n",
        "print('correctas: ', np.sum(y_test == y_pred))\n",
        "print('total: ', len(y_test))"
      ]
    },
    {
      "cell_type": "code",
      "execution_count": null,
      "metadata": {
        "id": "kcx1dS1YOZ1J",
        "colab": {
          "base_uri": "https://localhost:8080/"
        },
        "outputId": "6e509fec-da0b-42b3-fee0-f993bb6d86d0"
      },
      "outputs": [
        {
          "output_type": "execute_result",
          "data": {
            "text/plain": [
              "0.6960502832311631"
            ]
          },
          "metadata": {},
          "execution_count": 128
        }
      ],
      "source": [
        "f1_score(y_test,y_pred)"
      ]
    },
    {
      "cell_type": "code",
      "execution_count": null,
      "metadata": {
        "id": "hfmwCO7xP8wR",
        "colab": {
          "base_uri": "https://localhost:8080/"
        },
        "outputId": "e04fd690-4eb1-4d8e-bf26-c472a780f391"
      },
      "outputs": [
        {
          "output_type": "execute_result",
          "data": {
            "text/plain": [
              "0.6790133573711382"
            ]
          },
          "metadata": {},
          "execution_count": 129
        }
      ],
      "source": [
        "accuracy_score(y_test,y_pred)"
      ]
    },
    {
      "cell_type": "markdown",
      "metadata": {
        "id": "xoFb3nC6QNxM"
      },
      "source": [
        "### KNN N4"
      ]
    },
    {
      "cell_type": "code",
      "execution_count": null,
      "metadata": {
        "id": "6nuftr-kQNxf",
        "colab": {
          "base_uri": "https://localhost:8080/"
        },
        "outputId": "50696cbd-a122-4f58-f503-613cd4f6b74d"
      },
      "outputs": [
        {
          "output_type": "execute_result",
          "data": {
            "text/plain": [
              "{'algorithm': 'auto',\n",
              " 'leaf_size': 30,\n",
              " 'metric': 'minkowski',\n",
              " 'metric_params': None,\n",
              " 'n_jobs': None,\n",
              " 'n_neighbors': 85,\n",
              " 'p': 2,\n",
              " 'weights': 'uniform'}"
            ]
          },
          "metadata": {},
          "execution_count": 130
        }
      ],
      "source": [
        "#Crear el modelo, misma cantidad de vecinos, con la metrica de distancia por default\n",
        "KNN_Classifier_N4 = KNeighborsClassifier(n_neighbors=85)\n",
        "\n",
        "#vemos sus parámetros\n",
        "KNN_Classifier_N4.get_params()"
      ]
    },
    {
      "cell_type": "code",
      "execution_count": null,
      "metadata": {
        "id": "akn-XY4JQNxg"
      },
      "outputs": [],
      "source": [
        "#Entrenar el modelo\n",
        "KNN_Classifier_N4.fit(x_train, y_train)\n",
        "\n",
        "#Predicción sobre test\n",
        "y_pred = KNN_Classifier_N4.predict(x_test)"
      ]
    },
    {
      "cell_type": "code",
      "execution_count": null,
      "metadata": {
        "id": "f0XyP47-QNxh",
        "colab": {
          "base_uri": "https://localhost:8080/"
        },
        "outputId": "69a3785c-c625-4c28-ce08-0d6d80e7fb08"
      },
      "outputs": [
        {
          "output_type": "stream",
          "name": "stdout",
          "text": [
            "correctas:  8286\n",
            "total:  12203\n"
          ]
        }
      ],
      "source": [
        "#Cantidad de aciertos\n",
        "print('correctas: ', np.sum(y_test == y_pred))\n",
        "print('total: ', len(y_test))"
      ]
    },
    {
      "cell_type": "code",
      "execution_count": null,
      "metadata": {
        "id": "ZV-oYUkvOjH7",
        "colab": {
          "base_uri": "https://localhost:8080/"
        },
        "outputId": "b6ba37a0-302e-4b44-c3e6-0b7f1591709e"
      },
      "outputs": [
        {
          "output_type": "execute_result",
          "data": {
            "text/plain": [
              "0.6960502832311631"
            ]
          },
          "metadata": {},
          "execution_count": 133
        }
      ],
      "source": [
        "f1_score(y_test,y_pred)"
      ]
    },
    {
      "cell_type": "code",
      "execution_count": null,
      "metadata": {
        "id": "bG1VHFpSQNxi",
        "colab": {
          "base_uri": "https://localhost:8080/"
        },
        "outputId": "22716aa9-0ea9-416a-bed8-e85bf9b50c0d"
      },
      "outputs": [
        {
          "output_type": "execute_result",
          "data": {
            "text/plain": [
              "0.6790133573711382"
            ]
          },
          "metadata": {},
          "execution_count": 134
        }
      ],
      "source": [
        "accuracy_score(y_test,y_pred)"
      ]
    },
    {
      "cell_type": "markdown",
      "metadata": {
        "id": "IhHe7jP5Q1GO"
      },
      "source": [
        "### KNN N5"
      ]
    },
    {
      "cell_type": "code",
      "execution_count": null,
      "metadata": {
        "id": "6sBIRR4yQ1GP",
        "colab": {
          "base_uri": "https://localhost:8080/"
        },
        "outputId": "364d05be-ef57-49d0-99ae-126d7899ddfb"
      },
      "outputs": [
        {
          "output_type": "execute_result",
          "data": {
            "text/plain": [
              "{'algorithm': 'auto',\n",
              " 'leaf_size': 30,\n",
              " 'metric': 'minkowski',\n",
              " 'metric_params': None,\n",
              " 'n_jobs': None,\n",
              " 'n_neighbors': 5,\n",
              " 'p': 2,\n",
              " 'weights': 'uniform'}"
            ]
          },
          "metadata": {},
          "execution_count": 135
        }
      ],
      "source": [
        "#Crear el modelo, aumento la cantidad de vecinos\n",
        "KNN_Classifier_N5 = KNeighborsClassifier(n_neighbors=165)\n",
        "\n",
        "#vemos sus parámetros\n",
        "KNN_Classifier.get_params()"
      ]
    },
    {
      "cell_type": "code",
      "execution_count": null,
      "metadata": {
        "id": "sv_OpfkBQ1GQ"
      },
      "outputs": [],
      "source": [
        "#Entrenar el modelo\n",
        "KNN_Classifier_N5.fit(x_train, y_train)\n",
        "\n",
        "#Predicción sobre test\n",
        "y_pred = KNN_Classifier_N5.predict(x_test)"
      ]
    },
    {
      "cell_type": "code",
      "execution_count": null,
      "metadata": {
        "id": "mMJvKDRDQ1GQ",
        "colab": {
          "base_uri": "https://localhost:8080/"
        },
        "outputId": "20bbefaf-7154-43e9-abb4-a2d47c4e7b0a"
      },
      "outputs": [
        {
          "output_type": "stream",
          "name": "stdout",
          "text": [
            "correctas:  8081\n",
            "total:  12203\n"
          ]
        }
      ],
      "source": [
        "#Cantidad de aciertos\n",
        "print('correctas: ', np.sum(y_test == y_pred))\n",
        "print('total: ', len(y_test))"
      ]
    },
    {
      "cell_type": "code",
      "execution_count": null,
      "metadata": {
        "id": "83q78uCBOn-o",
        "colab": {
          "base_uri": "https://localhost:8080/"
        },
        "outputId": "613b2257-cd5d-4e87-b24e-dd54eeb462d0"
      },
      "outputs": [
        {
          "output_type": "execute_result",
          "data": {
            "text/plain": [
              "0.6863968350578211"
            ]
          },
          "metadata": {},
          "execution_count": 138
        }
      ],
      "source": [
        "f1_score(y_test,y_pred) "
      ]
    },
    {
      "cell_type": "markdown",
      "metadata": {
        "id": "rboOOGkcmLT1"
      },
      "source": [
        "En base a esto podria deducir que a medida que aumentamos la cantidad de vecinos, f1 score disminuye. Pero decidimos seguir probando"
      ]
    },
    {
      "cell_type": "markdown",
      "metadata": {
        "id": "JhCV5f3RROd4"
      },
      "source": [
        "### KNN N6"
      ]
    },
    {
      "cell_type": "code",
      "execution_count": null,
      "metadata": {
        "id": "PsTA3z3rROd6",
        "colab": {
          "base_uri": "https://localhost:8080/"
        },
        "outputId": "4d0a19c5-0eec-416e-a6e6-0cd8c8e2ab68"
      },
      "outputs": [
        {
          "output_type": "execute_result",
          "data": {
            "text/plain": [
              "{'algorithm': 'auto',\n",
              " 'leaf_size': 30,\n",
              " 'metric': 'euclidean',\n",
              " 'metric_params': None,\n",
              " 'n_jobs': None,\n",
              " 'n_neighbors': 4,\n",
              " 'p': 2,\n",
              " 'weights': 'uniform'}"
            ]
          },
          "metadata": {},
          "execution_count": 139
        }
      ],
      "source": [
        "#Crear el modelo, probamos si nuestra sospecha es cierta y disminuimos el numero de vecinos\n",
        "KNN_Classifier_N6 = KNeighborsClassifier(metric='euclidean',n_neighbors=4)\n",
        "\n",
        "#vemos sus parámetros\n",
        "KNN_Classifier_N6.get_params()"
      ]
    },
    {
      "cell_type": "code",
      "execution_count": null,
      "metadata": {
        "id": "RncUhaysROd6"
      },
      "outputs": [],
      "source": [
        "#Entrenar el modelo\n",
        "KNN_Classifier_N6.fit(x_train, y_train)\n",
        "\n",
        "#Predicción sobre test\n",
        "y_pred = KNN_Classifier_N6.predict(x_test)"
      ]
    },
    {
      "cell_type": "code",
      "execution_count": null,
      "metadata": {
        "id": "rZCLzG5dROd7",
        "colab": {
          "base_uri": "https://localhost:8080/"
        },
        "outputId": "50dcb235-f028-486f-d12d-1036499eabd1"
      },
      "outputs": [
        {
          "output_type": "stream",
          "name": "stdout",
          "text": [
            "correctas:  9153\n",
            "total:  12203\n"
          ]
        }
      ],
      "source": [
        "#Cantidad de aciertos\n",
        "print('correctas: ', np.sum(y_test == y_pred))\n",
        "print('total: ', len(y_test))"
      ]
    },
    {
      "cell_type": "code",
      "execution_count": null,
      "metadata": {
        "id": "OZHAPeRXOvrK",
        "colab": {
          "base_uri": "https://localhost:8080/"
        },
        "outputId": "eef2c603-1fc2-4596-87d6-98fc14c30f33"
      },
      "outputs": [
        {
          "output_type": "execute_result",
          "data": {
            "text/plain": [
              "0.7326906222611743"
            ]
          },
          "metadata": {},
          "execution_count": 142
        }
      ],
      "source": [
        "f1_score(y_test,y_pred) "
      ]
    },
    {
      "cell_type": "markdown",
      "metadata": {
        "id": "ZwrAan4ISHT1"
      },
      "source": [
        "### KNN N7"
      ]
    },
    {
      "cell_type": "code",
      "execution_count": null,
      "metadata": {
        "id": "HJU-8BEzSHUG",
        "colab": {
          "base_uri": "https://localhost:8080/"
        },
        "outputId": "6683c3c1-9c74-416c-92e5-a01d1b20b440"
      },
      "outputs": [
        {
          "output_type": "execute_result",
          "data": {
            "text/plain": [
              "{'algorithm': 'auto',\n",
              " 'leaf_size': 30,\n",
              " 'metric': 'minkowski',\n",
              " 'metric_params': None,\n",
              " 'n_jobs': None,\n",
              " 'n_neighbors': 5,\n",
              " 'p': 2,\n",
              " 'weights': 'uniform'}"
            ]
          },
          "metadata": {},
          "execution_count": 143
        }
      ],
      "source": [
        "#Crear el modelo, decidimos usar la metrica de distancia euclidea, con una cant de vecinos baja.\n",
        "KNN_Classifier_N7 = KNeighborsClassifier(metric='euclidean',n_neighbors=5)\n",
        "\n",
        "#vemos sus parámetros\n",
        "KNN_Classifier.get_params()"
      ]
    },
    {
      "cell_type": "code",
      "execution_count": null,
      "metadata": {
        "id": "QWNThhLzSHUH"
      },
      "outputs": [],
      "source": [
        "#Entrenar el modelo\n",
        "KNN_Classifier_N7.fit(x_train, y_train)\n",
        "\n",
        "#Predicción sobre test\n",
        "y_pred = KNN_Classifier_N7.predict(x_test)"
      ]
    },
    {
      "cell_type": "code",
      "execution_count": null,
      "metadata": {
        "id": "Evw9JOcYSHUI",
        "colab": {
          "base_uri": "https://localhost:8080/"
        },
        "outputId": "ee063f1d-f164-4aea-f525-8cb11b97bdeb"
      },
      "outputs": [
        {
          "output_type": "stream",
          "name": "stdout",
          "text": [
            "correctas:  9002\n",
            "total:  12203\n"
          ]
        }
      ],
      "source": [
        "#Cantidad de aciertos\n",
        "print('correctas: ', np.sum(y_test == y_pred))\n",
        "print('total: ', len(y_test))"
      ]
    },
    {
      "cell_type": "code",
      "execution_count": null,
      "metadata": {
        "id": "zak9xRqTO2uU",
        "colab": {
          "base_uri": "https://localhost:8080/"
        },
        "outputId": "bf25f5ee-1456-41e0-d432-edd2c7e00d63"
      },
      "outputs": [
        {
          "output_type": "execute_result",
          "data": {
            "text/plain": [
              "0.7441860465116278"
            ]
          },
          "metadata": {},
          "execution_count": 146
        }
      ],
      "source": [
        "f1_score(y_test,y_pred)"
      ]
    },
    {
      "cell_type": "code",
      "execution_count": null,
      "metadata": {
        "id": "_NCh3HovSHUI",
        "colab": {
          "base_uri": "https://localhost:8080/"
        },
        "outputId": "abf9e261-44f9-43a1-bae9-378a92215868"
      },
      "outputs": [
        {
          "output_type": "execute_result",
          "data": {
            "text/plain": [
              "0.7376874539047775"
            ]
          },
          "metadata": {},
          "execution_count": 147
        }
      ],
      "source": [
        "accuracy_score(y_test,y_pred)"
      ]
    },
    {
      "cell_type": "markdown",
      "metadata": {
        "id": "0GZ6yVy6SVko"
      },
      "source": [
        "### KNN N8"
      ]
    },
    {
      "cell_type": "code",
      "execution_count": null,
      "metadata": {
        "id": "Vb3ZNiBRSVk7",
        "colab": {
          "base_uri": "https://localhost:8080/"
        },
        "outputId": "681102e4-9006-4a27-bc60-ff363792ff5f"
      },
      "outputs": [
        {
          "output_type": "execute_result",
          "data": {
            "text/plain": [
              "{'algorithm': 'auto',\n",
              " 'leaf_size': 30,\n",
              " 'metric': 'euclidean',\n",
              " 'metric_params': None,\n",
              " 'n_jobs': None,\n",
              " 'n_neighbors': 3,\n",
              " 'p': 2,\n",
              " 'weights': 'uniform'}"
            ]
          },
          "metadata": {},
          "execution_count": 148
        }
      ],
      "source": [
        "#Crear el modelo, decidimos bajar mucho mas la cant de vecinos\n",
        "KNN_Classifier_N8 = KNeighborsClassifier(metric='euclidean',n_neighbors=3)\n",
        "\n",
        "#vemos sus parámetros\n",
        "KNN_Classifier_N8.get_params()"
      ]
    },
    {
      "cell_type": "code",
      "execution_count": null,
      "metadata": {
        "id": "B1LdRPIWSVk8"
      },
      "outputs": [],
      "source": [
        "#Entrenar el modelo\n",
        "KNN_Classifier_N8.fit(x_train, y_train)\n",
        "\n",
        "#Predicción sobre test\n",
        "y_pred = KNN_Classifier_N8.predict(x_test)"
      ]
    },
    {
      "cell_type": "code",
      "execution_count": null,
      "metadata": {
        "id": "xjnNsBNjSVk9",
        "colab": {
          "base_uri": "https://localhost:8080/"
        },
        "outputId": "584976fc-7ad3-4a9f-9ca8-ce4d3156b70b"
      },
      "outputs": [
        {
          "output_type": "stream",
          "name": "stdout",
          "text": [
            "correctas:  9111\n",
            "total:  12203\n"
          ]
        }
      ],
      "source": [
        "#Cantidad de aciertos\n",
        "print('correctas: ', np.sum(y_test == y_pred))\n",
        "print('total: ', len(y_test))"
      ]
    },
    {
      "cell_type": "code",
      "execution_count": null,
      "metadata": {
        "id": "NQeqr1K2m_mZ",
        "colab": {
          "base_uri": "https://localhost:8080/"
        },
        "outputId": "d7fb65e5-3399-475c-e474-c12e64dc5350"
      },
      "outputs": [
        {
          "output_type": "execute_result",
          "data": {
            "text/plain": [
              "0.7534290271132377"
            ]
          },
          "metadata": {},
          "execution_count": 151
        }
      ],
      "source": [
        "f1_score(y_test,y_pred)"
      ]
    },
    {
      "cell_type": "markdown",
      "metadata": {
        "id": "zz7_1HJrSoe4"
      },
      "source": [
        "### KNN N9"
      ]
    },
    {
      "cell_type": "code",
      "execution_count": null,
      "metadata": {
        "id": "FU1mXLO5Soe5",
        "colab": {
          "base_uri": "https://localhost:8080/"
        },
        "outputId": "fb807abe-2b3b-4236-9c9b-ceb6b66d23b4"
      },
      "outputs": [
        {
          "output_type": "execute_result",
          "data": {
            "text/plain": [
              "{'algorithm': 'auto',\n",
              " 'leaf_size': 30,\n",
              " 'metric': 'minkowski',\n",
              " 'metric_params': None,\n",
              " 'n_jobs': None,\n",
              " 'n_neighbors': 5,\n",
              " 'p': 2,\n",
              " 'weights': 'uniform'}"
            ]
          },
          "metadata": {},
          "execution_count": 152
        }
      ],
      "source": [
        "#Crear el modelo, seguimos probando\n",
        "KNN_Classifier_N9 = KNeighborsClassifier(n_neighbors=3)\n",
        "\n",
        "#vemos sus parámetros\n",
        "KNN_Classifier.get_params()"
      ]
    },
    {
      "cell_type": "code",
      "execution_count": null,
      "metadata": {
        "id": "_vQOLDMDSoe6"
      },
      "outputs": [],
      "source": [
        "#Entrenar el modelo\n",
        "KNN_Classifier_N9.fit(x_train, y_train)\n",
        "\n",
        "#Predicción sobre test\n",
        "y_pred = KNN_Classifier_N9.predict(x_test)"
      ]
    },
    {
      "cell_type": "code",
      "execution_count": null,
      "metadata": {
        "id": "dgrPAIGsSoe7",
        "colab": {
          "base_uri": "https://localhost:8080/"
        },
        "outputId": "eefbd5a0-8e86-48e5-8127-37b518d2f061"
      },
      "outputs": [
        {
          "output_type": "stream",
          "name": "stdout",
          "text": [
            "correctas:  9111\n",
            "total:  12203\n"
          ]
        }
      ],
      "source": [
        "#Cantidad de aciertos\n",
        "print('correctas: ', np.sum(y_test == y_pred))\n",
        "print('total: ', len(y_test))"
      ]
    },
    {
      "cell_type": "code",
      "execution_count": null,
      "metadata": {
        "id": "y4D_4Vl3Soe7",
        "colab": {
          "base_uri": "https://localhost:8080/"
        },
        "outputId": "8bb2b686-24a8-4b14-ff26-fef0d68bd114"
      },
      "outputs": [
        {
          "output_type": "execute_result",
          "data": {
            "text/plain": [
              "0.74661968368434"
            ]
          },
          "metadata": {},
          "execution_count": 155
        }
      ],
      "source": [
        "accuracy_score(y_test,y_pred)"
      ]
    },
    {
      "cell_type": "markdown",
      "metadata": {
        "id": "tDRtXTbCnLqV"
      },
      "source": [
        "Despues de tantas pruebas, es muy probable que la relacion entre la cantidad de vecinos y el f1score es inversa. Por lo que decidimos elegir rangos y verlos graficamente"
      ]
    },
    {
      "cell_type": "markdown",
      "metadata": {
        "id": "PqEOKamUTrTe"
      },
      "source": [
        "### KNN Rango 1 a 50"
      ]
    },
    {
      "cell_type": "markdown",
      "metadata": {
        "id": "m1XxeQ25naWd"
      },
      "source": [
        "Inicialmente quisimos probar con todo el tamaño de x, pero iba atomar mucho tiempo. Por lo que decidimos arrancar de 1 a 50 vecinos"
      ]
    },
    {
      "cell_type": "code",
      "execution_count": null,
      "metadata": {
        "id": "YHNEImH4N2sB"
      },
      "outputs": [],
      "source": [
        "from sklearn.model_selection import cross_val_score\n",
        "\n",
        "k_range=range(1,50) #canidad de vecinos a probar\n",
        "\n",
        "k_scores=[] # accuracy para cada K utilizado\n",
        "\n",
        "for k in k_range:\n",
        "    #clasificador Knn\n",
        "    knn=KNeighborsClassifier(n_neighbors=k)\n",
        "    #uso 10 folds\n",
        "    scores=cross_val_score(knn,x_train,y_train,cv=10,scoring='accuracy')\n",
        "    #promedio las 10 métricas\n",
        "    k_scores.append(scores.mean())"
      ]
    },
    {
      "cell_type": "code",
      "execution_count": null,
      "metadata": {
        "id": "b-4ikEGpOnN6",
        "colab": {
          "base_uri": "https://localhost:8080/",
          "height": 472
        },
        "outputId": "a6981b0c-2bf2-4444-ffa6-1fa56775a426"
      },
      "outputs": [
        {
          "output_type": "display_data",
          "data": {
            "text/plain": [
              "<Figure size 640x480 with 1 Axes>"
            ],
            "image/png": "[encoded data removed]"
          },
          "metadata": {}
        }
      ],
      "source": [
        "#ploteamos accuracy vs cantidad de vecinos\n",
        "plt.plot(k_range, k_scores)\n",
        "plt.xlabel('Cantidad de Vecinos')\n",
        "plt.ylabel('Cross Validation F1Score')\n",
        "plt.title('Accuracy vs Cantidad de Vecinos')\n",
        "plt.show()"
      ]
    },
    {
      "cell_type": "code",
      "execution_count": null,
      "metadata": {
        "id": "5nMhBKsf3GhV"
      },
      "outputs": [],
      "source": [
        "from sklearn.model_selection import cross_val_score\n",
        "\n",
        "k_range=range(1,50) #canidad de vecinos a probar\n",
        "\n",
        "k_scores=[] # accuracy para cada K utilizado\n",
        "\n",
        "for k in k_range:\n",
        "    #clasificador Knn\n",
        "    knn=KNeighborsClassifier(n_neighbors=k)\n",
        "    #uso 10 folds\n",
        "    scores=cross_val_score(knn,x_train,y_train,cv=10,scoring='f1')\n",
        "    #promedio las 10 métricas\n",
        "    k_scores.append(scores.mean())"
      ]
    },
    {
      "cell_type": "code",
      "execution_count": null,
      "metadata": {
        "id": "zMcbgKhw3Hbk",
        "colab": {
          "base_uri": "https://localhost:8080/",
          "height": 472
        },
        "outputId": "6046c2e5-b420-4ed9-8cb7-620448f6a8a7"
      },
      "outputs": [
        {
          "output_type": "display_data",
          "data": {
            "text/plain": [
              "<Figure size 640x480 with 1 Axes>"
            ],
            "image/png": "[encoded data removed]"
          },
          "metadata": {}
        }
      ],
      "source": [
        "#ploteamos f1score vs cantidad de vecinos\n",
        "plt.plot(k_range, k_scores)\n",
        "plt.xlabel('Cantidad de Vecinos')\n",
        "plt.ylabel('Cross Validation F1Score')\n",
        "plt.title('F1Score vs Cantidad de Vecinos')\n",
        "plt.show()"
      ]
    },
    {
      "cell_type": "markdown",
      "metadata": {
        "id": "U0X4E4dRnmBy"
      },
      "source": [
        "Vemos que el mejor F1_Score lo vamos a obtener con una cantidad pequeña de vecinos"
      ]
    },
    {
      "cell_type": "markdown",
      "metadata": {
        "id": "cfFYUzpVZQks"
      },
      "source": [
        "### KNN Rango 50 a 80"
      ]
    },
    {
      "cell_type": "markdown",
      "metadata": {
        "id": "FjlGDLR5ntbN"
      },
      "source": [
        "Por las dudas, decidimos incrementar un poco mas nuestro rango"
      ]
    },
    {
      "cell_type": "code",
      "execution_count": null,
      "metadata": {
        "id": "6LpW0MQVYGH1"
      },
      "outputs": [],
      "source": [
        "from sklearn.model_selection import cross_val_score\n",
        "\n",
        "k_range=range(50,80) #canidad de vecinos a probar\n",
        "\n",
        "k_scores=[] # accuracy para cada K utilizado\n",
        "\n",
        "for k in k_range:\n",
        "    #clasificador Knn\n",
        "    knn=KNeighborsClassifier(n_neighbors=k)\n",
        "    #uso 10 folds\n",
        "    scores=cross_val_score(knn,x_train,y_train,cv=10,scoring='accuracy')\n",
        "    #promedio las 10 métricas\n",
        "    k_scores.append(scores.mean())"
      ]
    },
    {
      "cell_type": "code",
      "execution_count": null,
      "metadata": {
        "id": "v6KJNcaZYGH3",
        "colab": {
          "base_uri": "https://localhost:8080/",
          "height": 472
        },
        "outputId": "fbebc93d-6b4a-4a63-f2a5-2759b45d17f3"
      },
      "outputs": [
        {
          "output_type": "display_data",
          "data": {
            "text/plain": [
              "<Figure size 640x480 with 1 Axes>"
            ],
            "image/png": "[encoded data removed]"
          },
          "metadata": {}
        }
      ],
      "source": [
        "#ploteamos accuracy vs cantidad de vecinos\n",
        "plt.plot(k_range, k_scores)\n",
        "plt.xlabel('Cantidad de Vecinos')\n",
        "plt.ylabel('Cross Validation Accuracy')\n",
        "plt.title('Accuracy vs Cantidad de Vecinos')\n",
        "plt.show()"
      ]
    },
    {
      "cell_type": "code",
      "execution_count": null,
      "metadata": {
        "id": "-ca4flqU2efi"
      },
      "outputs": [],
      "source": [
        "from sklearn.model_selection import cross_val_score\n",
        "\n",
        "k_range=range(50,80) #canidad de vecinos a probar\n",
        "\n",
        "k_scores=[] # accuracy para cada K utilizado\n",
        "\n",
        "for k in k_range:\n",
        "    #clasificador Knn\n",
        "    knn=KNeighborsClassifier(n_neighbors=k)\n",
        "    #uso 10 folds\n",
        "    scores=cross_val_score(knn,x_train,y_train,cv=10,scoring='f1') #PRUEBO CON F1SCORE\n",
        "    #promedio las 10 métricas\n",
        "    k_scores.append(scores.mean())"
      ]
    },
    {
      "cell_type": "code",
      "execution_count": null,
      "metadata": {
        "id": "6LPUc1B72hkC",
        "colab": {
          "base_uri": "https://localhost:8080/",
          "height": 472
        },
        "outputId": "044d2f02-9080-4aaf-97c1-23a3cc7e0fc8"
      },
      "outputs": [
        {
          "output_type": "display_data",
          "data": {
            "text/plain": [
              "<Figure size 640x480 with 1 Axes>"
            ],
            "image/png": "[encoded data removed]"
          },
          "metadata": {}
        }
      ],
      "source": [
        "#ploteamos f1Score vs cantidad de vecinos\n",
        "plt.plot(k_range, k_scores)\n",
        "plt.xlabel('Cantidad de Vecinos')\n",
        "plt.ylabel('Cross Validation Accuracy')\n",
        "plt.title('F1Score vs Cantidad de Vecinos')\n",
        "plt.show()"
      ]
    },
    {
      "cell_type": "markdown",
      "metadata": {
        "id": "TU6H43Dpn0XP"
      },
      "source": [
        "Comprobamos nuestra sospecha, la relacion entre la cant de vecinos y mi metrica f1_score es inversa"
      ]
    },
    {
      "cell_type": "markdown",
      "metadata": {
        "id": "_kR08ytic0zi"
      },
      "source": [
        "### Random Search KNN"
      ]
    },
    {
      "cell_type": "markdown",
      "metadata": {
        "id": "RiREou-eoC7X"
      },
      "source": [
        "Decidimos buscar nuestros mejores parametros, como anteriormente vimos decidimos usar un rango de 1 a 12 vecinos para esta busqueda. "
      ]
    },
    {
      "cell_type": "code",
      "execution_count": null,
      "metadata": {
        "id": "2Xb38zj2cwUo",
        "colab": {
          "base_uri": "https://localhost:8080/"
        },
        "outputId": "19c2cc83-848a-40ac-d221-e6a0a2829654"
      },
      "outputs": [
        {
          "output_type": "execute_result",
          "data": {
            "text/plain": [
              "array([0.75444824, 0.77726735, 0.79918971, 0.75023373, 0.79896889,\n",
              "       0.75669771, 0.76356238, 0.73499748, 0.77017825, 0.74927201])"
            ]
          },
          "metadata": {},
          "execution_count": 164
        }
      ],
      "source": [
        "\n",
        "#Grilla de Parámetros\n",
        "params_grid={ 'n_neighbors':range(1,12), \n",
        "              'weights':['distance','uniform'],\n",
        "              'algorithm':['ball_tree', 'kd_tree'],\n",
        "              'metric':['euclidean','manhattan','chebyshev'] #ESAS 3 SIRVEN PARA CUALQUIER ALGORITMO\n",
        "             }\n",
        "#Clasificador KNN\n",
        "knn=KNeighborsClassifier()\n",
        "\n",
        "#Random Search con 10 Folds y 10 iteraciones\n",
        "rand = RandomizedSearchCV(knn, params_grid, cv=10, scoring='f1', n_iter=10, random_state=5) #LE DAMOS EL KNN BASE, QUE BUSQUE HACIENDO 10 FOLDS, QUE BUSQUE 10 JUEGOS DE PARAMETROS(n_iter)\n",
        "#CV = CANTIDAD DE VECES QUE SE VALIDA\n",
        "\n",
        "rand.fit(x_train, y_train) #LO ENTRENO\n",
        "rand.cv_results_['mean_test_score'] #DAME EL PROMEDIO DE TU SCORE, PORQUE PODRIA DARME UN CASO BORDE SI LE PIDO EL MAXIMO"
      ]
    },
    {
      "cell_type": "code",
      "execution_count": null,
      "metadata": {
        "id": "XYzCXj10HJc7",
        "colab": {
          "base_uri": "https://localhost:8080/"
        },
        "outputId": "2d8fae4c-cf17-4a29-931a-55d51da9a250"
      },
      "outputs": [
        {
          "output_type": "execute_result",
          "data": {
            "text/plain": [
              "['knn_best_model.pkl']"
            ]
          },
          "metadata": {},
          "execution_count": 165
        }
      ],
      "source": [
        "joblib.dump(rand, 'knn_best_model.pkl')"
      ]
    },
    {
      "cell_type": "code",
      "execution_count": null,
      "metadata": {
        "id": "IIkjNCDwdtN_",
        "colab": {
          "base_uri": "https://localhost:8080/"
        },
        "outputId": "bc48ff1d-1578-4c40-acbc-97be5cc0473c"
      },
      "outputs": [
        {
          "output_type": "stream",
          "name": "stdout",
          "text": [
            "{'weights': 'distance', 'n_neighbors': 11, 'metric': 'manhattan', 'algorithm': 'ball_tree'}\n",
            "0.7991897104730591\n"
          ]
        }
      ],
      "source": [
        "#Mejores hiperparametros AHORA SI LE PIDO EL MEJOR SET DE PARAMETROS CON LA MEJOR METRICA\n",
        "print(rand.best_params_)\n",
        "#Mejor métrica\n",
        "print(rand.best_score_)"
      ]
    },
    {
      "cell_type": "code",
      "execution_count": null,
      "metadata": {
        "id": "S-VRX0zcGhq-"
      },
      "outputs": [],
      "source": [
        "#Predicción sobre test\n",
        "y_pred = rand.predict(x_test)"
      ]
    },
    {
      "cell_type": "code",
      "execution_count": null,
      "metadata": {
        "id": "Uu76NFjvJ1-p"
      },
      "outputs": [],
      "source": [
        "#Predicción sobre test\n",
        "predicciones = rand.predict(df_knntest[features])"
      ]
    },
    {
      "cell_type": "code",
      "execution_count": null,
      "metadata": {
        "id": "anunuCN1-K1f",
        "colab": {
          "base_uri": "https://localhost:8080/"
        },
        "outputId": "f0114fb8-9fdb-47f4-b6f4-9426c936c44d"
      },
      "outputs": [
        {
          "output_type": "execute_result",
          "data": {
            "text/plain": [
              "(26535, 2)"
            ]
          },
          "metadata": {},
          "execution_count": 169
        }
      ],
      "source": [
        "df_submission = pd.DataFrame({'id':df_test['id'], 'is_canceled':predicciones})\n",
        "df_submission.head()\n",
        "df_submission.shape\n"
      ]
    },
    {
      "cell_type": "code",
      "execution_count": null,
      "metadata": {
        "id": "zUg3IRLL_H8Q"
      },
      "outputs": [],
      "source": [
        "df_submission.to_csv('/content/drive/MyDrive/submissions/submission_KNN.csv', index=False)"
      ]
    },
    {
      "cell_type": "markdown",
      "metadata": {
        "id": "BlMX4BpxJoht"
      },
      "source": [
        "### Matriz de confusion"
      ]
    },
    {
      "cell_type": "code",
      "execution_count": null,
      "metadata": {
        "id": "w7v_BEmSJqh3",
        "colab": {
          "base_uri": "https://localhost:8080/",
          "height": 467
        },
        "outputId": "ca1606b7-205e-44b1-fa96-4ba94e84b1ce"
      },
      "outputs": [
        {
          "output_type": "execute_result",
          "data": {
            "text/plain": [
              "Text(50.722222222222214, 0.5, 'True')"
            ]
          },
          "metadata": {},
          "execution_count": 171
        },
        {
          "output_type": "display_data",
          "data": {
            "text/plain": [
              "<Figure size 640x480 with 2 Axes>"
            ],
            "image/png": "[encoded data removed]"
          },
          "metadata": {}
        }
      ],
      "source": [
        "#Creo la matriz de confusión\n",
        "tabla=confusion_matrix(y_test, y_pred)\n",
        "\n",
        "#Grafico la matriz de confusión\n",
        "sns.heatmap(tabla,cmap='GnBu',annot=True,fmt='g')\n",
        "plt.xlabel('Predicted')\n",
        "plt.ylabel('True')"
      ]
    },
    {
      "cell_type": "markdown",
      "metadata": {
        "id": "8pPY4f79o5fv"
      },
      "source": [
        "Concluimos con esa matriz de confusion que hizo buenas predicciones, por lo que vemos tiene un buen accuracy y f1_score"
      ]
    },
    {
      "cell_type": "code",
      "execution_count": null,
      "metadata": {
        "id": "S9xf3RBfi_OZ"
      },
      "outputs": [],
      "source": [
        "knn = rand"
      ]
    },
    {
      "cell_type": "markdown",
      "metadata": {
        "id": "TkkmSZuT3jRg"
      },
      "source": [
        "\n",
        "## b. Construir un clasificador SVM variando el kernel y los parámetros.\n",
        "\n"
      ]
    },
    {
      "cell_type": "markdown",
      "metadata": {
        "id": "93tOehJiXTqh"
      },
      "source": [
        "### Preparacion"
      ]
    },
    {
      "cell_type": "code",
      "execution_count": null,
      "metadata": {
        "id": "a57608COwU_S"
      },
      "outputs": [],
      "source": [
        "def metricas(y_pred,y_test):\n",
        "\n",
        "  print(classification_report(y_test,y_pred))\n",
        "  \n",
        "  cm = confusion_matrix(y_test,y_pred)\n",
        "  sns.heatmap(cm, cmap='Blues',annot=True,fmt='g')\n",
        "  plt.xlabel('Predicted')\n",
        "  plt.ylabel('True')"
      ]
    },
    {
      "cell_type": "code",
      "execution_count": null,
      "metadata": {
        "id": "vEP9MjowVWkD"
      },
      "outputs": [],
      "source": [
        "target= 'is_canceled'"
      ]
    },
    {
      "cell_type": "code",
      "execution_count": null,
      "metadata": {
        "id": "Q9MeI6KOV7MW"
      },
      "outputs": [],
      "source": [
        "datasetsvm = df.copy()"
      ]
    },
    {
      "cell_type": "code",
      "execution_count": null,
      "metadata": {
        "id": "ezuJq_1KV7MX"
      },
      "outputs": [],
      "source": [
        "df_svmtest = df_test.copy()"
      ]
    },
    {
      "cell_type": "markdown",
      "metadata": {
        "id": "zeDr8nb4XZzZ"
      },
      "source": [
        "### Preprocesamiento"
      ]
    },
    {
      "cell_type": "code",
      "execution_count": null,
      "metadata": {
        "id": "i60dCM_YeAA9"
      },
      "outputs": [],
      "source": [
        "#Creo conjuntos de train y test\n",
        "x_train, x_test, y_train, y_test = train_test_split(datasetsvm[features].values, datasetsvm[target].values, test_size=0.2, random_state=0)\n",
        "\n",
        "#Armo una version escalada con minmax (media=0 , var=1  )\n",
        "min_max_scaler = skp.MinMaxScaler()\n",
        "x_train_minmax = min_max_scaler.fit_transform(x_train) #transformo a min max\n",
        "x_test_minmax  = min_max_scaler.transform(x_test) \n",
        "\n",
        "#Armo una version estandarizada\n",
        "stand_scaler = skp.StandardScaler()\n",
        "x_train_norm = stand_scaler.fit_transform(x_train) #transformo standar\n",
        "x_test_norm=stand_scaler.transform(x_test)"
      ]
    },
    {
      "cell_type": "markdown",
      "metadata": {
        "id": "vRHQRYY-Xf2y"
      },
      "source": [
        "### SVM Estandar"
      ]
    },
    {
      "cell_type": "markdown",
      "metadata": {
        "id": "lkFgdOJZpI1h"
      },
      "source": [
        "Decidimos arrancar con un caso base, sin parametros, sin normalizar los datos"
      ]
    },
    {
      "cell_type": "code",
      "execution_count": null,
      "metadata": {
        "id": "Uc7kVjlxHLMG"
      },
      "outputs": [],
      "source": [
        "#Construyo un modelo SVM  \n",
        "svm = SVC()\n",
        "\n",
        "#Lo entreno con los datos sin escalar PRUEBO ENTRENANDO SIN NORMALIZAR\n",
        "svm.fit(x_train, y_train)\n",
        "\n",
        "#Hago la prediccion y calculo las métricas\n",
        "y_pred=svm.predict(x_test)\n",
        "metricas(y_pred,y_test)"
      ]
    },
    {
      "cell_type": "markdown",
      "metadata": {
        "id": "nwPm6brmY5xB"
      },
      "source": [
        "### SVM Normalizado"
      ]
    },
    {
      "cell_type": "markdown",
      "metadata": {
        "id": "b2wzol1kpY_P"
      },
      "source": [
        "Ahora decidimos que los datos tengan una desviacion estandar de 1, dado que con esa transformacion podemos mejorar los resultados"
      ]
    },
    {
      "cell_type": "code",
      "execution_count": null,
      "metadata": {
        "id": "WEIljgEbwbE0"
      },
      "outputs": [],
      "source": [
        "#Construyo un modelo SVM CON LOS TRANSFORMADOS POR STANDAR\n",
        "svm_norm= SVC()\n",
        "\n",
        "#Lo entreno con los datos escalados con normalizacion\n",
        "svm_norm.fit(x_train_norm, y_train)\n",
        "\n",
        "#Hago la prediccion y calculo las métricas\n",
        "y_pred_norm=svm_norm.predict(x_test_norm)\n",
        "metricas(y_pred_norm,y_test)"
      ]
    },
    {
      "cell_type": "code",
      "execution_count": null,
      "metadata": {
        "id": "BnLeVPGTfEHo"
      },
      "outputs": [],
      "source": [
        "#Construyo un modelo SVM TRANSFORMADO POR MIN MAX\n",
        "svm_minmax= SVC()\n",
        "\n",
        "#Lo entreno con los datos escalados con min max\n",
        "svm_minmax.fit(x_train_minmax, y_train)\n",
        "\n",
        "#Hago la prediccion y calculo las métricas\n",
        "y_pred_minmax=svm_minmax.predict(x_test_minmax)\n",
        "metricas(y_pred_minmax,y_test)"
      ]
    },
    {
      "cell_type": "markdown",
      "metadata": {
        "id": "g-Vci8XKjJXq"
      },
      "source": [
        "### SVM GridSearch Busqueda hiperparametros\n"
      ]
    },
    {
      "cell_type": "markdown",
      "metadata": {
        "id": "lCW7lIrOkqb6"
      },
      "source": [
        "Es importante tener buenos hiperparametros de regularizacion para evitar el overfitting. En estos casos es mejor usar Grid Search que Random Search dado el primero evalua todas las combinaciones. "
      ]
    },
    {
      "cell_type": "markdown",
      "metadata": {
        "id": "LPnZT4Rxt2Rx"
      },
      "source": [
        "Busqueda de hiperparametros Kernel Lineal"
      ]
    },
    {
      "cell_type": "code",
      "execution_count": null,
      "metadata": {
        "id": "r1E9HP2OsqzO"
      },
      "outputs": [],
      "source": [
        "  \n",
        "# defining parameter range\n",
        "param_grid = {'C': [0.1, 1, 5], \n",
        "              'gamma': [0.01,0.001], #NO LO USA EL LINEAL\n",
        "              'kernel': ['linear']} \n",
        "folds = 4\n",
        "kfoldcv = StratifiedKFold(n_splits=folds) #RESPETE LA PROPORCION DE LA CLASE, EN LA MISMA PROPORCION ORIGINAL\n",
        "scorer_fn = make_scorer(sk.metrics.f1_score)\n",
        "grid = GridSearchCV(SVC(), param_grid, refit = True, verbose = 3,scoring = scorer_fn,cv=kfoldcv)\n",
        "  \n",
        "# fitting the model for grid search\n",
        "grid.fit(x_train_minmax, y_train)\n"
      ]
    },
    {
      "cell_type": "code",
      "source": [
        "joblib.dump(grid, '/content/drive/MyDrive/pkl/svm_lineal.pkl')"
      ],
      "metadata": {
        "id": "2FzdLK87MkqL"
      },
      "execution_count": null,
      "outputs": []
    },
    {
      "cell_type": "markdown",
      "metadata": {
        "id": "bEbZMi8DtHYT"
      },
      "source": [
        "Demoro mucho en ejecutarse pero obtuvimos estos parametros: C=5 ->f1score: 0.807"
      ]
    },
    {
      "cell_type": "markdown",
      "metadata": {
        "id": "tkAEEh43t_iL"
      },
      "source": [
        "Busqueda de Hiperparametros Kernel Radial"
      ]
    },
    {
      "cell_type": "code",
      "execution_count": null,
      "metadata": {
        "id": "UPb-lgH9ts15"
      },
      "outputs": [],
      "source": [
        "from sklearn.model_selection import GridSearchCV, StratifiedKFold,KFold\n",
        "from sklearn.metrics import make_scorer  \n",
        "# defining parameter range\n",
        "param_grid = {'C': [0.1, 1, 5], \n",
        "              'gamma': [0.01,0.001],\n",
        "              'kernel': ['rbf']} #PARA RADIAL KERNEL DESPUES DE VARIAS PRUEBAS OBTUVIMOS QUE LOS MEJORES HIPERPARAMETROS SON: C=5 y gamma= 0.01\n",
        "folds = 4\n",
        "kfoldcv = StratifiedKFold(n_splits=folds) #RESPETE LA PROPORCION DE LA CLASE, EN LA MISMA PROPORCION ORIGINAL\n",
        "scorer_fn = make_scorer(sk.metrics.f1_score)\n",
        "grid = GridSearchCV(SVC(), param_grid, refit = True, verbose = 3,scoring = scorer_fn,cv=kfoldcv)\n",
        "  \n",
        "# fitting the model for grid search\n",
        "grid.fit(x_train_minmax, y_train)\n"
      ]
    },
    {
      "cell_type": "code",
      "source": [
        "joblib.dump(grid, '/content/drive/MyDrive/pkl/svm_radial.pkl')"
      ],
      "metadata": {
        "id": "KyRWqQyEM8CE"
      },
      "execution_count": null,
      "outputs": []
    },
    {
      "cell_type": "markdown",
      "metadata": {
        "id": "PtSjbDLUtR9v"
      },
      "source": [
        "Mejores hiperparametros : C=5 y gamma= 0.01 ->f1score : 0.811"
      ]
    },
    {
      "cell_type": "markdown",
      "metadata": {
        "id": "aeD2Isj4uEWp"
      },
      "source": [
        "Busqueda de Hiperparametros Kernel Polinomial"
      ]
    },
    {
      "cell_type": "code",
      "execution_count": null,
      "metadata": {
        "id": "YVRKLJFttxdf"
      },
      "outputs": [],
      "source": [
        "from sklearn.model_selection import GridSearchCV, StratifiedKFold,KFold\n",
        "from sklearn.metrics import make_scorer  \n",
        "# defining parameter range\n",
        "param_grid = {'C': [0.1, 1, 5], \n",
        "              'gamma': [5, 0.01,0.001],\n",
        "              'kernel': ['poly']\n",
        "              } \n",
        "folds = 4\n",
        "kfoldcv = StratifiedKFold(n_splits=folds) #RESPETE LA PROPORCION DE LA CLASE, EN LA MISMA PROPORCION ORIGINAL\n",
        "scorer_fn = make_scorer(sk.metrics.f1_score)\n",
        "grid = GridSearchCV(SVC(), param_grid, refit = True, verbose = 3,scoring = scorer_fn,cv=kfoldcv)\n",
        "  \n",
        "# fitting the model for grid search\n",
        "grid.fit(x_train_minmax, y_train)\n"
      ]
    },
    {
      "cell_type": "code",
      "source": [
        "joblib.dump(grid, '/content/drive/MyDrive/pkl/svm_poly.pkl')"
      ],
      "metadata": {
        "id": "Eo0Jrz4WNNxn"
      },
      "execution_count": null,
      "outputs": []
    },
    {
      "cell_type": "code",
      "source": [
        "best_svm_poly = SVC(C=0.1, kernel=\"poly\", gamma=5)"
      ],
      "metadata": {
        "id": "KcQEslI1-CdC"
      },
      "execution_count": null,
      "outputs": []
    },
    {
      "cell_type": "markdown",
      "metadata": {
        "id": "6flb6DMqtdJq"
      },
      "source": [
        "Mejores hiperparametros : C=0.1 y gamma=5 f1score = 0.833"
      ]
    },
    {
      "cell_type": "markdown",
      "metadata": {
        "id": "jmiwl9VAYwUT"
      },
      "source": [
        "### SVM Kernel Lineal"
      ]
    },
    {
      "cell_type": "markdown",
      "metadata": {
        "id": "WgcQa1sPtoGs"
      },
      "source": [
        "Usando los best parameters obtenidos"
      ]
    },
    {
      "cell_type": "code",
      "execution_count": null,
      "metadata": {
        "id": "2XaD-bic1KCD"
      },
      "outputs": [],
      "source": [
        "#Creo un clasificador con kernel lineal y lo entreno sobre los datos escalados min-max \n",
        "clf = SVC(kernel='linear', C=5)\n",
        "clf.fit(x_train_minmax, y_train)\n",
        "\n",
        "#Hago la predicción y calculo las métricas\n",
        "y_pred_lin=clf.predict(x_test_minmax)\n",
        "metricas(y_pred_lin,y_test)"
      ]
    },
    {
      "cell_type": "code",
      "execution_count": null,
      "metadata": {
        "id": "YFrPbRUXUvMW"
      },
      "outputs": [],
      "source": [
        "predicciones_knnlineal =clf.predict(df_svmtest[features].values)"
      ]
    },
    {
      "cell_type": "code",
      "execution_count": null,
      "metadata": {
        "id": "YXkaV2QHVm-y"
      },
      "outputs": [],
      "source": [
        "df_submission = pd.DataFrame({'id':df_test['id'], 'is_canceled':predicciones_knnlineal})\n",
        "df_submission.head()\n",
        "df_submission.shape"
      ]
    },
    {
      "cell_type": "code",
      "execution_count": null,
      "metadata": {
        "id": "9rTmH2MQWLTW"
      },
      "outputs": [],
      "source": [
        "df_submission.to_csv('/content/drive/MyDrive/submissions/submission_svmklineal.csv', index=False)"
      ]
    },
    {
      "cell_type": "code",
      "execution_count": null,
      "metadata": {
        "id": "tt-WDdA1WTg1"
      },
      "outputs": [],
      "source": [
        "joblib.dump(clf, '/content/drive/MyDrive/pkl/svm_klineal_best_model.pkl')"
      ]
    },
    {
      "cell_type": "markdown",
      "metadata": {
        "id": "zfAOTByxY_2E"
      },
      "source": [
        "### SVM Kernel Polinomico"
      ]
    },
    {
      "cell_type": "markdown",
      "metadata": {
        "id": "FvI0MOjYtsW_"
      },
      "source": [
        "Usando los best parameters obtenidos"
      ]
    },
    {
      "cell_type": "code",
      "execution_count": null,
      "metadata": {
        "id": "aAUBkv2s7uMZ"
      },
      "outputs": [],
      "source": [
        "from sklearn.model_selection import GridSearchCV, StratifiedKFold,KFold\n",
        "from sklearn.metrics import make_scorer\n",
        "# defining parameter range\n",
        "param_grid = {'C': [0.1], \n",
        "              'gamma': [5],\n",
        "              'kernel': ['poly'],\n",
        "              } \n",
        "folds = 4\n",
        "kfoldcv = StratifiedKFold(n_splits=folds) #RESPETE LA PROPORCION DE LA CLASE, EN LA MISMA PROPORCION ORIGINAL\n",
        "scorer_fn = make_scorer(sk.metrics.f1_score)\n",
        "grid = GridSearchCV(SVC(), param_grid, refit = True, verbose = 3,scoring = scorer_fn,cv=kfoldcv)\n",
        "\n",
        "# fitting the model for grid search\n",
        "grid.fit(x_train_minmax, y_train)"
      ]
    },
    {
      "cell_type": "code",
      "source": [
        "best_svm_poly.fit(x_train_minmax, y_train)"
      ],
      "metadata": {
        "id": "dZjidBxK_hGS"
      },
      "execution_count": null,
      "outputs": []
    },
    {
      "cell_type": "code",
      "execution_count": null,
      "metadata": {
        "id": "y_zHKTVP77tf"
      },
      "outputs": [],
      "source": [
        "y_pred_pol=grid.predict(x_test_minmax)\n",
        "metricas(y_pred_pol,y_test)"
      ]
    },
    {
      "cell_type": "code",
      "execution_count": null,
      "metadata": {
        "id": "DpQYhRmVW3CN"
      },
      "outputs": [],
      "source": [
        "predicciones_svm_kpolinomial =grid.predict(df_svmtest[features].values)"
      ]
    },
    {
      "cell_type": "code",
      "execution_count": null,
      "metadata": {
        "id": "zp8yObbzXMi8"
      },
      "outputs": [],
      "source": [
        "df_submission = pd.DataFrame({'id':df_test['id'], 'is_canceled':predicciones_svm_kpolinomial})\n",
        "df_submission.head()\n",
        "df_submission.shape"
      ]
    },
    {
      "cell_type": "code",
      "execution_count": null,
      "metadata": {
        "id": "e_roOhjXf5WJ"
      },
      "outputs": [],
      "source": [
        "df_submission.to_csv('/content/drive/MyDrive/submissions/submission_svmkpolinomial.csv', index=False)"
      ]
    },
    {
      "cell_type": "markdown",
      "metadata": {
        "id": "Nrka2ZA_XeIY"
      },
      "source": [
        "### Kernel Radial"
      ]
    },
    {
      "cell_type": "markdown",
      "metadata": {
        "id": "9wzb6IFdtxHG"
      },
      "source": [
        "Usando los best parameters obtenidos"
      ]
    },
    {
      "cell_type": "code",
      "execution_count": null,
      "metadata": {
        "id": "-qH-_CQOvesF",
        "colab": {
          "base_uri": "https://localhost:8080/",
          "height": 613
        },
        "outputId": "520b7603-b482-4638-fc03-7848339485a0"
      },
      "outputs": [
        {
          "output_type": "stream",
          "name": "stdout",
          "text": [
            "              precision    recall  f1-score   support\n",
            "\n",
            "           0       0.83      0.79      0.81      6095\n",
            "           1       0.80      0.83      0.82      6108\n",
            "\n",
            "    accuracy                           0.81     12203\n",
            "   macro avg       0.81      0.81      0.81     12203\n",
            "weighted avg       0.81      0.81      0.81     12203\n",
            "\n"
          ]
        },
        {
          "output_type": "display_data",
          "data": {
            "text/plain": [
              "<Figure size 640x480 with 2 Axes>"
            ],
            "image/png": "[encoded data removed]"
          },
          "metadata": {}
        }
      ],
      "source": [
        "#Creo un clasificador con kernel radial y lo entreno sobre los datos escalados min-max CON LOS BEST PARAMETERS\n",
        "clf = SVC(kernel='rbf', C=5, gamma=0.01)\n",
        "clf.fit(x_train_minmax, y_train)\n",
        "\n",
        "#Hago la predicción y calculo las métricas\n",
        "y_pred_rad=clf.predict(x_test_minmax)\n",
        "metricas(y_pred_rad,y_test)"
      ]
    },
    {
      "cell_type": "code",
      "execution_count": null,
      "metadata": {
        "id": "a6PDApnwfVvZ"
      },
      "outputs": [],
      "source": [
        "predicciones_svm_kradial =clf.predict(df_svmtest[features].values)"
      ]
    },
    {
      "cell_type": "code",
      "execution_count": null,
      "metadata": {
        "id": "l079JkmDfZSt",
        "colab": {
          "base_uri": "https://localhost:8080/"
        },
        "outputId": "4d4694bc-4b85-43a4-b59f-03b2376d1abf"
      },
      "outputs": [
        {
          "output_type": "execute_result",
          "data": {
            "text/plain": [
              "(26535, 2)"
            ]
          },
          "metadata": {},
          "execution_count": 209
        }
      ],
      "source": [
        "df_submission = pd.DataFrame({'id':df_test['id'], 'is_canceled':predicciones_svm_kradial})\n",
        "df_submission.head()\n",
        "df_submission.shape"
      ]
    },
    {
      "cell_type": "code",
      "execution_count": null,
      "metadata": {
        "id": "HGq7qoqNgBa8"
      },
      "outputs": [],
      "source": [
        "df_submission.to_csv('/content/drive/MyDrive/submissions/submission_svmkradial.csv', index=False)"
      ]
    },
    {
      "cell_type": "code",
      "execution_count": null,
      "metadata": {
        "id": "O61HdgTyfdjY",
        "colab": {
          "base_uri": "https://localhost:8080/"
        },
        "outputId": "44f8fc8f-9851-4780-a493-c43a93abfbec"
      },
      "outputs": [
        {
          "output_type": "execute_result",
          "data": {
            "text/plain": [
              "['/content/drive/MyDrive/pkl/svm_kradial_best_model.pkl']"
            ]
          },
          "metadata": {},
          "execution_count": 211
        }
      ],
      "source": [
        "joblib.dump(clf, '/content/drive/MyDrive/pkl/svm_kradial_best_model.pkl')"
      ]
    },
    {
      "cell_type": "code",
      "execution_count": null,
      "metadata": {
        "id": "FLGAfLnnihQH"
      },
      "outputs": [],
      "source": [
        "svm_radial = clf;"
      ]
    },
    {
      "cell_type": "markdown",
      "metadata": {
        "id": "qfP5UBF93nfK"
      },
      "source": [
        "## c. Construir un clasificador RF y optimizar sus hiperparámetros mediante k-fold Cross Validation\n"
      ]
    },
    {
      "cell_type": "markdown",
      "metadata": {
        "id": "c7M71K88Qjpl"
      },
      "source": [
        "### Random Forest GridSearch"
      ]
    },
    {
      "cell_type": "markdown",
      "metadata": {
        "id": "xZmkrD04hK7j"
      },
      "source": [
        "#### Preparacion"
      ]
    },
    {
      "cell_type": "code",
      "execution_count": null,
      "metadata": {
        "id": "C7GVC_SyZzOO"
      },
      "outputs": [],
      "source": [
        "target= 'is_canceled'"
      ]
    },
    {
      "cell_type": "code",
      "execution_count": null,
      "metadata": {
        "id": "HEWLGrgvZzOP"
      },
      "outputs": [],
      "source": [
        "datasetRF = df.copy()"
      ]
    },
    {
      "cell_type": "code",
      "execution_count": null,
      "metadata": {
        "id": "dMoKxWMqZzOP"
      },
      "outputs": [],
      "source": [
        "df_RFtest = df_test.copy()"
      ]
    },
    {
      "cell_type": "code",
      "execution_count": null,
      "metadata": {
        "id": "WpjN8ILoZaSO"
      },
      "outputs": [],
      "source": [
        "#Creo conjuntos de train y test\n",
        "x_train, x_test, y_train, y_test = train_test_split(datasetRF[features].values, datasetRF[target].values, test_size=0.2, random_state=0)\n"
      ]
    },
    {
      "cell_type": "markdown",
      "metadata": {
        "id": "-kUtHVzihOz-"
      },
      "source": [
        "#### RF con 5 folds"
      ]
    },
    {
      "cell_type": "code",
      "execution_count": null,
      "metadata": {
        "id": "yMrfeubp8uIG"
      },
      "outputs": [],
      "source": [
        "rf_cv = RandomForestClassifier(oob_score=True, random_state=1, n_jobs=-1)\n",
        "\n",
        "param_grid = { \"criterion\" : [\"gini\", \"entropy\"], \n",
        "               \"min_samples_leaf\" : [1, 5, 10], \n",
        "               \"min_samples_split\" : [2, 4, 10, 12, 16], \n",
        "               \"n_estimators\": [10,20, 50] }\n",
        "\n",
        "#Probamos entrenando sólo con 1 métrica\n",
        "gs = GridSearchCV(estimator=rf_cv, param_grid=param_grid, scoring=\"f1\", cv=5, n_jobs=-1)\n",
        "gs_fit = gs.fit(X = x_train, y = y_train)"
      ]
    },
    {
      "cell_type": "code",
      "execution_count": null,
      "metadata": {
        "id": "lvn037MVBHzX",
        "colab": {
          "base_uri": "https://localhost:8080/"
        },
        "outputId": "b80fa82d-73a9-4a64-cfef-9fe213da2b14"
      },
      "outputs": [
        {
          "output_type": "execute_result",
          "data": {
            "text/plain": [
              "{'criterion': 'gini',\n",
              " 'min_samples_leaf': 1,\n",
              " 'min_samples_split': 4,\n",
              " 'n_estimators': 50}"
            ]
          },
          "metadata": {},
          "execution_count": 195
        }
      ],
      "source": [
        "gs_fit.best_params_"
      ]
    },
    {
      "cell_type": "code",
      "execution_count": null,
      "metadata": {
        "id": "MZZJzql79AZv",
        "colab": {
          "base_uri": "https://localhost:8080/"
        },
        "outputId": "dc9d5157-7dd1-4c33-ccd7-0e2eea466952"
      },
      "outputs": [
        {
          "output_type": "stream",
          "name": "stdout",
          "text": [
            "f1_score en entrenamiento con cv: 0.8735380132876192\n"
          ]
        }
      ],
      "source": [
        "print(\"f1_score en entrenamiento con cv: \"+str(gs_fit.best_score_))"
      ]
    },
    {
      "cell_type": "code",
      "execution_count": null,
      "metadata": {
        "id": "miPWwQnk9qAu"
      },
      "outputs": [],
      "source": [
        "#Obtenemos el mejor modelo\n",
        "rf_cv_best=gs_fit.best_estimator_\n",
        "\n",
        "#Predicción\n",
        "y_pred_rf_cv_best = rf_cv_best.predict(x_test)"
      ]
    },
    {
      "cell_type": "code",
      "execution_count": null,
      "metadata": {
        "id": "yD0GY5vmZru9",
        "colab": {
          "base_uri": "https://localhost:8080/",
          "height": 613
        },
        "outputId": "d681a83b-874c-422b-fccc-68d4fc1b79a3"
      },
      "outputs": [
        {
          "output_type": "stream",
          "name": "stdout",
          "text": [
            "              precision    recall  f1-score   support\n",
            "\n",
            "           0       0.87      0.87      0.87      6095\n",
            "           1       0.87      0.87      0.87      6108\n",
            "\n",
            "    accuracy                           0.87     12203\n",
            "   macro avg       0.87      0.87      0.87     12203\n",
            "weighted avg       0.87      0.87      0.87     12203\n",
            "\n"
          ]
        },
        {
          "output_type": "display_data",
          "data": {
            "text/plain": [
              "<Figure size 640x480 with 2 Axes>"
            ],
            "image/png": "[encoded data removed]"
          },
          "metadata": {}
        }
      ],
      "source": [
        "#Creo matriz de confusión\n",
        "tabla=confusion_matrix(y_test,y_pred_rf_cv_best)\n",
        "\n",
        "#Grafico matriz de confusión\n",
        "sns.heatmap(tabla, cmap='Blues',annot=True,fmt='g')\n",
        "plt.xlabel('Predicted')\n",
        "plt.ylabel('True')\n",
        "\n",
        "#Reporte\n",
        "print(classification_report(y_test,y_pred_rf_cv_best))"
      ]
    },
    {
      "cell_type": "code",
      "execution_count": null,
      "metadata": {
        "id": "JRyyJpLkZru-",
        "colab": {
          "base_uri": "https://localhost:8080/"
        },
        "outputId": "f9cafb71-d941-47c4-ebea-593aa7686af2"
      },
      "outputs": [
        {
          "output_type": "stream",
          "name": "stdout",
          "text": [
            "Accuracy: 0.8730640006555765\n",
            "Recall: 0.8739358218729535\n",
            "f1 score: 0.8732924335378323\n"
          ]
        }
      ],
      "source": [
        "#Evaluo la performance en el conjunto de evaluación\n",
        "accuracy=accuracy_score(y_test,y_pred_rf_cv_best)\n",
        "recall=recall_score(y_test,y_pred_rf_cv_best)\n",
        "f1=f1_score(y_test,y_pred_rf_cv_best)\n",
        "\n",
        "print(\"Accuracy: \"+str(accuracy))\n",
        "print(\"Recall: \"+str(recall))\n",
        "print(\"f1 score: \"+str(f1))"
      ]
    },
    {
      "cell_type": "markdown",
      "metadata": {
        "id": "X82hSYikhFCa"
      },
      "source": [
        "#### Best RF"
      ]
    },
    {
      "cell_type": "markdown",
      "metadata": {
        "id": "4iLlumS5uJao"
      },
      "source": [
        "Usando Grid Search buscamos los mejores parametros, usando 10 folds"
      ]
    },
    {
      "cell_type": "code",
      "execution_count": null,
      "metadata": {
        "id": "Fpbmgq_UhCg0"
      },
      "outputs": [],
      "source": [
        "rf_cv = RandomForestClassifier(oob_score=True, random_state=1, n_jobs=-1)\n",
        "\n",
        "param_grid = { \"criterion\" : [\"gini\", \"entropy\"], \n",
        "               \"min_samples_leaf\" : [1, 5, 10], \n",
        "               \"min_samples_split\" : [2, 4, 10, 12, 16], \n",
        "               \"n_estimators\": [10,20, 50] }\n",
        "\n",
        "#Probamos entrenando sólo con 1 métrica\n",
        "gs = GridSearchCV(estimator=rf_cv, param_grid=param_grid, scoring=\"f1\", cv=10, n_jobs=-1)\n",
        "gs_fit = gs.fit(X = x_train, y = y_train)"
      ]
    },
    {
      "cell_type": "code",
      "execution_count": null,
      "metadata": {
        "id": "vq33xUEvhCg2",
        "colab": {
          "base_uri": "https://localhost:8080/"
        },
        "outputId": "3622a486-d8cb-4582-af07-f76fff062f52"
      },
      "outputs": [
        {
          "output_type": "execute_result",
          "data": {
            "text/plain": [
              "{'criterion': 'entropy',\n",
              " 'min_samples_leaf': 1,\n",
              " 'min_samples_split': 4,\n",
              " 'n_estimators': 50}"
            ]
          },
          "metadata": {},
          "execution_count": 19
        }
      ],
      "source": [
        "gs_fit.best_params_"
      ]
    },
    {
      "cell_type": "code",
      "execution_count": null,
      "metadata": {
        "id": "17gErgbahCg4",
        "colab": {
          "base_uri": "https://localhost:8080/"
        },
        "outputId": "b129cf21-d606-4e48-bc76-1ef1c0102f94"
      },
      "outputs": [
        {
          "output_type": "stream",
          "name": "stdout",
          "text": [
            "f1_score en entrenamiento con cv: 0.8757776336086153\n"
          ]
        }
      ],
      "source": [
        "print(\"f1_score en entrenamiento con cv: \"+str(gs_fit.best_score_))"
      ]
    },
    {
      "cell_type": "code",
      "execution_count": null,
      "metadata": {
        "id": "kGPh0SLuhCg5"
      },
      "outputs": [],
      "source": [
        "#Obtenemos el mejor modelo\n",
        "rf_cv_best=gs_fit.best_estimator_\n",
        "\n",
        "#Predicción\n",
        "y_pred_rf_cv_best = rf_cv_best.predict(x_test)"
      ]
    },
    {
      "cell_type": "code",
      "source": [
        "joblib.dump(rf_cv_best, '/content/drive/MyDrive/pkl/rf_best_model.pkl')"
      ],
      "metadata": {
        "id": "DsRA_jSQVwL-",
        "colab": {
          "base_uri": "https://localhost:8080/"
        },
        "outputId": "051552db-898e-404e-c8fb-7e356e7d0959"
      },
      "execution_count": null,
      "outputs": [
        {
          "output_type": "execute_result",
          "data": {
            "text/plain": [
              "['/content/drive/MyDrive/pkl/rf_best_model.pkl']"
            ]
          },
          "metadata": {},
          "execution_count": 20
        }
      ]
    },
    {
      "cell_type": "code",
      "execution_count": null,
      "metadata": {
        "id": "CiychsmPhCg6",
        "colab": {
          "base_uri": "https://localhost:8080/"
        },
        "outputId": "21184ada-c92a-4bfb-fb64-9ebf8b1c5632"
      },
      "outputs": [
        {
          "output_type": "stream",
          "name": "stdout",
          "text": [
            "              precision    recall  f1-score   support\n",
            "\n",
            "           0       0.88      0.87      0.87      6095\n",
            "           1       0.87      0.88      0.88      6108\n",
            "\n",
            "    accuracy                           0.87     12203\n",
            "   macro avg       0.87      0.87      0.87     12203\n",
            "weighted avg       0.87      0.87      0.87     12203\n",
            "\n"
          ]
        },
        {
          "output_type": "display_data",
          "data": {
            "text/plain": [
              "<Figure size 640x480 with 2 Axes>"
            ],
            "image/png": "[encoded data removed]"
          },
          "metadata": {}
        }
      ],
      "source": [
        "#Creo matriz de confusión\n",
        "tabla=confusion_matrix(y_test,y_pred_rf_cv_best)\n",
        "\n",
        "#Grafico matriz de confusión\n",
        "sns.heatmap(tabla, cmap='Blues',annot=True,fmt='g')\n",
        "plt.xlabel('Predicted')\n",
        "plt.ylabel('True')\n",
        "\n",
        "#Reporte\n",
        "print(classification_report(y_test,y_pred_rf_cv_best))"
      ]
    },
    {
      "cell_type": "code",
      "execution_count": null,
      "metadata": {
        "id": "Ls43G_dNhCg7",
        "colab": {
          "base_uri": "https://localhost:8080/"
        },
        "outputId": "851e82d2-01cc-4cc7-ff72-eabde3783d48"
      },
      "outputs": [
        {
          "output_type": "stream",
          "name": "stdout",
          "text": [
            "Accuracy: 0.8748668360239286\n",
            "Recall: 0.8788474132285528\n",
            "f1 score: 0.875479083421675\n"
          ]
        }
      ],
      "source": [
        "#Evaluo la performance en el conjunto de evaluación\n",
        "accuracy=accuracy_score(y_test,y_pred_rf_cv_best)\n",
        "recall=recall_score(y_test,y_pred_rf_cv_best)\n",
        "f1=f1_score(y_test,y_pred_rf_cv_best)\n",
        "\n",
        "print(\"Accuracy: \"+str(accuracy))\n",
        "print(\"Recall: \"+str(recall))\n",
        "print(\"f1 score: \"+str(f1))"
      ]
    },
    {
      "cell_type": "markdown",
      "metadata": {
        "id": "dmGXt8Nn3vNG"
      },
      "source": [
        "## d. Construir un clasificador XGBoost y optimizar sus hiperparámetros.\n"
      ]
    },
    {
      "cell_type": "markdown",
      "metadata": {
        "id": "YP2xmR8YWx6S"
      },
      "source": [
        "### XGBoost"
      ]
    },
    {
      "cell_type": "code",
      "execution_count": 27,
      "metadata": {
        "id": "w0BEfzPF2p__",
        "colab": {
          "base_uri": "https://localhost:8080/",
          "height": 248
        },
        "outputId": "fa3b66b7-4143-4bca-be95-720434d2c8ae"
      },
      "outputs": [
        {
          "output_type": "execute_result",
          "data": {
            "text/plain": [
              "XGBClassifier(base_score=None, booster=None, callbacks=None,\n",
              "              colsample_bylevel=None, colsample_bynode=None,\n",
              "              colsample_bytree=None, early_stopping_rounds=None,\n",
              "              enable_categorical=False, eval_metric=None, feature_types=None,\n",
              "              gamma=None, gpu_id=None, grow_policy=None, importance_type=None,\n",
              "              interaction_constraints=None, learning_rate=None, max_bin=None,\n",
              "              max_cat_threshold=None, max_cat_to_onehot=None,\n",
              "              max_delta_step=None, max_depth=None, max_leaves=None,\n",
              "              min_child_weight=None, missing=nan, monotone_constraints=None,\n",
              "              n_estimators=100, n_jobs=None, num_parallel_tree=None,\n",
              "              predictor=None, random_state=0, ...)"
            ],
            "text/html": [
              "<style>#sk-container-id-1 {color: black;background-color: white;}#sk-container-id-1 pre{padding: 0;}#sk-container-id-1 div.sk-toggleable {background-color: white;}#sk-container-id-1 label.sk-toggleable__label {cursor: pointer;display: block;width: 100%;margin-bottom: 0;padding: 0.3em;box-sizing: border-box;text-align: center;}#sk-container-id-1 label.sk-toggleable__label-arrow:before {content: \"▸\";float: left;margin-right: 0.25em;color: #696969;}#sk-container-id-1 label.sk-toggleable__label-arrow:hover:before {color: black;}#sk-container-id-1 div.sk-estimator:hover label.sk-toggleable__label-arrow:before {color: black;}#sk-container-id-1 div.sk-toggleable__content {max-height: 0;max-width: 0;overflow: hidden;text-align: left;background-color: #f0f8ff;}#sk-container-id-1 div.sk-toggleable__content pre {margin: 0.2em;color: black;border-radius: 0.25em;background-color: #f0f8ff;}#sk-container-id-1 input.sk-toggleable__control:checked~div.sk-toggleable__content {max-height: 200px;max-width: 100%;overflow: auto;}#sk-container-id-1 input.sk-toggleable__control:checked~label.sk-toggleable__label-arrow:before {content: \"▾\";}#sk-container-id-1 div.sk-estimator input.sk-toggleable__control:checked~label.sk-toggleable__label {background-color: #d4ebff;}#sk-container-id-1 div.sk-label input.sk-toggleable__control:checked~label.sk-toggleable__label {background-color: #d4ebff;}#sk-container-id-1 input.sk-hidden--visually {border: 0;clip: rect(1px 1px 1px 1px);clip: rect(1px, 1px, 1px, 1px);height: 1px;margin: -1px;overflow: hidden;padding: 0;position: absolute;width: 1px;}#sk-container-id-1 div.sk-estimator {font-family: monospace;background-color: #f0f8ff;border: 1px dotted black;border-radius: 0.25em;box-sizing: border-box;margin-bottom: 0.5em;}#sk-container-id-1 div.sk-estimator:hover {background-color: #d4ebff;}#sk-container-id-1 div.sk-parallel-item::after {content: \"\";width: 100%;border-bottom: 1px solid gray;flex-grow: 1;}#sk-container-id-1 div.sk-label:hover label.sk-toggleable__label {background-color: #d4ebff;}#sk-container-id-1 div.sk-serial::before {content: \"\";position: absolute;border-left: 1px solid gray;box-sizing: border-box;top: 0;bottom: 0;left: 50%;z-index: 0;}#sk-container-id-1 div.sk-serial {display: flex;flex-direction: column;align-items: center;background-color: white;padding-right: 0.2em;padding-left: 0.2em;position: relative;}#sk-container-id-1 div.sk-item {position: relative;z-index: 1;}#sk-container-id-1 div.sk-parallel {display: flex;align-items: stretch;justify-content: center;background-color: white;position: relative;}#sk-container-id-1 div.sk-item::before, #sk-container-id-1 div.sk-parallel-item::before {content: \"\";position: absolute;border-left: 1px solid gray;box-sizing: border-box;top: 0;bottom: 0;left: 50%;z-index: -1;}#sk-container-id-1 div.sk-parallel-item {display: flex;flex-direction: column;z-index: 1;position: relative;background-color: white;}#sk-container-id-1 div.sk-parallel-item:first-child::after {align-self: flex-end;width: 50%;}#sk-container-id-1 div.sk-parallel-item:last-child::after {align-self: flex-start;width: 50%;}#sk-container-id-1 div.sk-parallel-item:only-child::after {width: 0;}#sk-container-id-1 div.sk-dashed-wrapped {border: 1px dashed gray;margin: 0 0.4em 0.5em 0.4em;box-sizing: border-box;padding-bottom: 0.4em;background-color: white;}#sk-container-id-1 div.sk-label label {font-family: monospace;font-weight: bold;display: inline-block;line-height: 1.2em;}#sk-container-id-1 div.sk-label-container {text-align: center;}#sk-container-id-1 div.sk-container {/* jupyter's `normalize.less` sets `[hidden] { display: none; }` but bootstrap.min.css set `[hidden] { display: none !important; }` so we also need the `!important` here to be able to override the default hidden behavior on the sphinx rendered scikit-learn.org. See: https://github.com/scikit-learn/scikit-learn/issues/21755 */display: inline-block !important;position: relative;}#sk-container-id-1 div.sk-text-repr-fallback {display: none;}</style><div id=\"sk-container-id-1\" class=\"sk-top-container\"><div class=\"sk-text-repr-fallback\"><pre>XGBClassifier(base_score=None, booster=None, callbacks=None,\n",
              "              colsample_bylevel=None, colsample_bynode=None,\n",
              "              colsample_bytree=None, early_stopping_rounds=None,\n",
              "              enable_categorical=False, eval_metric=None, feature_types=None,\n",
              "              gamma=None, gpu_id=None, grow_policy=None, importance_type=None,\n",
              "              interaction_constraints=None, learning_rate=None, max_bin=None,\n",
              "              max_cat_threshold=None, max_cat_to_onehot=None,\n",
              "              max_delta_step=None, max_depth=None, max_leaves=None,\n",
              "              min_child_weight=None, missing=nan, monotone_constraints=None,\n",
              "              n_estimators=100, n_jobs=None, num_parallel_tree=None,\n",
              "              predictor=None, random_state=0, ...)</pre><b>In a Jupyter environment, please rerun this cell to show the HTML representation or trust the notebook. <br />On GitHub, the HTML representation is unable to render, please try loading this page with nbviewer.org.</b></div><div class=\"sk-container\" hidden><div class=\"sk-item\"><div class=\"sk-estimator sk-toggleable\"><input class=\"sk-toggleable__control sk-hidden--visually\" id=\"sk-estimator-id-1\" type=\"checkbox\" checked><label for=\"sk-estimator-id-1\" class=\"sk-toggleable__label sk-toggleable__label-arrow\">XGBClassifier</label><div class=\"sk-toggleable__content\"><pre>XGBClassifier(base_score=None, booster=None, callbacks=None,\n",
              "              colsample_bylevel=None, colsample_bynode=None,\n",
              "              colsample_bytree=None, early_stopping_rounds=None,\n",
              "              enable_categorical=False, eval_metric=None, feature_types=None,\n",
              "              gamma=None, gpu_id=None, grow_policy=None, importance_type=None,\n",
              "              interaction_constraints=None, learning_rate=None, max_bin=None,\n",
              "              max_cat_threshold=None, max_cat_to_onehot=None,\n",
              "              max_delta_step=None, max_depth=None, max_leaves=None,\n",
              "              min_child_weight=None, missing=nan, monotone_constraints=None,\n",
              "              n_estimators=100, n_jobs=None, num_parallel_tree=None,\n",
              "              predictor=None, random_state=0, ...)</pre></div></div></div></div></div>"
            ]
          },
          "metadata": {},
          "execution_count": 27
        }
      ],
      "source": [
        "#Creo el modelo y lo entreno\n",
        "\n",
        "import xgboost as xgb\n",
        "\n",
        "xgb_model = xgb.XGBClassifier(random_state=0, n_estimators=100)\n",
        "xgb_model.fit(x_train, y_train)"
      ]
    },
    {
      "cell_type": "code",
      "execution_count": null,
      "metadata": {
        "id": "1lUAlDh9jYfQ"
      },
      "outputs": [],
      "source": [
        "#Evaluo en el set de test\n",
        "y_pred= xgb_model.predict_proba(x_test)[:, 1]\n",
        "\n",
        "#Matriz de Confusion\n",
        "y_pred=xgb_model.predict(x_test)\n",
        "\n",
        "cm = confusion_matrix(y_test,y_pred)\n",
        "sns.heatmap(cm, cmap='Blues',annot=True,fmt='g')\n",
        "plt.xlabel('Predicted')\n",
        "plt.ylabel('True')\n",
        "\n",
        "#Reporte\n",
        "print(classification_report(y_test,y_pred))\n"
      ]
    },
    {
      "cell_type": "markdown",
      "metadata": {
        "id": "4lphNLg0Wu87"
      },
      "source": [
        "### Optimizacion de HiperParametros"
      ]
    },
    {
      "cell_type": "markdown",
      "metadata": {
        "id": "AKSC2DvPv29Y"
      },
      "source": [
        "Empiezo a probar distintos valores para el learning rate, dado que la metrica me quede mas alta y la desviacion disminuya."
      ]
    },
    {
      "cell_type": "code",
      "execution_count": null,
      "metadata": {
        "id": "oAEaxapRnj-P"
      },
      "outputs": [],
      "source": [
        "#Datos de entrenamiento en formato DMatrix\n",
        "data_dmatrix = xgb.DMatrix(data=x_train, label=y_train)\n",
        "\n",
        "#Entreno CV para probar el learning rate\n",
        "results=xgb.cv(dtrain=data_dmatrix,nfold=10,params={'learning_rate': 0.0001},num_boost_round=8,metrics='auc')\n",
        "results"
      ]
    },
    {
      "cell_type": "code",
      "execution_count": null,
      "metadata": {
        "id": "USyI2FaEnj-R"
      },
      "outputs": [],
      "source": [
        "#Entreno CV para probar con un learning rate mas alto\n",
        "results=xgb.cv(dtrain=data_dmatrix,nfold=10,params={'learning_rate':0.001},num_boost_round=8,metrics='auc',seed=0)\n",
        "#, 0.001, 0.01, 0.1, 0.2, 0.3\n",
        "results"
      ]
    },
    {
      "cell_type": "code",
      "execution_count": null,
      "metadata": {
        "id": "QQrL6aXiqAeJ"
      },
      "outputs": [],
      "source": [
        "#Entreno CV para probar con un learning rate mas alto\n",
        "results=xgb.cv(dtrain=data_dmatrix,nfold=10,params={'learning_rate':0.01},num_boost_round=8,metrics='auc',seed=0)\n",
        "#, 0.001, 0.01, 0.1, 0.2, 0.3\n",
        "results"
      ]
    },
    {
      "cell_type": "code",
      "execution_count": null,
      "metadata": {
        "id": "i0gWAR6orc7O"
      },
      "outputs": [],
      "source": [
        "#Entreno CV para probar con un learning rate mas alto\n",
        "results=xgb.cv(dtrain=data_dmatrix,nfold=10,params={'learning_rate':0.011},num_boost_round=8,metrics='auc',seed=0)\n",
        "results"
      ]
    },
    {
      "cell_type": "code",
      "execution_count": null,
      "metadata": {
        "id": "s0PFVfDkrs3Q"
      },
      "outputs": [],
      "source": [
        "#Entreno CV para probar el learning rate mas alto\n",
        "#MEJOR RESULTADO\n",
        "results=xgb.cv(dtrain=data_dmatrix,nfold=10,params={'learning_rate':0.012},num_boost_round=8,metrics='auc',seed=0)\n",
        "results"
      ]
    },
    {
      "cell_type": "code",
      "execution_count": null,
      "metadata": {
        "id": "J3hgZUJ2sCU9"
      },
      "outputs": [],
      "source": [
        "#Entreno CV para probar el learning rate mas alto\n",
        "results=xgb.cv(dtrain=data_dmatrix,nfold=10,params={'learning_rate':0.0125},num_boost_round=8,metrics='auc',seed=0)\n",
        "results"
      ]
    },
    {
      "cell_type": "code",
      "execution_count": null,
      "metadata": {
        "id": "ZrHYkESHr4zg"
      },
      "outputs": [],
      "source": [
        "#NOS PASAMOS\n",
        "#Entreno CV para probar el learning rate mas alto\n",
        "results=xgb.cv(dtrain=data_dmatrix,nfold=10,params={'learning_rate':0.015},num_boost_round=8,metrics='auc',seed=0)\n",
        "results"
      ]
    },
    {
      "cell_type": "code",
      "execution_count": null,
      "metadata": {
        "id": "WKoE8dUSqE74"
      },
      "outputs": [],
      "source": [
        "#NOS PASAMOS\n",
        "#Entreno CV para probar el learning rate mas alto\n",
        "results=xgb.cv(dtrain=data_dmatrix,nfold=10,params={'learning_rate':0.02},num_boost_round=8,metrics='auc',seed=0)\n",
        "#, 0.001, 0.01, 0.1, 0.2, 0.3\n",
        "results"
      ]
    },
    {
      "cell_type": "code",
      "execution_count": null,
      "metadata": {
        "id": "Vt03WPS5qNHV"
      },
      "outputs": [],
      "source": [
        "#Entreno CV para probar el learning rate mas alto\n",
        "results=xgb.cv(dtrain=data_dmatrix,nfold=10,params={'learning_rate':0.03},num_boost_round=8,metrics='auc',seed=0)\n",
        "#, 0.001, 0.01, 0.1, 0.2, 0.3\n",
        "results"
      ]
    },
    {
      "cell_type": "code",
      "execution_count": null,
      "metadata": {
        "id": "j2yKBiJTqSkn"
      },
      "outputs": [],
      "source": [
        "#Entreno CV para probar el learning rate mas alto\n",
        "results=xgb.cv(dtrain=data_dmatrix,nfold=10,params={'learning_rate':0.04},num_boost_round=8,metrics='auc',seed=0)\n",
        "#, 0.001, 0.01, 0.1, 0.2, 0.3\n",
        "results"
      ]
    },
    {
      "cell_type": "markdown",
      "metadata": {
        "id": "xtaxwHsbwWGG"
      },
      "source": [
        "Decido optimizar mis parametros usando Grid Search, tal que mejore mi metrica de f1_score"
      ]
    },
    {
      "cell_type": "code",
      "execution_count": 33,
      "metadata": {
        "id": "wrSZAMXZs58I",
        "colab": {
          "base_uri": "https://localhost:8080/"
        },
        "outputId": "8937314e-88f5-4c6c-d873-ee6107347c4c"
      },
      "outputs": [
        {
          "output_type": "stream",
          "name": "stdout",
          "text": [
            "0.8392741974995914 {'reg_lambda': 1, 'reg_alpha': 1, 'learning_rate': 0.012, 'colsample_bytree': 0.5}\n"
          ]
        }
      ],
      "source": [
        "#Parámetros a optimizar\n",
        "#params_grid = {'n_estimators':range(20, 150, 5), 'max_depth':range(1,7), 'learning_rate':np.arange(0,1,0.001)}\n",
        "# Define the search space\n",
        "params_grid = { \n",
        "    # Percentage of columns to be randomly samples for each tree.\n",
        "    \"colsample_bytree\": [ 0.3, 0.5 , 0.8 ],\n",
        "    # reg_alpha provides l1 regularization to the weight, higher values result in more conservative models\n",
        "    \"reg_alpha\": [0, 0.5, 1, 5],\n",
        "    # reg_lambda provides l2 regularization to the weight, higher values result in more conservative models\n",
        "    \"reg_lambda\": [0, 0.5, 1, 5],\n",
        "    'learning_rate': [0.012]\n",
        "    }\n",
        "\n",
        "# Set up the k-fold cross-validation\n",
        "#kfold = StratifiedKFold(n_splits=3, shuffle=True, random_state=0)\n",
        "#Folds\n",
        "kfoldcv = StratifiedKFold(n_splits=10)\n",
        "\n",
        "#Ramdom Search CV\n",
        "randomcv = RandomizedSearchCV(xgb.XGBClassifier(), params_grid, n_jobs=10, scoring='f1',cv=kfoldcv, n_iter=10)\n",
        "randomcv.fit(x_train,y_train)\n",
        "\n",
        "print (randomcv.best_score_, randomcv.best_params_)\n",
        "\n",
        "#Mejor Modelo\n",
        "xgb_bestmodel = randomcv.best_estimator_\n",
        "\n"
      ]
    },
    {
      "cell_type": "markdown",
      "metadata": {
        "id": "3VnraZ1ZtMIf"
      },
      "source": [
        "### XGB Best Model"
      ]
    },
    {
      "cell_type": "code",
      "execution_count": null,
      "metadata": {
        "id": "jPkWzGuatZlD"
      },
      "outputs": [],
      "source": [
        "#Creo el modelo y lo entreno\n",
        "xgb_bestmodel.fit(x_train, y_train)"
      ]
    },
    {
      "cell_type": "code",
      "source": [
        "joblib.dump(xgb_bestmodel, '/content/drive/MyDrive/pkl/xgb_best_model.pkl')"
      ],
      "metadata": {
        "id": "PHHxlU0gV7xI"
      },
      "execution_count": null,
      "outputs": []
    },
    {
      "cell_type": "code",
      "execution_count": null,
      "metadata": {
        "id": "WRF3BHPCtZlF"
      },
      "outputs": [],
      "source": [
        "#Evaluo en el set de test\n",
        "y_pred= xgb_bestmodel.predict_proba(x_test)[:, 1]\n",
        "\n",
        "#Matriz de Confusion\n",
        "y_pred=xgb_bestmodel.predict(x_test)\n",
        "\n",
        "cm = confusion_matrix(y_test,y_pred)\n",
        "sns.heatmap(cm, cmap='Blues',annot=True,fmt='g')\n",
        "plt.xlabel('Predicted')\n",
        "plt.ylabel('True')\n",
        "\n",
        "#Reporte\n",
        "print(classification_report(y_test,y_pred))\n"
      ]
    },
    {
      "cell_type": "markdown",
      "metadata": {
        "id": "fnQuERMR30_G"
      },
      "source": [
        "## e. Construir un ensamble híbrido tipo Voting y otro tipo Stacking."
      ]
    },
    {
      "cell_type": "markdown",
      "metadata": {
        "id": "4OF5dSObp_uv"
      },
      "source": [
        "### Stacking"
      ]
    },
    {
      "cell_type": "markdown",
      "metadata": {
        "id": "Udd_0O1fqEpj"
      },
      "source": [
        "#### Preparacion"
      ]
    },
    {
      "cell_type": "code",
      "execution_count": 9,
      "metadata": {
        "id": "uFpY7MxOzWTQ"
      },
      "outputs": [],
      "source": [
        "import plotly.graph_objects as go\n",
        "from sklearn.model_selection import cross_val_score, RepeatedStratifiedKFold\n",
        "from collections import defaultdict\n"
      ]
    },
    {
      "cell_type": "code",
      "source": [
        "knn = joblib.load('/content/drive/MyDrive/modelos/knn_best_model.pkl')\n",
        "svm_radial = joblib.load('/content/drive/MyDrive/modelos/svm_kradial_best_model.pkl')\n",
        "rf_cv_best =joblib.load('/content/drive/MyDrive/pkl/rf_best_model.pkl')\n"
      ],
      "metadata": {
        "id": "-PtI9YiAmb9O"
      },
      "execution_count": 10,
      "outputs": []
    },
    {
      "cell_type": "code",
      "execution_count": 11,
      "metadata": {
        "id": "UEBtEEpzqJ_j"
      },
      "outputs": [],
      "source": [
        "df_stackingtest = df_test.copy()"
      ]
    },
    {
      "cell_type": "code",
      "execution_count": 12,
      "metadata": {
        "id": "32J-g4eUuvLv"
      },
      "outputs": [],
      "source": [
        "#Funcion para evaluar los modelos 5fold -CV (repite 2 veces)\n",
        "def evaluate_model(model, x, y):\n",
        "    cv = RepeatedStratifiedKFold(n_splits=5, n_repeats=2, random_state=1)\n",
        "    scores = cross_val_score(model, x, y, scoring='f1', cv=cv, verbose=1, n_jobs=3, error_score='raise')\n",
        "    return scores"
      ]
    },
    {
      "cell_type": "code",
      "execution_count": 13,
      "metadata": {
        "id": "HUq4CDj3vA9Y"
      },
      "outputs": [],
      "source": [
        "#Funcion para plotear a performance\n",
        "def plot_results(model_scores, name):\n",
        "    \n",
        "    model_names = list(model_scores.keys())\n",
        "    results = [model_scores[model] for model in model_names]\n",
        "    fig = go.Figure()\n",
        "    for model, result in zip(model_names, results):\n",
        "        fig.add_trace(go.Box(\n",
        "            y=result,\n",
        "            name=model,\n",
        "            boxpoints='all',\n",
        "            jitter=0.5,\n",
        "            whiskerwidth=0.2,\n",
        "            marker_size=2,\n",
        "            line_width=1)\n",
        "        )\n",
        "    \n",
        "    fig.update_layout(\n",
        "    title='Performance of Different Models Using 5-Fold Cross-Validation',\n",
        "    paper_bgcolor='rgb(243, 243, 243)',\n",
        "    plot_bgcolor='rgb(243, 243, 243)',\n",
        "    xaxis_title='Model',\n",
        "    yaxis_title='Accuracy',\n",
        "    showlegend=False)\n",
        "    fig.show()"
      ]
    },
    {
      "cell_type": "code",
      "execution_count": 14,
      "metadata": {
        "id": "Lnv7_Qjnyqzb"
      },
      "outputs": [],
      "source": [
        "#Armo conjunto entrenamiento y test 80-20\n",
        "x_train, x_test, y_train, y_test = train_test_split(x, y, random_state = 42, train_size = 0.80)"
      ]
    },
    {
      "cell_type": "code",
      "execution_count": null,
      "metadata": {
        "id": "wbyuajOWZXAu"
      },
      "outputs": [],
      "source": [
        "#Modelos Base\n",
        "base_models = {'random_forest':RandomForestClassifier(n_estimators=50),\n",
        "               'svm': SVC(),\n",
        "               'knn': KNeighborsClassifier(n_neighbors=11)}\n",
        "\n",
        "#Guarda los scores de cada modelo\n",
        "model_scores = defaultdict()\n",
        "\n",
        "#Entreno los clasificadores\n",
        "for name, model in base_models.items():\n",
        "    print('Evaluating {}'.format(name))\n",
        "    scores = evaluate_model(model, x_train, y_train)\n",
        "    model_scores[name] = scores"
      ]
    },
    {
      "cell_type": "code",
      "execution_count": null,
      "metadata": {
        "id": "5f5BaM07aRH3"
      },
      "outputs": [],
      "source": [
        "from sklearn.ensemble import StackingClassifier\n",
        "\n",
        "#Modelos Base\n",
        "base_models = [('random_forest', rf_cv_best),\n",
        "               ('svm', svm_radial),\n",
        "               ('knn', knn)]\n",
        "\n",
        "#Meta Modelo\n",
        "meta_model = LogisticRegressionCV()\n",
        "\n",
        "#Ensemble Stacking\n",
        "stacking_model = StackingClassifier(estimators=base_models, \n",
        "                                    final_estimator=meta_model, \n",
        "                                    passthrough=True, \n",
        "                                    cv=5,\n",
        "                                    verbose=2)"
      ]
    },
    {
      "cell_type": "code",
      "execution_count": 15,
      "metadata": {
        "id": "HPHbJs-EK45Y"
      },
      "outputs": [],
      "source": [
        "from sklearn.ensemble import StackingClassifier\n",
        "\n",
        "#Modelos Base\n",
        "base_models = [('random_forest', rf_cv_best),\n",
        "               ('svm', svm_radial),\n",
        "               ('knn', knn)]\n",
        "\n",
        "#Meta Modelo\n",
        "meta_model = LogisticRegressionCV()\n",
        "\n",
        "#Ensemble Stacking\n",
        "stacking_model = StackingClassifier(estimators=base_models, \n",
        "                                    final_estimator=meta_model, \n",
        "                                    passthrough=True, \n",
        "                                    cv=5,\n",
        "                                    verbose=2)"
      ]
    },
    {
      "cell_type": "code",
      "execution_count": null,
      "metadata": {
        "id": "rBJ-OYP8aoGu"
      },
      "outputs": [],
      "source": [
        "#Performance el modelo en entrenamiento\n",
        "stacking_scores = evaluate_model(stacking_model, x_train, y_train)\n",
        "model_scores['stacking'] = stacking_scores"
      ]
    },
    {
      "cell_type": "code",
      "execution_count": null,
      "metadata": {
        "id": "ijQJJcJIayzo"
      },
      "outputs": [],
      "source": [
        "#Grafico performance\n",
        "plot_results(model_scores, name='stacking_model_cv')"
      ]
    },
    {
      "cell_type": "markdown",
      "metadata": {
        "id": "rw9zblykrVao"
      },
      "source": [
        "#### Modelo"
      ]
    },
    {
      "cell_type": "code",
      "execution_count": 16,
      "metadata": {
        "id": "z6TjgMt1rHac",
        "colab": {
          "base_uri": "https://localhost:8080/"
        },
        "outputId": "ba38e761-d7aa-415f-a52d-cf88d301f663"
      },
      "outputs": [
        {
          "output_type": "stream",
          "name": "stderr",
          "text": [
            "[Parallel(n_jobs=1)]: Using backend SequentialBackend with 1 concurrent workers.\n",
            "[Parallel(n_jobs=1)]: Done   1 out of   1 | elapsed:    4.4s remaining:    0.0s\n",
            "[Parallel(n_jobs=1)]: Done   5 out of   5 | elapsed:   12.5s finished\n",
            "[Parallel(n_jobs=1)]: Using backend SequentialBackend with 1 concurrent workers.\n",
            "[Parallel(n_jobs=1)]: Done   1 out of   1 | elapsed:  6.1min remaining:    0.0s\n",
            "[Parallel(n_jobs=1)]: Done   5 out of   5 | elapsed: 28.7min finished\n",
            "[Parallel(n_jobs=1)]: Using backend SequentialBackend with 1 concurrent workers.\n",
            "[Parallel(n_jobs=1)]: Done   1 out of   1 | elapsed:  1.8min remaining:    0.0s\n",
            "[Parallel(n_jobs=1)]: Done   5 out of   5 | elapsed:  8.8min finished\n",
            "/usr/local/lib/python3.10/dist-packages/sklearn/linear_model/_logistic.py:458: ConvergenceWarning: lbfgs failed to converge (status=1):\n",
            "STOP: TOTAL NO. of ITERATIONS REACHED LIMIT.\n",
            "\n",
            "Increase the number of iterations (max_iter) or scale the data as shown in:\n",
            "    https://scikit-learn.org/stable/modules/preprocessing.html\n",
            "Please also refer to the documentation for alternative solver options:\n",
            "    https://scikit-learn.org/stable/modules/linear_model.html#logistic-regression\n",
            "  n_iter_i = _check_optimize_result(\n",
            "/usr/local/lib/python3.10/dist-packages/sklearn/linear_model/_logistic.py:458: ConvergenceWarning: lbfgs failed to converge (status=1):\n",
            "STOP: TOTAL NO. of ITERATIONS REACHED LIMIT.\n",
            "\n",
            "Increase the number of iterations (max_iter) or scale the data as shown in:\n",
            "    https://scikit-learn.org/stable/modules/preprocessing.html\n",
            "Please also refer to the documentation for alternative solver options:\n",
            "    https://scikit-learn.org/stable/modules/linear_model.html#logistic-regression\n",
            "  n_iter_i = _check_optimize_result(\n",
            "/usr/local/lib/python3.10/dist-packages/sklearn/linear_model/_logistic.py:458: ConvergenceWarning: lbfgs failed to converge (status=1):\n",
            "STOP: TOTAL NO. of ITERATIONS REACHED LIMIT.\n",
            "\n",
            "Increase the number of iterations (max_iter) or scale the data as shown in:\n",
            "    https://scikit-learn.org/stable/modules/preprocessing.html\n",
            "Please also refer to the documentation for alternative solver options:\n",
            "    https://scikit-learn.org/stable/modules/linear_model.html#logistic-regression\n",
            "  n_iter_i = _check_optimize_result(\n",
            "/usr/local/lib/python3.10/dist-packages/sklearn/linear_model/_logistic.py:458: ConvergenceWarning: lbfgs failed to converge (status=1):\n",
            "STOP: TOTAL NO. of ITERATIONS REACHED LIMIT.\n",
            "\n",
            "Increase the number of iterations (max_iter) or scale the data as shown in:\n",
            "    https://scikit-learn.org/stable/modules/preprocessing.html\n",
            "Please also refer to the documentation for alternative solver options:\n",
            "    https://scikit-learn.org/stable/modules/linear_model.html#logistic-regression\n",
            "  n_iter_i = _check_optimize_result(\n",
            "/usr/local/lib/python3.10/dist-packages/sklearn/linear_model/_logistic.py:458: ConvergenceWarning: lbfgs failed to converge (status=1):\n",
            "STOP: TOTAL NO. of ITERATIONS REACHED LIMIT.\n",
            "\n",
            "Increase the number of iterations (max_iter) or scale the data as shown in:\n",
            "    https://scikit-learn.org/stable/modules/preprocessing.html\n",
            "Please also refer to the documentation for alternative solver options:\n",
            "    https://scikit-learn.org/stable/modules/linear_model.html#logistic-regression\n",
            "  n_iter_i = _check_optimize_result(\n",
            "/usr/local/lib/python3.10/dist-packages/sklearn/linear_model/_logistic.py:458: ConvergenceWarning: lbfgs failed to converge (status=1):\n",
            "STOP: TOTAL NO. of ITERATIONS REACHED LIMIT.\n",
            "\n",
            "Increase the number of iterations (max_iter) or scale the data as shown in:\n",
            "    https://scikit-learn.org/stable/modules/preprocessing.html\n",
            "Please also refer to the documentation for alternative solver options:\n",
            "    https://scikit-learn.org/stable/modules/linear_model.html#logistic-regression\n",
            "  n_iter_i = _check_optimize_result(\n"
          ]
        },
        {
          "output_type": "execute_result",
          "data": {
            "text/plain": [
              "0.876018246985989"
            ]
          },
          "metadata": {},
          "execution_count": 16
        }
      ],
      "source": [
        "#Evaluo en conjunto de test\n",
        "#stacking_model.fit(x_train,y_train).score(x_test,y_test)\n",
        "stacking_model.fit(x_train,y_train)\n",
        "y_pred_st = stacking_model.predict(x_test)\n",
        "f1_score(y_test, y_pred_st)"
      ]
    },
    {
      "cell_type": "code",
      "source": [
        "joblib.dump(stacking_model, '/content/drive/MyDrive/pkl/stacking.pkl')"
      ],
      "metadata": {
        "id": "H81x0zIWWJp5"
      },
      "execution_count": null,
      "outputs": []
    },
    {
      "cell_type": "code",
      "execution_count": 17,
      "metadata": {
        "id": "qTHhIB2upmko"
      },
      "outputs": [],
      "source": [
        "predicciones_stacking = stacking_model.predict(df_stackingtest[features])\n"
      ]
    },
    {
      "cell_type": "code",
      "execution_count": 18,
      "metadata": {
        "id": "yEvcja3QshQF",
        "colab": {
          "base_uri": "https://localhost:8080/",
          "height": 467
        },
        "outputId": "0c9ea835-6e23-48ed-9443-b8dd051c99f0"
      },
      "outputs": [
        {
          "output_type": "execute_result",
          "data": {
            "text/plain": [
              "Text(50.722222222222214, 0.5, 'True')"
            ]
          },
          "metadata": {},
          "execution_count": 18
        },
        {
          "output_type": "display_data",
          "data": {
            "text/plain": [
              "<Figure size 640x480 with 2 Axes>"
            ],
            "image/png": "[encoded data removed]"
          },
          "metadata": {}
        }
      ],
      "source": [
        "#Creo la matriz de confusión\n",
        "tabla=confusion_matrix(y_test, y_pred_st)\n",
        "\n",
        "#Grafico la matriz de confusión\n",
        "sns.heatmap(tabla,cmap='GnBu',annot=True,fmt='g')\n",
        "plt.xlabel('Predicted')\n",
        "plt.ylabel('True')"
      ]
    },
    {
      "cell_type": "code",
      "execution_count": 19,
      "metadata": {
        "id": "8fkjnQWdthyy",
        "colab": {
          "base_uri": "https://localhost:8080/"
        },
        "outputId": "3ac07d0a-e4f1-4ce9-a52e-63fce3e8a257"
      },
      "outputs": [
        {
          "output_type": "stream",
          "name": "stdout",
          "text": [
            "accuracy: 0.8752765713349177\n",
            "f1_score: 0.876018246985989\n",
            "recall: 0.8703463904176109\n",
            "precision: 0.8817645129550672\n"
          ]
        }
      ],
      "source": [
        "print('accuracy: ' + str(accuracy_score(y_test, y_pred_st)))\n",
        "print('f1_score: ' + str(f1_score(y_test, y_pred_st)))\n",
        "print('recall: ' + str(recall_score(y_test, y_pred_st)))\n",
        "print('precision: ' + str(precision_score(y_test, y_pred_st)))"
      ]
    },
    {
      "cell_type": "markdown",
      "metadata": {
        "id": "c_TFVS2S0pjL"
      },
      "source": [
        "### Voting\n"
      ]
    },
    {
      "cell_type": "markdown",
      "metadata": {
        "id": "eJQgjMrShw8V"
      },
      "source": [
        "#### Preparacion"
      ]
    },
    {
      "cell_type": "code",
      "execution_count": 20,
      "metadata": {
        "id": "VMtNpKikhazK"
      },
      "outputs": [],
      "source": [
        "from sklearn.ensemble import RandomForestClassifier \n",
        "from sklearn.linear_model import LogisticRegression \n",
        "from sklearn.neighbors import KNeighborsClassifier\n",
        "from sklearn.ensemble import VotingClassifier\n",
        "from sklearn.model_selection import train_test_split\n",
        "from sklearn.metrics import accuracy_score"
      ]
    },
    {
      "cell_type": "code",
      "execution_count": 21,
      "metadata": {
        "id": "VvNzJj_8jJVc"
      },
      "outputs": [],
      "source": [
        "df_vottest = df_test.copy()"
      ]
    },
    {
      "cell_type": "markdown",
      "metadata": {
        "id": "_u24qgGgh1Dv"
      },
      "source": [
        "#### Modelo"
      ]
    },
    {
      "cell_type": "code",
      "execution_count": 22,
      "metadata": {
        "id": "HJMljU0ohMxH",
        "colab": {
          "base_uri": "https://localhost:8080/"
        },
        "outputId": "c22433b9-7701-4c48-a87d-3cbccba31325"
      },
      "outputs": [
        {
          "output_type": "execute_result",
          "data": {
            "text/plain": [
              "0.8302056871261165"
            ]
          },
          "metadata": {},
          "execution_count": 22
        }
      ],
      "source": [
        "\n",
        "#Creo ensemble de Votación\n",
        "vot_clf = VotingClassifier(estimators = [('svm', svm_radial), ('rnd', rf_cv_best), ('knn', knn)], voting = 'hard')\n",
        "\n",
        "#Armo conjunto entrenamiento y test 80-20\n",
        "x_train, x_test, y_train, y_test = train_test_split(x, y, random_state = 42, train_size = 0.80)\n",
        "\n",
        "\n",
        "#Entreno el ensemble\n",
        "vot_clf.fit(x_train, y_train)\n",
        "\n",
        "#Evaluo en conjunto de test\n",
        "pred = vot_clf.predict(x_test)\n",
        "accuracy_score(y_test, pred)"
      ]
    },
    {
      "cell_type": "code",
      "execution_count": 23,
      "metadata": {
        "id": "0icuOLHia_lz",
        "colab": {
          "base_uri": "https://localhost:8080/"
        },
        "outputId": "99c94f79-3b6e-442d-8cd6-d336473c2fb8"
      },
      "outputs": [
        {
          "output_type": "execute_result",
          "data": {
            "text/plain": [
              "0.8337879030964223"
            ]
          },
          "metadata": {},
          "execution_count": 23
        }
      ],
      "source": [
        "f1_score(y_test, pred)"
      ]
    },
    {
      "cell_type": "code",
      "execution_count": 24,
      "metadata": {
        "id": "r3bWuMlheV7_",
        "colab": {
          "base_uri": "https://localhost:8080/",
          "height": 467
        },
        "outputId": "a4b3da30-8c51-4c63-8d63-21d290dd69d5"
      },
      "outputs": [
        {
          "output_type": "execute_result",
          "data": {
            "text/plain": [
              "Text(50.722222222222214, 0.5, 'True')"
            ]
          },
          "metadata": {},
          "execution_count": 24
        },
        {
          "output_type": "display_data",
          "data": {
            "text/plain": [
              "<Figure size 640x480 with 2 Axes>"
            ],
            "image/png": "[encoded data removed]"
          },
          "metadata": {}
        }
      ],
      "source": [
        "#Creo la matriz de confusión\n",
        "tabla=confusion_matrix(y_test, pred)\n",
        "\n",
        "#Grafico la matriz de confusión\n",
        "sns.heatmap(tabla,cmap='GnBu',annot=True,fmt='g')\n",
        "plt.xlabel('Predicted')\n",
        "plt.ylabel('True')"
      ]
    },
    {
      "cell_type": "code",
      "execution_count": 25,
      "metadata": {
        "id": "YVi96bHRe8us",
        "colab": {
          "base_uri": "https://localhost:8080/"
        },
        "outputId": "defc0603-65b7-4ab2-b690-367e68b29a26"
      },
      "outputs": [
        {
          "output_type": "stream",
          "name": "stdout",
          "text": [
            "accuracy: 0.8302056871261165\n",
            "f1_score: 0.8337879030964223\n",
            "recall: 0.8412107478148269\n",
            "precision: 0.8264949109414759\n"
          ]
        }
      ],
      "source": [
        "print('accuracy: ' + str(accuracy_score(y_test, pred)))\n",
        "print('f1_score: ' + str(f1_score(y_test, pred)))\n",
        "print('recall: '+ str(recall_score(y_test, pred)))\n",
        "print('precision: '+str(precision_score(y_test,pred)))"
      ]
    },
    {
      "cell_type": "code",
      "execution_count": null,
      "metadata": {
        "id": "qXWjba5sbtWI"
      },
      "outputs": [],
      "source": [
        "predicciones_vot = vot_clf.predict(df_vottest.values)"
      ]
    },
    {
      "cell_type": "code",
      "execution_count": null,
      "metadata": {
        "id": "XbPa1OYNbtWJ"
      },
      "outputs": [],
      "source": [
        "df_submission = pd.DataFrame({'id':df_test['id'], 'is_canceled':predicciones_vot})\n",
        "df_submission.head()\n",
        "df_submission.shape"
      ]
    },
    {
      "cell_type": "code",
      "execution_count": null,
      "metadata": {
        "id": "qlPPXgsabtWK"
      },
      "outputs": [],
      "source": [
        "df_submission.to_csv('/content/drive/MyDrive/submissions/submission_voting_ensamble.csv', index=False)"
      ]
    },
    {
      "cell_type": "code",
      "execution_count": null,
      "metadata": {
        "id": "EbjD3fz8bFdK"
      },
      "outputs": [],
      "source": [
        "joblib.dump(vot_clf, '/content/drive/MyDrive/pkl/vot_ensamble.plk')"
      ]
    }
  ],
  "metadata": {
    "colab": {
      "collapsed_sections": [
        "eJQgjMrShw8V",
        "_u24qgGgh1Dv"
      ],
      "provenance": [],
      "toc_visible": true
    },
    "kernelspec": {
      "display_name": "Python 3",
      "name": "python3"
    },
    "language_info": {
      "name": "python"
    }
  },
  "nbformat": 4,
  "nbformat_minor": 0
}