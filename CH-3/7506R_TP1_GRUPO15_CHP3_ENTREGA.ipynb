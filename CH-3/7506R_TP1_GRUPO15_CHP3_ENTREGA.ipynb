{
  "nbformat": 4,
  "nbformat_minor": 0,
  "metadata": {
    "colab": {
      "provenance": [],
      "collapsed_sections": [
        "eJQgjMrShw8V",
        "_u24qgGgh1Dv"
      ],
      "toc_visible": true
    },
    "kernelspec": {
      "name": "python3",
      "display_name": "Python 3"
    },
    "language_info": {
      "name": "python"
    }
  },
  "cells": [
    {
      "cell_type": "markdown",
      "source": [
        "# Imports y Preparacion del dataset"
      ],
      "metadata": {
        "id": "oVWUjbQ4U3z2"
      }
    },
    {
      "cell_type": "code",
      "source": [
        "\n",
        "import pandas as pd\n",
        "import numpy as np\n",
        "import matplotlib.pyplot as plt\n",
        "import seaborn as sns\n",
        "import sklearn as sk\n",
        "import sklearn.preprocessing as skp\n",
        "import scipy.stats as stats\n",
        "import scipy as sc\n",
        "from sklearn.feature_extraction import FeatureHasher\n",
        "from sklearn.feature_selection import VarianceThreshold\n",
        "from sklearn.impute import KNNImputer, SimpleImputer\n",
        "from sklearn.linear_model import LinearRegression, LogisticRegressionCV\n",
        "from sklearn.metrics import confusion_matrix, classification_report\n",
        "from sklearn.model_selection import train_test_split\n",
        "from sklearn.ensemble import RandomForestClassifier\n",
        "\n",
        "#joblib\n",
        "#from joblib import dump, load\n",
        "import joblib\n",
        "\n",
        "# multivariado   \n",
        "from sklearn.ensemble import IsolationForest\n",
        "from sklearn.neighbors import LocalOutlierFactor\n",
        "from sklearn.neighbors import DistanceMetric\n",
        "\n",
        "from sklearn import metrics\n",
        "\n",
        "from sklearn.metrics import precision_score, recall_score, accuracy_score,f1_score#, precision_recall_curve, roc_curve, \n",
        "#KNN\n",
        "from sklearn.neighbors import KNeighborsClassifier\n",
        "from sklearn.datasets import load_iris\n",
        "from sklearn.svm import SVC\n",
        "\n"
      ],
      "metadata": {
        "id": "FGzbOdhoc94G"
      },
      "execution_count": null,
      "outputs": []
    },
    {
      "cell_type": "code",
      "source": [
        "from google.colab import drive\n",
        "drive.mount('/content/drive')"
      ],
      "metadata": {
        "id": "JYMIAzRWd0tM",
        "colab": {
          "base_uri": "https://localhost:8080/"
        },
        "outputId": "6db6d754-729a-4084-e842-3e2682b875ce"
      },
      "execution_count": null,
      "outputs": [
        {
          "output_type": "stream",
          "name": "stdout",
          "text": [
            "Drive already mounted at /content/drive; to attempt to forcibly remount, call drive.mount(\"/content/drive\", force_remount=True).\n"
          ]
        }
      ]
    },
    {
      "cell_type": "code",
      "source": [
        "df = pd.read_csv('/content/drive/MyDrive/Datasets/hotels_train.csv') \n",
        "df_test = pd.read_csv('/content/drive/MyDrive/Datasets/hotels_test.csv')\n",
        "df_test_original = df_test.copy()\n",
        "df_original = df.copy()"
      ],
      "metadata": {
        "id": "KbcRoA5pvsTX"
      },
      "execution_count": null,
      "outputs": []
    },
    {
      "cell_type": "markdown",
      "source": [
        "\n",
        "#Preprocesamiento"
      ],
      "metadata": {
        "id": "rmBkvH7hHOT7"
      }
    },
    {
      "cell_type": "code",
      "source": [
        "columnas = {\"adr\": \"average_daily_rate\", \"arrival_date_year\":\"year\", \"arrival_date_month\":\"month\", \"arrival_date_day_of_month\":\"day\"} #cambiar nombres a las categorias\n",
        "df.rename(columns = columnas, inplace = True)\n",
        "df = df.drop(columns=['arrival_date_week_number'])\n",
        "#CAMBIO EL UNDEFINED A SC :)\n",
        "df.loc[df.loc[:,\"meal\"]=='Undefined',\"meal\"]=\"SC\"\n",
        "#COUNTRY\n",
        "df['country'] = df['country'].fillna('PRT')\n",
        "paises_comunes = ['PRT','GBR','FRA','ESP','DEU','ITA','IRL', 'BRA', 'BEL', 'USA', 'NLD', 'CHE', 'CN', 'AUT', 'CHN', 'SWE', 'POL', 'RUS', 'ISR', 'NOR']\n",
        "df.loc[~df.loc[:,\"country\"].isin(paises_comunes),\"country\"]=\"OTHER\"\n",
        "#TENEMOS QUE VER LOS 2 UNDEFINED \n",
        "df.drop(df[df['market_segment']=='Undefined'].index, axis='index',inplace=True)\n",
        "df.drop(df[df['distribution_channel']=='Undefined'].index, axis='index',inplace=True)\n",
        "#ROOM TYPES\n",
        "room_type_populares = [\"A\", \"D\", \"E\", \"F\", \"G\"]\n",
        "df.loc[~df.loc[:,\"assigned_room_type\"].isin(room_type_populares),\"assigned_room_type\"]=\"O\"\n",
        "df.loc[~df.loc[:,\"reserved_room_type\"].isin(room_type_populares),\"reserved_room_type\"]=\"O\"\n",
        "#ARRIVAL_DATE\n",
        "months = {'January':1, 'February':2, 'March':3, 'April':4, 'May':5, 'June':6, 'July':7, 'August':8,'September':9, 'October':10,'November':11, 'December': 12 }\n",
        "df.month = df.month.map(months)\n",
        "arrivaldates = df.copy() \n",
        "import datetime\n",
        "\n",
        "date=arrivaldates.apply(lambda x: datetime.date(int(x['year']), x['month'], x['day']),axis=1)\n",
        "\n",
        "date = pd.to_datetime(date)\n",
        "\n",
        "df = df.drop(columns=['year', 'month', 'day'])\n",
        "\n",
        "df.insert(0, 'arrival_date', date)\n",
        "\n",
        "#DROP COMPANY\n",
        "df= df.drop(columns=['company', 'reservation_status_date'])\n",
        "#CHILDREN\n",
        "df['children'] = df['children'].fillna(0.0)\n",
        "df['children'] = df['children'].astype(int)\n",
        "#AGENT\n",
        "df['agent'] = df['agent'].fillna(9.0)\n",
        "df['agent'] = df['agent'].astype(int)\n",
        "\n",
        "\n",
        "#eliminamos el outlier porque una fila respecto a la gran cantidad de datos que tenemos no es relevante\n",
        "df.drop(df[df['average_daily_rate']<0].index, axis='index',inplace=True)\n",
        "df.drop(df[df['average_daily_rate']==0].index, axis='index',inplace=True)\n",
        "#\n",
        "df.drop(df[(df['babies']==0) & (df['adults']==0) & (df['children']==0)].index, axis='index',inplace=True)\n",
        "df.drop(df[(df['babies']==0) & (df['adults']==0) & (df['children']==0)].index, axis='index',inplace=True)\n",
        "#creamos una nueva col para verificar el tipo de habitacion\n",
        "df['assigned_equals_reserved'] = np.where(df['assigned_room_type']== df['reserved_room_type'], True, False)\n",
        "df['assigned_equals_reserved']=df['assigned_equals_reserved'].astype(int)\n",
        "#TEMPORADA ALTA\n",
        "temporada_alta = [1,6,7,8,12]\n",
        "df['temporada_alta'] = pd.DatetimeIndex(df['arrival_date']).month.isin(temporada_alta)\n",
        "df['temporada_alta'] = df['temporada_alta'] .astype(int)\n",
        "#DUMMIES\n",
        "dataset = df.copy()\n",
        "dataset = pd.get_dummies(dataset, columns=[\"hotel\",\"meal\",\"deposit_type\",\"customer_type\",\"country\"], drop_first=True)\n",
        "dataset = pd.get_dummies(dataset, columns=[\"distribution_channel\"], drop_first=True)\n",
        "dataset = pd.get_dummies(dataset, columns=[\"market_segment\"], drop_first=True)"
      ],
      "metadata": {
        "id": "6oEhJWHJHabV"
      },
      "execution_count": null,
      "outputs": []
    },
    {
      "cell_type": "code",
      "source": [
        "df_test['country'] = df_test['country'].fillna('PRT')\n",
        "df_test.loc[~df_test.loc[:,\"country\"].isin(paises_comunes),\"country\"]=\"OTHER\"\n",
        "\n",
        "df_test.drop(df_test[df_test['market_segment']=='Undefined'].index, axis='index',inplace=True)\n",
        "df_test.drop(df_test[df_test['distribution_channel']=='Undefined'].index, axis='index',inplace=True)\n",
        "\n",
        "df_test = pd.get_dummies(df_test, columns=[\"hotel\",\"meal\",\"deposit_type\",\"customer_type\",\"country\"], drop_first=True)\n",
        "df_test = pd.get_dummies(df_test, columns=[\"distribution_channel\"], drop_first=True)\n",
        "df_test = pd.get_dummies(df_test, columns=[\"market_segment\"], drop_first=True)\n",
        "df_test.rename(columns = columnas, inplace = True)\n",
        "df_test = df_test.drop(columns=['arrival_date_week_number'])\n",
        "df_test.month = df_test.month.map(months)\n",
        "arrivaldates = df_test.copy()\n",
        "\n",
        "date=arrivaldates.apply(lambda x: datetime.date(int(x['year']), x['month'], x['day']),axis=1)\n",
        "date = pd.to_datetime(date)\n",
        "df_test = df_test.drop(columns=['year', 'month', 'day'])\n",
        "df_test.insert(0, 'arrival_date', date)\n",
        "\n",
        "df_test= df_test.drop(columns=['company'])\n",
        "df_test['agent'] = df_test['agent'].fillna(9.0) #Cambiamos los datos faltantes por la moda, dado que es el que mas se repite y poder afectar menos nuestra distribucion\n",
        "\n",
        "df_test['assigned_equals_reserved'] = np.where(df_test['assigned_room_type']== df_test['reserved_room_type'], True, False) #creamos una nueva col para verificar el tipo de habitacion\n",
        "df_test['assigned_equals_reserved']=df_test['assigned_equals_reserved'].astype(int)\n",
        "\n",
        "df_test['temporada_alta'] = pd.DatetimeIndex(df_test['arrival_date']).month.isin(temporada_alta)\n",
        "df_test['temporada_alta'] = df_test['temporada_alta'] .astype(int)"
      ],
      "metadata": {
        "id": "li8hQwzYWQyi"
      },
      "execution_count": null,
      "outputs": []
    },
    {
      "cell_type": "markdown",
      "source": [
        "#CHECKPOINT 3"
      ],
      "metadata": {
        "id": "RXOW_A113V0T"
      }
    },
    {
      "cell_type": "markdown",
      "source": [
        "Para este checkpoint de ensambles solo vamos a usar variables numericas."
      ],
      "metadata": {
        "id": "tEZARh7LlUZ8"
      }
    },
    {
      "cell_type": "markdown",
      "source": [
        "##a. Construir un clasificador KNN optimizar sus hiperparámetros mediante k-fold Cross Validation\n"
      ],
      "metadata": {
        "id": "9mY3sUv34AE5"
      }
    },
    {
      "cell_type": "markdown",
      "source": [
        "###Preparacion"
      ],
      "metadata": {
        "id": "Pup77Yeg3hhm"
      }
    },
    {
      "cell_type": "code",
      "source": [
        "datasetknn = dataset.drop(columns=['assigned_room_type', 'reserved_room_type', 'id', 'arrival_date'])"
      ],
      "metadata": {
        "id": "7_qnu5WBfdpY"
      },
      "execution_count": null,
      "outputs": []
    },
    {
      "cell_type": "code",
      "source": [
        "df_knntest = df_test.copy()"
      ],
      "metadata": {
        "id": "QGXemENzlwCd"
      },
      "execution_count": null,
      "outputs": []
    },
    {
      "cell_type": "code",
      "source": [
        "df_knntest = df_knntest.drop(columns=['assigned_room_type', 'reserved_room_type', 'id', 'arrival_date'])"
      ],
      "metadata": {
        "id": "4yFFqCvm98Id"
      },
      "execution_count": null,
      "outputs": []
    },
    {
      "cell_type": "code",
      "source": [
        "#df_knntest = pd.get_dummies(df_knntest, columns=[\"hotel\",\"meal\",\"deposit_type\",\"customer_type\",\"country\",\"distribution_channel\",\"market_segment\",], drop_first=True)\n",
        "df_knntest = df_knntest[['lead_time', 'stays_in_weekend_nights', 'stays_in_week_nights',\n",
        "       'adults', 'children', 'babies', 'is_repeated_guest',\n",
        "       'previous_cancellations', 'previous_bookings_not_canceled',\n",
        "       'booking_changes', 'agent', 'days_in_waiting_list',\n",
        "       'average_daily_rate', 'required_car_parking_spaces',\n",
        "       'total_of_special_requests', 'assigned_equals_reserved',\n",
        "       'temporada_alta', 'hotel_Resort Hotel', 'meal_FB', 'meal_HB', 'meal_SC',\n",
        "       'deposit_type_Non Refund', 'deposit_type_Refundable',\n",
        "       'customer_type_Group', 'customer_type_Transient',\n",
        "       'customer_type_Transient-Party', 'country_BEL', 'country_BRA',\n",
        "       'country_CHE', 'country_CHN', 'country_CN', 'country_DEU',\n",
        "       'country_ESP', 'country_FRA', 'country_GBR', 'country_IRL',\n",
        "       'country_ISR', 'country_ITA', 'country_NLD', 'country_NOR',\n",
        "       'country_OTHER', 'country_POL', 'country_PRT', 'country_RUS',\n",
        "       'country_SWE', 'country_USA', 'distribution_channel_Direct',\n",
        "       'distribution_channel_GDS', 'distribution_channel_TA/TO',\n",
        "       'market_segment_Complementary', 'market_segment_Corporate',\n",
        "       'market_segment_Direct', 'market_segment_Groups',\n",
        "       'market_segment_Offline TA/TO', 'market_segment_Online TA']]"
      ],
      "metadata": {
        "id": "3EjhG3MZ3Hyu"
      },
      "execution_count": null,
      "outputs": []
    },
    {
      "cell_type": "code",
      "source": [
        "#Separar datos y etiquetas\n",
        "x = datasetknn.iloc[:,0:56]\n",
        "y = datasetknn.is_canceled\n",
        "#dropeo el target\n",
        "x = x.drop(columns=['is_canceled'])\n",
        "#Separo conjunto de Train y de Test (80/20)\n",
        "x_train, x_test, y_train, y_test = train_test_split(x, y, test_size=0.20, random_state=0)"
      ],
      "metadata": {
        "id": "5uq8PRygd0EB"
      },
      "execution_count": null,
      "outputs": []
    },
    {
      "cell_type": "code",
      "source": [
        "#Crear el modelo\n",
        "KNN_Classifier = KNeighborsClassifier()\n",
        "\n",
        "#vemos sus parámetros\n",
        "KNN_Classifier.get_params()"
      ],
      "metadata": {
        "colab": {
          "base_uri": "https://localhost:8080/"
        },
        "id": "Yj0X3-YiiF1p",
        "outputId": "93a694e9-6588-43db-bd28-ef91aec29bbe"
      },
      "execution_count": null,
      "outputs": [
        {
          "output_type": "execute_result",
          "data": {
            "text/plain": [
              "{'algorithm': 'auto',\n",
              " 'leaf_size': 30,\n",
              " 'metric': 'minkowski',\n",
              " 'metric_params': None,\n",
              " 'n_jobs': None,\n",
              " 'n_neighbors': 5,\n",
              " 'p': 2,\n",
              " 'weights': 'uniform'}"
            ]
          },
          "metadata": {},
          "execution_count": 12
        }
      ]
    },
    {
      "cell_type": "code",
      "source": [
        "#Entrenar el modelo\n",
        "KNN_Classifier.fit(x_train, y_train)\n",
        "\n",
        "#Predicción sobre test\n",
        "y_pred = KNN_Classifier.predict(x_test)"
      ],
      "metadata": {
        "id": "CtdYHl7tjt8H"
      },
      "execution_count": null,
      "outputs": []
    },
    {
      "cell_type": "code",
      "source": [
        "#Cantidad de aciertos\n",
        "print('correctas: ', np.sum(y_test == y_pred))\n",
        "print('total: ', len(y_test))"
      ],
      "metadata": {
        "colab": {
          "base_uri": "https://localhost:8080/"
        },
        "id": "HQHeOMKnkf_C",
        "outputId": "2b8a3bdb-dce7-4006-dbae-333232faab03"
      },
      "execution_count": null,
      "outputs": [
        {
          "output_type": "stream",
          "name": "stdout",
          "text": [
            "correctas:  9002\n",
            "total:  12203\n"
          ]
        }
      ]
    },
    {
      "cell_type": "code",
      "source": [
        "f1_score(y_test, y_pred)"
      ],
      "metadata": {
        "colab": {
          "base_uri": "https://localhost:8080/"
        },
        "id": "k2sSSbIKNiLz",
        "outputId": "614c8914-dc72-41ae-bcb9-c3c1c746b42d"
      },
      "execution_count": null,
      "outputs": [
        {
          "output_type": "execute_result",
          "data": {
            "text/plain": [
              "0.7441860465116278"
            ]
          },
          "metadata": {},
          "execution_count": 15
        }
      ]
    },
    {
      "cell_type": "markdown",
      "source": [
        "###Submit KNN Estandar "
      ],
      "metadata": {
        "id": "hcuUExeI-VYe"
      }
    },
    {
      "cell_type": "code",
      "source": [
        "pruebas11 = df_knntest[['lead_time', 'stays_in_weekend_nights', 'stays_in_week_nights',\n",
        "       'adults', 'children', 'babies', 'is_repeated_guest',\n",
        "       'previous_cancellations', 'previous_bookings_not_canceled',\n",
        "       'booking_changes', 'agent', 'days_in_waiting_list',\n",
        "       'average_daily_rate', 'required_car_parking_spaces',\n",
        "       'total_of_special_requests', 'assigned_equals_reserved',\n",
        "       'temporada_alta', 'hotel_Resort Hotel', 'meal_FB', 'meal_HB', 'meal_SC',\n",
        "       'deposit_type_Non Refund', 'deposit_type_Refundable',\n",
        "       'customer_type_Group', 'customer_type_Transient',\n",
        "       'customer_type_Transient-Party', 'country_BEL', 'country_BRA',\n",
        "       'country_CHE', 'country_CHN', 'country_CN', 'country_DEU',\n",
        "       'country_ESP', 'country_FRA', 'country_GBR', 'country_IRL',\n",
        "       'country_ISR', 'country_ITA', 'country_NLD', 'country_NOR',\n",
        "       'country_OTHER', 'country_POL', 'country_PRT', 'country_RUS',\n",
        "       'country_SWE', 'country_USA', 'distribution_channel_Direct',\n",
        "       'distribution_channel_GDS', 'distribution_channel_TA/TO',\n",
        "       'market_segment_Complementary', 'market_segment_Corporate',\n",
        "       'market_segment_Direct', 'market_segment_Groups',\n",
        "       'market_segment_Offline TA/TO', 'market_segment_Online TA']]"
      ],
      "metadata": {
        "id": "Zxo9vC_6-XKS"
      },
      "execution_count": null,
      "outputs": []
    },
    {
      "cell_type": "code",
      "source": [
        "y_pred = KNN_Classifier.predict(pruebas11)"
      ],
      "metadata": {
        "id": "jU0Hh20U_BIT"
      },
      "execution_count": null,
      "outputs": []
    },
    {
      "cell_type": "code",
      "source": [
        "df_submission = pd.DataFrame({'id':df_test['id'], 'is_canceled':y_pred})\n",
        "df_submission.head()\n",
        "df_submission.shape"
      ],
      "metadata": {
        "id": "F6Pt-fxglwZx",
        "colab": {
          "base_uri": "https://localhost:8080/"
        },
        "outputId": "922f8b4b-96a6-4996-f9b6-d610f877f1d0"
      },
      "execution_count": null,
      "outputs": [
        {
          "output_type": "execute_result",
          "data": {
            "text/plain": [
              "(26535, 2)"
            ]
          },
          "metadata": {},
          "execution_count": 19
        }
      ]
    },
    {
      "cell_type": "code",
      "source": [
        "df_submission.to_csv('/content/drive/MyDrive/submissions/submission_v11.csv', index=False)"
      ],
      "metadata": {
        "id": "kSqwizaLlwZy"
      },
      "execution_count": null,
      "outputs": []
    },
    {
      "cell_type": "markdown",
      "source": [
        "###KNN N1"
      ],
      "metadata": {
        "id": "hDFSILyNOFU7"
      }
    },
    {
      "cell_type": "code",
      "source": [
        "#Crear el modelo,arrancamos eligiendo 10 vecinos mas cercanos y distancia euclidea\n",
        "KNN_Classifier_N1 = KNeighborsClassifier(metric='euclidean', n_neighbors=10)\n",
        "\n",
        "#vemos sus parámetros\n",
        "KNN_Classifier.get_params()"
      ],
      "metadata": {
        "colab": {
          "base_uri": "https://localhost:8080/"
        },
        "id": "Pkf9bcB7OLAt",
        "outputId": "f60bf853-4d59-42ad-f217-81613fdb3eb9"
      },
      "execution_count": null,
      "outputs": [
        {
          "output_type": "execute_result",
          "data": {
            "text/plain": [
              "{'algorithm': 'auto',\n",
              " 'leaf_size': 30,\n",
              " 'metric': 'minkowski',\n",
              " 'metric_params': None,\n",
              " 'n_jobs': None,\n",
              " 'n_neighbors': 5,\n",
              " 'p': 2,\n",
              " 'weights': 'uniform'}"
            ]
          },
          "metadata": {},
          "execution_count": 19
        }
      ]
    },
    {
      "cell_type": "code",
      "source": [
        "#Entrenar el modelo\n",
        "KNN_Classifier_N1.fit(x_train, y_train)\n",
        "\n",
        "#Predicción sobre test\n",
        "y_pred = KNN_Classifier_N1.predict(x_test)"
      ],
      "metadata": {
        "id": "5ODbNahfO_WT"
      },
      "execution_count": null,
      "outputs": []
    },
    {
      "cell_type": "code",
      "source": [
        "#Cantidad de aciertos\n",
        "print('correctas: ', np.sum(y_test == y_pred))\n",
        "print('total: ', len(y_test))"
      ],
      "metadata": {
        "colab": {
          "base_uri": "https://localhost:8080/"
        },
        "outputId": "794e0bdd-ef0e-424b-e140-2f46f1b53203",
        "id": "49AVjhLpO_WU"
      },
      "execution_count": null,
      "outputs": [
        {
          "output_type": "stream",
          "name": "stdout",
          "text": [
            "correctas:  8915\n",
            "total:  12203\n"
          ]
        }
      ]
    },
    {
      "cell_type": "code",
      "source": [
        "f1_score(y_test,y_pred)"
      ],
      "metadata": {
        "colab": {
          "base_uri": "https://localhost:8080/"
        },
        "id": "rWzH9x07OBRY",
        "outputId": "4493cf4d-1a86-4d89-be1c-4c504af2e4d1"
      },
      "execution_count": null,
      "outputs": [
        {
          "output_type": "execute_result",
          "data": {
            "text/plain": [
              "0.7256341789052071"
            ]
          },
          "metadata": {},
          "execution_count": 25
        }
      ]
    },
    {
      "cell_type": "markdown",
      "source": [
        "###KNN N2"
      ],
      "metadata": {
        "id": "sDjkAjoSPhOb"
      }
    },
    {
      "cell_type": "code",
      "source": [
        "#Crear el modelo, decido aumentar la cantidad de vecinos cercanos\n",
        "KNN_Classifier_N2 = KNeighborsClassifier(metric='euclidean', n_neighbors=35)\n",
        "\n",
        "#vemos sus parámetros\n",
        "KNN_Classifier_N2.get_params()"
      ],
      "metadata": {
        "colab": {
          "base_uri": "https://localhost:8080/"
        },
        "outputId": "ef2dfaff-27d3-40dd-8965-1d36a5fcc011",
        "id": "_hLoOd-2Pt8-"
      },
      "execution_count": null,
      "outputs": [
        {
          "output_type": "execute_result",
          "data": {
            "text/plain": [
              "{'algorithm': 'auto',\n",
              " 'leaf_size': 30,\n",
              " 'metric': 'minkowski',\n",
              " 'metric_params': None,\n",
              " 'n_jobs': None,\n",
              " 'n_neighbors': 5,\n",
              " 'p': 2,\n",
              " 'weights': 'uniform'}"
            ]
          },
          "metadata": {},
          "execution_count": 26
        }
      ]
    },
    {
      "cell_type": "code",
      "source": [
        "#Entrenar el modelo\n",
        "KNN_Classifier_N2.fit(x_train, y_train)\n",
        "\n",
        "#Predicción sobre test\n",
        "y_pred = KNN_Classifier_N2.predict(x_test)"
      ],
      "metadata": {
        "id": "mrOSVXxxPpt8"
      },
      "execution_count": null,
      "outputs": []
    },
    {
      "cell_type": "code",
      "source": [
        "#Cantidad de aciertos\n",
        "print('correctas: ', np.sum(y_test == y_pred))\n",
        "print('total: ', len(y_test))"
      ],
      "metadata": {
        "colab": {
          "base_uri": "https://localhost:8080/"
        },
        "outputId": "437d782d-8c6b-479b-b177-56ecddc740d4",
        "id": "SXdK8DbjPpuL"
      },
      "execution_count": null,
      "outputs": [
        {
          "output_type": "stream",
          "name": "stdout",
          "text": [
            "correctas:  8528\n",
            "total:  12203\n"
          ]
        }
      ]
    },
    {
      "cell_type": "code",
      "source": [
        "f1_score(y_test,y_pred)"
      ],
      "metadata": {
        "colab": {
          "base_uri": "https://localhost:8080/"
        },
        "id": "rsh3KTjjOPV4",
        "outputId": "328ca3be-e545-4c83-c51b-1f52c79398a2"
      },
      "execution_count": null,
      "outputs": [
        {
          "output_type": "execute_result",
          "data": {
            "text/plain": [
              "0.7132714363735665"
            ]
          },
          "metadata": {},
          "execution_count": 29
        }
      ]
    },
    {
      "cell_type": "markdown",
      "source": [
        "###KNN N3"
      ],
      "metadata": {
        "id": "n8UuPRENP8v9"
      }
    },
    {
      "cell_type": "code",
      "source": [
        "#Crear el modelo, seguimos aumentando la cant de vecinos con la misma metrica de distancia\n",
        "KNN_Classifier_N3 = KNeighborsClassifier(metric='euclidean', n_neighbors=85)\n",
        "\n",
        "#vemos sus parámetros\n",
        "KNN_Classifier_N3.get_params()"
      ],
      "metadata": {
        "colab": {
          "base_uri": "https://localhost:8080/"
        },
        "outputId": "b729e1fd-0509-46d1-e540-033bfc697181",
        "id": "0wstuAztP8wP"
      },
      "execution_count": null,
      "outputs": [
        {
          "output_type": "execute_result",
          "data": {
            "text/plain": [
              "{'algorithm': 'auto',\n",
              " 'leaf_size': 30,\n",
              " 'metric': 'minkowski',\n",
              " 'metric_params': None,\n",
              " 'n_jobs': None,\n",
              " 'n_neighbors': 5,\n",
              " 'p': 2,\n",
              " 'weights': 'uniform'}"
            ]
          },
          "metadata": {},
          "execution_count": 30
        }
      ]
    },
    {
      "cell_type": "code",
      "source": [
        "#Entrenar el modelo\n",
        "KNN_Classifier_N3.fit(x_train, y_train)\n",
        "\n",
        "#Predicción sobre test\n",
        "y_pred = KNN_Classifier_N3.predict(x_test)"
      ],
      "metadata": {
        "id": "JIuW4mvkP8wP"
      },
      "execution_count": null,
      "outputs": []
    },
    {
      "cell_type": "code",
      "source": [
        "#Cantidad de aciertos\n",
        "print('correctas: ', np.sum(y_test == y_pred))\n",
        "print('total: ', len(y_test))"
      ],
      "metadata": {
        "colab": {
          "base_uri": "https://localhost:8080/"
        },
        "outputId": "aeec8291-0761-48cd-fecf-9193e900e809",
        "id": "6IbCqzjcP8wQ"
      },
      "execution_count": null,
      "outputs": [
        {
          "output_type": "stream",
          "name": "stdout",
          "text": [
            "correctas:  8286\n",
            "total:  12203\n"
          ]
        }
      ]
    },
    {
      "cell_type": "code",
      "source": [
        "f1_score(y_test,y_pred)"
      ],
      "metadata": {
        "colab": {
          "base_uri": "https://localhost:8080/"
        },
        "id": "kcx1dS1YOZ1J",
        "outputId": "5912f23a-c795-48df-bb5e-7653f7b79412"
      },
      "execution_count": null,
      "outputs": [
        {
          "output_type": "execute_result",
          "data": {
            "text/plain": [
              "0.6960502832311631"
            ]
          },
          "metadata": {},
          "execution_count": 35
        }
      ]
    },
    {
      "cell_type": "code",
      "source": [
        "accuracy_score(y_test,y_pred)"
      ],
      "metadata": {
        "colab": {
          "base_uri": "https://localhost:8080/"
        },
        "outputId": "13234d57-5aeb-471c-c7f9-dfafe3325296",
        "id": "hfmwCO7xP8wR"
      },
      "execution_count": null,
      "outputs": [
        {
          "output_type": "execute_result",
          "data": {
            "text/plain": [
              "0.6790133573711382"
            ]
          },
          "metadata": {},
          "execution_count": 68
        }
      ]
    },
    {
      "cell_type": "markdown",
      "source": [
        "###KNN N4"
      ],
      "metadata": {
        "id": "xoFb3nC6QNxM"
      }
    },
    {
      "cell_type": "code",
      "source": [
        "#Crear el modelo, misma cantidad de vecinos, con la metrica de distancia por default\n",
        "KNN_Classifier_N4 = KNeighborsClassifier(n_neighbors=85)\n",
        "\n",
        "#vemos sus parámetros\n",
        "KNN_Classifier_N4.get_params()"
      ],
      "metadata": {
        "colab": {
          "base_uri": "https://localhost:8080/"
        },
        "outputId": "5fc48f69-0715-4cb8-faf3-380014e2608c",
        "id": "6nuftr-kQNxf"
      },
      "execution_count": null,
      "outputs": [
        {
          "output_type": "execute_result",
          "data": {
            "text/plain": [
              "{'algorithm': 'auto',\n",
              " 'leaf_size': 30,\n",
              " 'metric': 'minkowski',\n",
              " 'metric_params': None,\n",
              " 'n_jobs': None,\n",
              " 'n_neighbors': 5,\n",
              " 'p': 2,\n",
              " 'weights': 'uniform'}"
            ]
          },
          "metadata": {},
          "execution_count": 36
        }
      ]
    },
    {
      "cell_type": "code",
      "source": [
        "#Entrenar el modelo\n",
        "KNN_Classifier_N4.fit(x_train, y_train)\n",
        "\n",
        "#Predicción sobre test\n",
        "y_pred = KNN_Classifier_N4.predict(x_test)"
      ],
      "metadata": {
        "id": "akn-XY4JQNxg"
      },
      "execution_count": null,
      "outputs": []
    },
    {
      "cell_type": "code",
      "source": [
        "#Cantidad de aciertos\n",
        "print('correctas: ', np.sum(y_test == y_pred))\n",
        "print('total: ', len(y_test))"
      ],
      "metadata": {
        "colab": {
          "base_uri": "https://localhost:8080/"
        },
        "outputId": "4e56b01c-d4d2-4960-8c8f-9c8c3bfbeda9",
        "id": "f0XyP47-QNxh"
      },
      "execution_count": null,
      "outputs": [
        {
          "output_type": "stream",
          "name": "stdout",
          "text": [
            "correctas:  8286\n",
            "total:  12203\n"
          ]
        }
      ]
    },
    {
      "cell_type": "code",
      "source": [
        "f1_score(y_test,y_pred)"
      ],
      "metadata": {
        "colab": {
          "base_uri": "https://localhost:8080/"
        },
        "id": "ZV-oYUkvOjH7",
        "outputId": "0325f458-9a73-4744-8d32-96fe4370417d"
      },
      "execution_count": null,
      "outputs": [
        {
          "output_type": "execute_result",
          "data": {
            "text/plain": [
              "0.6960502832311631"
            ]
          },
          "metadata": {},
          "execution_count": 39
        }
      ]
    },
    {
      "cell_type": "code",
      "source": [
        "accuracy_score(y_test,y_pred)"
      ],
      "metadata": {
        "colab": {
          "base_uri": "https://localhost:8080/"
        },
        "outputId": "216cb437-438f-4055-f046-070a854ee270",
        "id": "bG1VHFpSQNxi"
      },
      "execution_count": null,
      "outputs": [
        {
          "output_type": "execute_result",
          "data": {
            "text/plain": [
              "0.6790133573711382"
            ]
          },
          "metadata": {},
          "execution_count": 78
        }
      ]
    },
    {
      "cell_type": "markdown",
      "source": [
        "###KNN N5"
      ],
      "metadata": {
        "id": "IhHe7jP5Q1GO"
      }
    },
    {
      "cell_type": "code",
      "source": [
        "#Crear el modelo, aumento la cantidad de vecinos\n",
        "KNN_Classifier_N5 = KNeighborsClassifier(n_neighbors=165)\n",
        "\n",
        "#vemos sus parámetros\n",
        "KNN_Classifier.get_params()"
      ],
      "metadata": {
        "colab": {
          "base_uri": "https://localhost:8080/"
        },
        "outputId": "e578d00b-d49c-43fe-9831-6690299a89be",
        "id": "6sBIRR4yQ1GP"
      },
      "execution_count": null,
      "outputs": [
        {
          "output_type": "execute_result",
          "data": {
            "text/plain": [
              "{'algorithm': 'auto',\n",
              " 'leaf_size': 30,\n",
              " 'metric': 'minkowski',\n",
              " 'metric_params': None,\n",
              " 'n_jobs': None,\n",
              " 'n_neighbors': 5,\n",
              " 'p': 2,\n",
              " 'weights': 'uniform'}"
            ]
          },
          "metadata": {},
          "execution_count": 40
        }
      ]
    },
    {
      "cell_type": "code",
      "source": [
        "#Entrenar el modelo\n",
        "KNN_Classifier_N5.fit(x_train, y_train)\n",
        "\n",
        "#Predicción sobre test\n",
        "y_pred = KNN_Classifier_N5.predict(x_test)"
      ],
      "metadata": {
        "id": "sv_OpfkBQ1GQ"
      },
      "execution_count": null,
      "outputs": []
    },
    {
      "cell_type": "code",
      "source": [
        "#Cantidad de aciertos\n",
        "print('correctas: ', np.sum(y_test == y_pred))\n",
        "print('total: ', len(y_test))"
      ],
      "metadata": {
        "colab": {
          "base_uri": "https://localhost:8080/"
        },
        "outputId": "67b5d2d1-5377-4a12-c831-2965d56d7da6",
        "id": "mMJvKDRDQ1GQ"
      },
      "execution_count": null,
      "outputs": [
        {
          "output_type": "stream",
          "name": "stdout",
          "text": [
            "correctas:  8081\n",
            "total:  12203\n"
          ]
        }
      ]
    },
    {
      "cell_type": "code",
      "source": [
        "f1_score(y_test,y_pred) "
      ],
      "metadata": {
        "colab": {
          "base_uri": "https://localhost:8080/"
        },
        "id": "83q78uCBOn-o",
        "outputId": "5472f0ab-6ac9-4d77-9640-d94834314608"
      },
      "execution_count": null,
      "outputs": [
        {
          "output_type": "execute_result",
          "data": {
            "text/plain": [
              "0.6863968350578211"
            ]
          },
          "metadata": {},
          "execution_count": 43
        }
      ]
    },
    {
      "cell_type": "markdown",
      "source": [
        "En base a esto podria deducir que a medida que aumentamos la cantidad de vecinos, f1 score disminuye. Pero decidimos seguir probando"
      ],
      "metadata": {
        "id": "rboOOGkcmLT1"
      }
    },
    {
      "cell_type": "markdown",
      "source": [
        "###KNN N6"
      ],
      "metadata": {
        "id": "JhCV5f3RROd4"
      }
    },
    {
      "cell_type": "code",
      "source": [
        "#Crear el modelo, probamos si nuestra sospecha es cierta y disminuimos el numero de vecinos\n",
        "KNN_Classifier_N6 = KNeighborsClassifier(metric='euclidean',n_neighbors=4)\n",
        "\n",
        "#vemos sus parámetros\n",
        "KNN_Classifier_N6.get_params()"
      ],
      "metadata": {
        "colab": {
          "base_uri": "https://localhost:8080/"
        },
        "outputId": "6010f31f-acf4-406d-fbe3-8fc4211cc9f9",
        "id": "PsTA3z3rROd6"
      },
      "execution_count": null,
      "outputs": [
        {
          "output_type": "execute_result",
          "data": {
            "text/plain": [
              "{'algorithm': 'auto',\n",
              " 'leaf_size': 30,\n",
              " 'metric': 'minkowski',\n",
              " 'metric_params': None,\n",
              " 'n_jobs': None,\n",
              " 'n_neighbors': 5,\n",
              " 'p': 2,\n",
              " 'weights': 'uniform'}"
            ]
          },
          "metadata": {},
          "execution_count": 44
        }
      ]
    },
    {
      "cell_type": "code",
      "source": [
        "#Entrenar el modelo\n",
        "KNN_Classifier_N6.fit(x_train, y_train)\n",
        "\n",
        "#Predicción sobre test\n",
        "y_pred = KNN_Classifier_N6.predict(x_test)"
      ],
      "metadata": {
        "id": "RncUhaysROd6"
      },
      "execution_count": null,
      "outputs": []
    },
    {
      "cell_type": "code",
      "source": [
        "#Cantidad de aciertos\n",
        "print('correctas: ', np.sum(y_test == y_pred))\n",
        "print('total: ', len(y_test))"
      ],
      "metadata": {
        "colab": {
          "base_uri": "https://localhost:8080/"
        },
        "outputId": "c0b2b7cd-ebd8-4748-f284-254ce53e6faa",
        "id": "rZCLzG5dROd7"
      },
      "execution_count": null,
      "outputs": [
        {
          "output_type": "stream",
          "name": "stdout",
          "text": [
            "correctas:  9153\n",
            "total:  12203\n"
          ]
        }
      ]
    },
    {
      "cell_type": "code",
      "source": [
        "f1_score(y_test,y_pred) "
      ],
      "metadata": {
        "colab": {
          "base_uri": "https://localhost:8080/"
        },
        "id": "OZHAPeRXOvrK",
        "outputId": "1946007b-2877-42e4-8a4a-1be182e69fe9"
      },
      "execution_count": null,
      "outputs": [
        {
          "output_type": "execute_result",
          "data": {
            "text/plain": [
              "0.7326906222611743"
            ]
          },
          "metadata": {},
          "execution_count": 47
        }
      ]
    },
    {
      "cell_type": "markdown",
      "source": [
        "### KNN N7"
      ],
      "metadata": {
        "id": "ZwrAan4ISHT1"
      }
    },
    {
      "cell_type": "code",
      "source": [
        "#Crear el modelo, decidimos usar la metrica de distancia euclidea, con una cant de vecinos baja.\n",
        "KNN_Classifier_N7 = KNeighborsClassifier(metric='euclidean',n_neighbors=5)\n",
        "\n",
        "#vemos sus parámetros\n",
        "KNN_Classifier.get_params()"
      ],
      "metadata": {
        "colab": {
          "base_uri": "https://localhost:8080/"
        },
        "outputId": "7be44a7c-240d-415c-8d80-7a6b0499f17c",
        "id": "HJU-8BEzSHUG"
      },
      "execution_count": null,
      "outputs": [
        {
          "output_type": "execute_result",
          "data": {
            "text/plain": [
              "{'algorithm': 'auto',\n",
              " 'leaf_size': 30,\n",
              " 'metric': 'minkowski',\n",
              " 'metric_params': None,\n",
              " 'n_jobs': None,\n",
              " 'n_neighbors': 5,\n",
              " 'p': 2,\n",
              " 'weights': 'uniform'}"
            ]
          },
          "metadata": {},
          "execution_count": 48
        }
      ]
    },
    {
      "cell_type": "code",
      "source": [
        "#Entrenar el modelo\n",
        "KNN_Classifier_N7.fit(x_train, y_train)\n",
        "\n",
        "#Predicción sobre test\n",
        "y_pred = KNN_Classifier_N7.predict(x_test)"
      ],
      "metadata": {
        "id": "QWNThhLzSHUH"
      },
      "execution_count": null,
      "outputs": []
    },
    {
      "cell_type": "code",
      "source": [
        "#Cantidad de aciertos\n",
        "print('correctas: ', np.sum(y_test == y_pred))\n",
        "print('total: ', len(y_test))"
      ],
      "metadata": {
        "colab": {
          "base_uri": "https://localhost:8080/"
        },
        "outputId": "8acd699c-f4a6-4106-e2d6-a2de300c1bea",
        "id": "Evw9JOcYSHUI"
      },
      "execution_count": null,
      "outputs": [
        {
          "output_type": "stream",
          "name": "stdout",
          "text": [
            "correctas:  9002\n",
            "total:  12203\n"
          ]
        }
      ]
    },
    {
      "cell_type": "code",
      "source": [
        "f1_score(y_test,y_pred)"
      ],
      "metadata": {
        "colab": {
          "base_uri": "https://localhost:8080/"
        },
        "id": "zak9xRqTO2uU",
        "outputId": "16c2fd3d-de60-48dc-8427-9fe9cab77762"
      },
      "execution_count": null,
      "outputs": [
        {
          "output_type": "execute_result",
          "data": {
            "text/plain": [
              "0.7441860465116278"
            ]
          },
          "metadata": {},
          "execution_count": 51
        }
      ]
    },
    {
      "cell_type": "code",
      "source": [
        "accuracy_score(y_test,y_pred)"
      ],
      "metadata": {
        "colab": {
          "base_uri": "https://localhost:8080/"
        },
        "outputId": "c6cfed0b-5ca1-47a7-fb6f-a405614a9147",
        "id": "_NCh3HovSHUI"
      },
      "execution_count": null,
      "outputs": [
        {
          "output_type": "execute_result",
          "data": {
            "text/plain": [
              "0.7376874539047775"
            ]
          },
          "metadata": {},
          "execution_count": 91
        }
      ]
    },
    {
      "cell_type": "markdown",
      "source": [
        "###KNN N8"
      ],
      "metadata": {
        "id": "0GZ6yVy6SVko"
      }
    },
    {
      "cell_type": "code",
      "source": [
        "#Crear el modelo, decidimos bajar mucho mas la cant de vecinos\n",
        "KNN_Classifier_N8 = KNeighborsClassifier(metric='euclidean',n_neighbors=3)\n",
        "\n",
        "#vemos sus parámetros\n",
        "KNN_Classifier_N8.get_params()"
      ],
      "metadata": {
        "colab": {
          "base_uri": "https://localhost:8080/"
        },
        "outputId": "113bc43c-3232-4d6f-eceb-21cc4ff7118a",
        "id": "Vb3ZNiBRSVk7"
      },
      "execution_count": null,
      "outputs": [
        {
          "output_type": "execute_result",
          "data": {
            "text/plain": [
              "{'algorithm': 'auto',\n",
              " 'leaf_size': 30,\n",
              " 'metric': 'minkowski',\n",
              " 'metric_params': None,\n",
              " 'n_jobs': None,\n",
              " 'n_neighbors': 5,\n",
              " 'p': 2,\n",
              " 'weights': 'uniform'}"
            ]
          },
          "metadata": {},
          "execution_count": 52
        }
      ]
    },
    {
      "cell_type": "code",
      "source": [
        "#Entrenar el modelo\n",
        "KNN_Classifier_N8.fit(x_train, y_train)\n",
        "\n",
        "#Predicción sobre test\n",
        "y_pred = KNN_Classifier_N8.predict(x_test)"
      ],
      "metadata": {
        "id": "B1LdRPIWSVk8"
      },
      "execution_count": null,
      "outputs": []
    },
    {
      "cell_type": "code",
      "source": [
        "#Cantidad de aciertos\n",
        "print('correctas: ', np.sum(y_test == y_pred))\n",
        "print('total: ', len(y_test))"
      ],
      "metadata": {
        "colab": {
          "base_uri": "https://localhost:8080/"
        },
        "outputId": "5db950df-82e0-4d8c-95ed-0b79ad4b4b50",
        "id": "xjnNsBNjSVk9"
      },
      "execution_count": null,
      "outputs": [
        {
          "output_type": "stream",
          "name": "stdout",
          "text": [
            "correctas:  9111\n",
            "total:  12203\n"
          ]
        }
      ]
    },
    {
      "cell_type": "code",
      "source": [
        "f1_score(y_test,y_pred)"
      ],
      "metadata": {
        "id": "NQeqr1K2m_mZ"
      },
      "execution_count": null,
      "outputs": []
    },
    {
      "cell_type": "markdown",
      "source": [
        "###KNN N9"
      ],
      "metadata": {
        "id": "zz7_1HJrSoe4"
      }
    },
    {
      "cell_type": "code",
      "source": [
        "#Crear el modelo, seguimos probando\n",
        "KNN_Classifier_N9 = KNeighborsClassifier(n_neighbors=3)\n",
        "\n",
        "#vemos sus parámetros\n",
        "KNN_Classifier.get_params()"
      ],
      "metadata": {
        "colab": {
          "base_uri": "https://localhost:8080/"
        },
        "outputId": "49f47d7c-58c6-4adf-ad5f-535095276b52",
        "id": "FU1mXLO5Soe5"
      },
      "execution_count": null,
      "outputs": [
        {
          "output_type": "execute_result",
          "data": {
            "text/plain": [
              "{'algorithm': 'auto',\n",
              " 'leaf_size': 30,\n",
              " 'metric': 'minkowski',\n",
              " 'metric_params': None,\n",
              " 'n_jobs': None,\n",
              " 'n_neighbors': 5,\n",
              " 'p': 2,\n",
              " 'weights': 'uniform'}"
            ]
          },
          "metadata": {},
          "execution_count": 56
        }
      ]
    },
    {
      "cell_type": "code",
      "source": [
        "#Entrenar el modelo\n",
        "KNN_Classifier_N9.fit(x_train, y_train)\n",
        "\n",
        "#Predicción sobre test\n",
        "y_pred = KNN_Classifier_N9.predict(x_test)"
      ],
      "metadata": {
        "id": "_vQOLDMDSoe6"
      },
      "execution_count": null,
      "outputs": []
    },
    {
      "cell_type": "code",
      "source": [
        "#Cantidad de aciertos\n",
        "print('correctas: ', np.sum(y_test == y_pred))\n",
        "print('total: ', len(y_test))"
      ],
      "metadata": {
        "colab": {
          "base_uri": "https://localhost:8080/"
        },
        "outputId": "ebcc2200-b05d-4099-f916-ecab8756f4f5",
        "id": "dgrPAIGsSoe7"
      },
      "execution_count": null,
      "outputs": [
        {
          "output_type": "stream",
          "name": "stdout",
          "text": [
            "correctas:  9111\n",
            "total:  12203\n"
          ]
        }
      ]
    },
    {
      "cell_type": "code",
      "source": [
        "accuracy_score(y_test,y_pred)"
      ],
      "metadata": {
        "colab": {
          "base_uri": "https://localhost:8080/"
        },
        "outputId": "3d32ae71-4632-4ad8-c1c3-0b42ef4818fc",
        "id": "y4D_4Vl3Soe7"
      },
      "execution_count": null,
      "outputs": [
        {
          "output_type": "execute_result",
          "data": {
            "text/plain": [
              "0.74661968368434"
            ]
          },
          "metadata": {},
          "execution_count": 99
        }
      ]
    },
    {
      "cell_type": "markdown",
      "source": [
        "Despues de tantas pruebas, es muy probable que la relacion entre la cantidad de vecinos y el f1score es inversa. Por lo que decidimos elegir rangos y verlos graficamente"
      ],
      "metadata": {
        "id": "tDRtXTbCnLqV"
      }
    },
    {
      "cell_type": "markdown",
      "source": [
        "###KNN Rango 1 a 50"
      ],
      "metadata": {
        "id": "PqEOKamUTrTe"
      }
    },
    {
      "cell_type": "markdown",
      "source": [
        "Inicialmente quisimos probar con todo el tamaño de x, pero iba atomar mucho tiempo. Por lo que decidimos arrancar de 1 a 50 vecinos"
      ],
      "metadata": {
        "id": "m1XxeQ25naWd"
      }
    },
    {
      "cell_type": "code",
      "source": [
        "from sklearn.model_selection import cross_val_score\n",
        "\n",
        "k_range=range(1,50) #canidad de vecinos a probar\n",
        "\n",
        "k_scores=[] # accuracy para cada K utilizado\n",
        "\n",
        "for k in k_range:\n",
        "    #clasificador Knn\n",
        "    knn=KNeighborsClassifier(n_neighbors=k)\n",
        "    #uso 10 folds\n",
        "    scores=cross_val_score(knn,x_train,y_train,cv=10,scoring='accuracy')\n",
        "    #promedio las 10 métricas\n",
        "    k_scores.append(scores.mean())"
      ],
      "metadata": {
        "id": "YHNEImH4N2sB"
      },
      "execution_count": null,
      "outputs": []
    },
    {
      "cell_type": "code",
      "source": [
        "#ploteamos accuracy vs cantidad de vecinos\n",
        "plt.plot(k_range, k_scores)\n",
        "plt.xlabel('Cantidad de Vecinos')\n",
        "plt.ylabel('Cross Validation F1Score')\n",
        "plt.title('Accuracy vs Cantidad de Vecinos')\n",
        "plt.show()"
      ],
      "metadata": {
        "colab": {
          "base_uri": "https://localhost:8080/",
          "height": 472
        },
        "id": "b-4ikEGpOnN6",
        "outputId": "3420af54-e25d-4e3b-a22f-1cf43518e43d"
      },
      "execution_count": null,
      "outputs": [
        {
          "output_type": "display_data",
          "data": {
            "text/plain": [
              "<Figure size 640x480 with 1 Axes>"
            ],
            "image/png": "[encoded data removed]"
          },
          "metadata": {}
        }
      ]
    },
    {
      "cell_type": "code",
      "source": [
        "from sklearn.model_selection import cross_val_score\n",
        "\n",
        "k_range=range(1,50) #canidad de vecinos a probar\n",
        "\n",
        "k_scores=[] # accuracy para cada K utilizado\n",
        "\n",
        "for k in k_range:\n",
        "    #clasificador Knn\n",
        "    knn=KNeighborsClassifier(n_neighbors=k)\n",
        "    #uso 10 folds\n",
        "    scores=cross_val_score(knn,x_train,y_train,cv=10,scoring='f1')\n",
        "    #promedio las 10 métricas\n",
        "    k_scores.append(scores.mean())"
      ],
      "metadata": {
        "id": "5nMhBKsf3GhV"
      },
      "execution_count": null,
      "outputs": []
    },
    {
      "cell_type": "code",
      "source": [
        "#ploteamos f1score vs cantidad de vecinos\n",
        "plt.plot(k_range, k_scores)\n",
        "plt.xlabel('Cantidad de Vecinos')\n",
        "plt.ylabel('Cross Validation F1Score')\n",
        "plt.title('F1Score vs Cantidad de Vecinos')\n",
        "plt.show()"
      ],
      "metadata": {
        "colab": {
          "base_uri": "https://localhost:8080/",
          "height": 472
        },
        "id": "zMcbgKhw3Hbk",
        "outputId": "3c990ee3-001c-467d-b4b8-47c303229183"
      },
      "execution_count": null,
      "outputs": [
        {
          "output_type": "display_data",
          "data": {
            "text/plain": [
              "<Figure size 640x480 with 1 Axes>"
            ],
            "image/png": "[encoded data removed]"
          },
          "metadata": {}
        }
      ]
    },
    {
      "cell_type": "markdown",
      "source": [
        "Vemos que el mejor F1_Score lo vamos a obtener con una cantidad pequeña de vecinos"
      ],
      "metadata": {
        "id": "U0X4E4dRnmBy"
      }
    },
    {
      "cell_type": "markdown",
      "source": [
        "###KNN Rango 50 a 80"
      ],
      "metadata": {
        "id": "cfFYUzpVZQks"
      }
    },
    {
      "cell_type": "markdown",
      "source": [
        "Por las dudas, decidimos incrementar un poco mas nuestro rango"
      ],
      "metadata": {
        "id": "FjlGDLR5ntbN"
      }
    },
    {
      "cell_type": "code",
      "source": [
        "from sklearn.model_selection import cross_val_score\n",
        "\n",
        "k_range=range(50,80) #canidad de vecinos a probar\n",
        "\n",
        "k_scores=[] # accuracy para cada K utilizado\n",
        "\n",
        "for k in k_range:\n",
        "    #clasificador Knn\n",
        "    knn=KNeighborsClassifier(n_neighbors=k)\n",
        "    #uso 10 folds\n",
        "    scores=cross_val_score(knn,x_train,y_train,cv=10,scoring='accuracy')\n",
        "    #promedio las 10 métricas\n",
        "    k_scores.append(scores.mean())"
      ],
      "metadata": {
        "id": "6LpW0MQVYGH1"
      },
      "execution_count": null,
      "outputs": []
    },
    {
      "cell_type": "code",
      "source": [
        "#ploteamos accuracy vs cantidad de vecinos\n",
        "plt.plot(k_range, k_scores)\n",
        "plt.xlabel('Cantidad de Vecinos')\n",
        "plt.ylabel('Cross Validation Accuracy')\n",
        "plt.title('Accuracy vs Cantidad de Vecinos')\n",
        "plt.show()"
      ],
      "metadata": {
        "colab": {
          "base_uri": "https://localhost:8080/",
          "height": 472
        },
        "outputId": "47109d90-c1ec-4367-ca41-7b95bd082292",
        "id": "v6KJNcaZYGH3"
      },
      "execution_count": null,
      "outputs": [
        {
          "output_type": "display_data",
          "data": {
            "text/plain": [
              "<Figure size 640x480 with 1 Axes>"
            ],
            "image/png": "[encoded data removed]"
          },
          "metadata": {}
        }
      ]
    },
    {
      "cell_type": "code",
      "source": [
        "from sklearn.model_selection import cross_val_score\n",
        "\n",
        "k_range=range(50,80) #canidad de vecinos a probar\n",
        "\n",
        "k_scores=[] # accuracy para cada K utilizado\n",
        "\n",
        "for k in k_range:\n",
        "    #clasificador Knn\n",
        "    knn=KNeighborsClassifier(n_neighbors=k)\n",
        "    #uso 10 folds\n",
        "    scores=cross_val_score(knn,x_train,y_train,cv=10,scoring='f1') #PRUEBO CON F1SCORE\n",
        "    #promedio las 10 métricas\n",
        "    k_scores.append(scores.mean())"
      ],
      "metadata": {
        "id": "-ca4flqU2efi"
      },
      "execution_count": null,
      "outputs": []
    },
    {
      "cell_type": "code",
      "source": [
        "#ploteamos f1Score vs cantidad de vecinos\n",
        "plt.plot(k_range, k_scores)\n",
        "plt.xlabel('Cantidad de Vecinos')\n",
        "plt.ylabel('Cross Validation Accuracy')\n",
        "plt.title('F1Score vs Cantidad de Vecinos')\n",
        "plt.show()"
      ],
      "metadata": {
        "colab": {
          "base_uri": "https://localhost:8080/",
          "height": 472
        },
        "id": "6LPUc1B72hkC",
        "outputId": "f0a3b031-f278-4c43-a653-967b70dacd87"
      },
      "execution_count": null,
      "outputs": [
        {
          "output_type": "display_data",
          "data": {
            "text/plain": [
              "<Figure size 640x480 with 1 Axes>"
            ],
            "image/png": "[encoded data removed]"
          },
          "metadata": {}
        }
      ]
    },
    {
      "cell_type": "markdown",
      "source": [
        "Comprobamos nuestra sospecha, la relacion entre la cant de vecinos y mi metrica f1_score es inversa"
      ],
      "metadata": {
        "id": "TU6H43Dpn0XP"
      }
    },
    {
      "cell_type": "markdown",
      "source": [
        "###Random Search KNN"
      ],
      "metadata": {
        "id": "_kR08ytic0zi"
      }
    },
    {
      "cell_type": "markdown",
      "source": [
        "Decidimos buscar nuestros mejores parametros, como anteriormente vimos decidimos usar un rango de 1 a 12 vecinos para esta busqueda. "
      ],
      "metadata": {
        "id": "RiREou-eoC7X"
      }
    },
    {
      "cell_type": "code",
      "source": [
        "from sklearn.model_selection import RandomizedSearchCV #HACEMOS VALIDACION CRUZADA PARA BUSCAR HIPERPARAMETROS \n",
        "\n",
        "#Grilla de Parámetros\n",
        "params_grid={ 'n_neighbors':range(1,12), \n",
        "              'weights':['distance','uniform'],\n",
        "              'algorithm':['ball_tree', 'kd_tree'],\n",
        "              'metric':['euclidean','manhattan','chebyshev'] #ESAS 3 SIRVEN PARA CUALQUIER ALGORITMO\n",
        "             }\n",
        "#Clasificador KNN\n",
        "knn=KNeighborsClassifier()\n",
        "\n",
        "#Random Search con 10 Folds y 10 iteraciones\n",
        "rand = RandomizedSearchCV(knn, params_grid, cv=10, scoring='f1', n_iter=10, random_state=5) #LE DAMOS EL KNN BASE, QUE BUSQUE HACIENDO 10 FOLDS, QUE BUSQUE 10 JUEGOS DE PARAMETROS(n_iter)\n",
        "#CV = CANTIDAD DE VECES QUE SE VALIDA\n",
        "\n",
        "rand.fit(x_train, y_train) #LO ENTRENO\n",
        "rand.cv_results_['mean_test_score'] #DAME EL PROMEDIO DE TU SCORE, PORQUE PODRIA DARME UN CASO BORDE SI LE PIDO EL MAXIMO"
      ],
      "metadata": {
        "id": "2Xb38zj2cwUo",
        "colab": {
          "base_uri": "https://localhost:8080/"
        },
        "outputId": "273454b7-5f87-44bf-a818-0e0b6c5dfd09"
      },
      "execution_count": null,
      "outputs": [
        {
          "output_type": "execute_result",
          "data": {
            "text/plain": [
              "array([0.75444824, 0.77726735, 0.79918971, 0.75023373, 0.79896889,\n",
              "       0.75669771, 0.76356238, 0.73499748, 0.77017825, 0.74927201])"
            ]
          },
          "metadata": {},
          "execution_count": 18
        }
      ]
    },
    {
      "cell_type": "code",
      "source": [
        "joblib.dump(rand, 'knn_best_model.pkl')"
      ],
      "metadata": {
        "colab": {
          "base_uri": "https://localhost:8080/"
        },
        "id": "XYzCXj10HJc7",
        "outputId": "8a134e08-a421-4c6c-9c64-dcaaac2e82c1"
      },
      "execution_count": null,
      "outputs": [
        {
          "output_type": "execute_result",
          "data": {
            "text/plain": [
              "['knn_best_model.pkl']"
            ]
          },
          "metadata": {},
          "execution_count": 21
        }
      ]
    },
    {
      "cell_type": "code",
      "source": [
        "#Mejores hiperparametros AHORA SI LE PIDO EL MEJOR SET DE PARAMETROS CON LA MEJOR METRICA\n",
        "print(rand.best_params_)\n",
        "#Mejor métrica\n",
        "print(rand.best_score_)"
      ],
      "metadata": {
        "colab": {
          "base_uri": "https://localhost:8080/"
        },
        "id": "IIkjNCDwdtN_",
        "outputId": "81d1c916-0b78-4626-dee5-b32066a15d0b"
      },
      "execution_count": null,
      "outputs": [
        {
          "output_type": "stream",
          "name": "stdout",
          "text": [
            "{'weights': 'distance', 'n_neighbors': 11, 'metric': 'manhattan', 'algorithm': 'ball_tree'}\n",
            "0.7991897104730591\n"
          ]
        }
      ]
    },
    {
      "cell_type": "code",
      "source": [
        "#Predicción sobre test\n",
        "y_pred = rand.predict(x_test)"
      ],
      "metadata": {
        "id": "S-VRX0zcGhq-"
      },
      "execution_count": null,
      "outputs": []
    },
    {
      "cell_type": "code",
      "source": [
        "#Predicción sobre test\n",
        "predicciones = rand.predict(df_knntest)"
      ],
      "metadata": {
        "id": "Uu76NFjvJ1-p"
      },
      "execution_count": null,
      "outputs": []
    },
    {
      "cell_type": "code",
      "source": [
        "df_submission = pd.DataFrame({'id':df_test['id'], 'is_canceled':predicciones})\n",
        "df_submission.head()\n",
        "df_submission.shape\n"
      ],
      "metadata": {
        "id": "anunuCN1-K1f",
        "colab": {
          "base_uri": "https://localhost:8080/"
        },
        "outputId": "a055593d-4623-46e7-f5a2-ce3dacc30e7f"
      },
      "execution_count": null,
      "outputs": [
        {
          "output_type": "execute_result",
          "data": {
            "text/plain": [
              "(26535, 2)"
            ]
          },
          "metadata": {},
          "execution_count": 25
        }
      ]
    },
    {
      "cell_type": "code",
      "source": [
        "#df_submission.to_csv('/content/drive/MyDrive/submissions/submission_KNN.csv', index=False)"
      ],
      "metadata": {
        "id": "zUg3IRLL_H8Q"
      },
      "execution_count": null,
      "outputs": []
    },
    {
      "cell_type": "markdown",
      "source": [
        "###Matriz de confusion"
      ],
      "metadata": {
        "id": "BlMX4BpxJoht"
      }
    },
    {
      "cell_type": "code",
      "source": [
        "#Creo la matriz de confusión\n",
        "tabla=confusion_matrix(y_test, y_pred)\n",
        "\n",
        "#Grafico la matriz de confusión\n",
        "sns.heatmap(tabla,cmap='GnBu',annot=True,fmt='g')\n",
        "plt.xlabel('Predicted')\n",
        "plt.ylabel('True')"
      ],
      "metadata": {
        "colab": {
          "base_uri": "https://localhost:8080/",
          "height": 467
        },
        "id": "w7v_BEmSJqh3",
        "outputId": "9ebb3c58-4ab9-49f6-b0d9-c444804c0e1a"
      },
      "execution_count": null,
      "outputs": [
        {
          "output_type": "execute_result",
          "data": {
            "text/plain": [
              "Text(50.722222222222214, 0.5, 'True')"
            ]
          },
          "metadata": {},
          "execution_count": 28
        },
        {
          "output_type": "display_data",
          "data": {
            "text/plain": [
              "<Figure size 640x480 with 2 Axes>"
            ],
            "image/png": "[encoded data removed]"
          },
          "metadata": {}
        }
      ]
    },
    {
      "cell_type": "markdown",
      "source": [
        "Concluimos con esa matriz de confusion que hizo buenas predicciones, por lo que vemos tiene un buen accuracy y f1_score"
      ],
      "metadata": {
        "id": "8pPY4f79o5fv"
      }
    },
    {
      "cell_type": "code",
      "source": [
        "knn = rand"
      ],
      "metadata": {
        "id": "S9xf3RBfi_OZ"
      },
      "execution_count": null,
      "outputs": []
    },
    {
      "cell_type": "markdown",
      "source": [
        "\n",
        "##b. Construir un clasificador SVM variando el kernel y los parámetros.\n",
        "\n"
      ],
      "metadata": {
        "id": "TkkmSZuT3jRg"
      }
    },
    {
      "cell_type": "markdown",
      "source": [
        "###Preparacion"
      ],
      "metadata": {
        "id": "93tOehJiXTqh"
      }
    },
    {
      "cell_type": "code",
      "source": [
        "features = ['lead_time', 'stays_in_weekend_nights', 'stays_in_week_nights',\n",
        "       'adults', 'children', 'babies', 'is_repeated_guest',\n",
        "       'previous_cancellations', 'previous_bookings_not_canceled',\n",
        "       'booking_changes', 'agent', 'days_in_waiting_list',\n",
        "       'average_daily_rate', 'required_car_parking_spaces',\n",
        "       'total_of_special_requests', 'assigned_equals_reserved',\n",
        "       'temporada_alta', 'hotel_Resort Hotel', 'meal_FB', 'meal_HB', 'meal_SC',\n",
        "       'deposit_type_Non Refund', 'deposit_type_Refundable',\n",
        "       'customer_type_Group', 'customer_type_Transient',\n",
        "       'customer_type_Transient-Party', 'country_BEL', 'country_BRA',\n",
        "       'country_CHE', 'country_CHN', 'country_CN', 'country_DEU',\n",
        "       'country_ESP', 'country_FRA', 'country_GBR', 'country_IRL',\n",
        "       'country_ISR', 'country_ITA', 'country_NLD', 'country_NOR',\n",
        "       'country_OTHER', 'country_POL', 'country_PRT', 'country_RUS',\n",
        "       'country_SWE', 'country_USA', 'distribution_channel_Direct',\n",
        "       'distribution_channel_GDS', 'distribution_channel_TA/TO',\n",
        "       'market_segment_Complementary', 'market_segment_Corporate',\n",
        "       'market_segment_Direct', 'market_segment_Groups',\n",
        "       'market_segment_Offline TA/TO', 'market_segment_Online TA']"
      ],
      "metadata": {
        "id": "PLM_98o2W9BO"
      },
      "execution_count": null,
      "outputs": []
    },
    {
      "cell_type": "code",
      "source": [
        "def metricas(y_pred,y_test):\n",
        "\n",
        "  print(classification_report(y_test,y_pred))\n",
        "  \n",
        "  cm = confusion_matrix(y_test,y_pred)\n",
        "  sns.heatmap(cm, cmap='Blues',annot=True,fmt='g')\n",
        "  plt.xlabel('Predicted')\n",
        "  plt.ylabel('True')"
      ],
      "metadata": {
        "id": "a57608COwU_S"
      },
      "execution_count": null,
      "outputs": []
    },
    {
      "cell_type": "code",
      "source": [
        "target= 'is_canceled'"
      ],
      "metadata": {
        "id": "vEP9MjowVWkD"
      },
      "execution_count": null,
      "outputs": []
    },
    {
      "cell_type": "code",
      "source": [
        "datasetsvm = dataset.drop(columns=['assigned_room_type', 'reserved_room_type', 'id', 'arrival_date'])"
      ],
      "metadata": {
        "id": "Q9MeI6KOV7MW"
      },
      "execution_count": null,
      "outputs": []
    },
    {
      "cell_type": "code",
      "source": [
        "df_svmtest = df_test.copy()"
      ],
      "metadata": {
        "id": "ezuJq_1KV7MX"
      },
      "execution_count": null,
      "outputs": []
    },
    {
      "cell_type": "code",
      "source": [
        "df_svmtest = df_svmtest.drop(columns=['assigned_room_type', 'reserved_room_type', 'id', 'arrival_date'])"
      ],
      "metadata": {
        "id": "xtMxxxofV7MY"
      },
      "execution_count": null,
      "outputs": []
    },
    {
      "cell_type": "code",
      "source": [
        "df_svmtest = df_svmtest[features]\n",
        "      "
      ],
      "metadata": {
        "id": "6xtnH5CyV7MY"
      },
      "execution_count": null,
      "outputs": []
    },
    {
      "cell_type": "markdown",
      "source": [
        "###Preprocesamiento"
      ],
      "metadata": {
        "id": "zeDr8nb4XZzZ"
      }
    },
    {
      "cell_type": "code",
      "source": [
        "#Creo conjuntos de train y test\n",
        "x_train, x_test, y_train, y_test = train_test_split(datasetsvm[features].values, datasetsvm[target].values, test_size=0.2, random_state=0)\n",
        "\n",
        "#Armo una version escalada con minmax (media=0 , var=1  )\n",
        "min_max_scaler = skp.MinMaxScaler()\n",
        "x_train_minmax = min_max_scaler.fit_transform(x_train) #transformo a min max\n",
        "x_test_minmax  = min_max_scaler.transform(x_test) \n",
        "\n",
        "#Armo una version estandarizada\n",
        "stand_scaler = skp.StandardScaler()\n",
        "x_train_norm = stand_scaler.fit_transform(x_train) #transformo standar\n",
        "x_test_norm=stand_scaler.transform(x_test)"
      ],
      "metadata": {
        "id": "i60dCM_YeAA9"
      },
      "execution_count": null,
      "outputs": []
    },
    {
      "cell_type": "markdown",
      "source": [
        "###SVM Estandar"
      ],
      "metadata": {
        "id": "vRHQRYY-Xf2y"
      }
    },
    {
      "cell_type": "markdown",
      "source": [
        "Decidimos arrancar con un caso base, sin parametros, sin normalizar los datos"
      ],
      "metadata": {
        "id": "lkFgdOJZpI1h"
      }
    },
    {
      "cell_type": "code",
      "source": [
        "#Construyo un modelo SVM  \n",
        "svm = SVC()\n",
        "\n",
        "#Lo entreno con los datos sin escalar PRUEBO ENTRENANDO SIN NORMALIZAR\n",
        "svm.fit(x_train, y_train)\n",
        "\n",
        "#Hago la prediccion y calculo las métricas\n",
        "y_pred=svm.predict(x_test)\n",
        "metricas(y_pred,y_test)"
      ],
      "metadata": {
        "id": "Uc7kVjlxHLMG"
      },
      "execution_count": null,
      "outputs": []
    },
    {
      "cell_type": "markdown",
      "source": [
        "###SVM Normalizado"
      ],
      "metadata": {
        "id": "nwPm6brmY5xB"
      }
    },
    {
      "cell_type": "markdown",
      "source": [
        "Ahora decidimos que los datos tengan una desviacion estandar de 1, dado que con esa transformacion podemos mejorar los resultados"
      ],
      "metadata": {
        "id": "b2wzol1kpY_P"
      }
    },
    {
      "cell_type": "code",
      "source": [
        "#Construyo un modelo SVM CON LOS TRANSFORMADOS POR STANDAR\n",
        "svm_norm= SVC()\n",
        "\n",
        "#Lo entreno con los datos escalados con normalizacion\n",
        "svm_norm.fit(x_train_norm, y_train)\n",
        "\n",
        "#Hago la prediccion y calculo las métricas\n",
        "y_pred_norm=svm_norm.predict(x_test_norm)\n",
        "metricas(y_pred_norm,y_test)"
      ],
      "metadata": {
        "id": "WEIljgEbwbE0"
      },
      "execution_count": null,
      "outputs": []
    },
    {
      "cell_type": "code",
      "source": [
        "#Construyo un modelo SVM TRANSFORMADO POR MIN MAX\n",
        "svm_minmax= SVC()\n",
        "\n",
        "#Lo entreno con los datos escalados con min max\n",
        "svm_minmax.fit(x_train_minmax, y_train)\n",
        "\n",
        "#Hago la prediccion y calculo las métricas\n",
        "y_pred_minmax=svm_minmax.predict(x_test_minmax)\n",
        "metricas(y_pred_minmax,y_test)"
      ],
      "metadata": {
        "colab": {
          "base_uri": "https://localhost:8080/",
          "height": 615
        },
        "id": "BnLeVPGTfEHo",
        "outputId": "59c5ff27-76fd-4c54-e974-11b87fe35628"
      },
      "execution_count": null,
      "outputs": [
        {
          "output_type": "stream",
          "name": "stdout",
          "text": [
            "              precision    recall  f1-score   support\n",
            "\n",
            "           0       0.84      0.81      0.83      6095\n",
            "           1       0.82      0.84      0.83      6108\n",
            "\n",
            "    accuracy                           0.83     12203\n",
            "   macro avg       0.83      0.83      0.83     12203\n",
            "weighted avg       0.83      0.83      0.83     12203\n",
            "\n"
          ]
        },
        {
          "output_type": "display_data",
          "data": {
            "text/plain": [
              "<Figure size 640x480 with 2 Axes>"
            ],
            "image/png": "[encoded data removed]"
          },
          "metadata": {}
        }
      ]
    },
    {
      "cell_type": "markdown",
      "source": [
        "###SVM GridSearch Busqueda hiperparametros\n"
      ],
      "metadata": {
        "id": "g-Vci8XKjJXq"
      }
    },
    {
      "cell_type": "markdown",
      "source": [
        "Es importante tener buenos hiperparametros de regularizacion para evitar el overfitting. En estos casos es mejor usar Grid Search que Random Search dado el primero evalua todas las combinaciones. "
      ],
      "metadata": {
        "id": "lCW7lIrOkqb6"
      }
    },
    {
      "cell_type": "markdown",
      "source": [
        "Busqueda de hiperparametros Kernel Lineal"
      ],
      "metadata": {
        "id": "LPnZT4Rxt2Rx"
      }
    },
    {
      "cell_type": "code",
      "source": [
        "from sklearn.model_selection import GridSearchCV, StratifiedKFold,KFold\n",
        "from sklearn.metrics import make_scorer  \n",
        "# defining parameter range\n",
        "param_grid = {'C': [0.1, 1, 5], \n",
        "              'gamma': [0.01,0.001], #NO LO USA EL LINEAL\n",
        "              'kernel': ['linear']} \n",
        "folds = 4\n",
        "kfoldcv = StratifiedKFold(n_splits=folds) #RESPETE LA PROPORCION DE LA CLASE, EN LA MISMA PROPORCION ORIGINAL\n",
        "scorer_fn = make_scorer(sk.metrics.f1_score)\n",
        "grid = GridSearchCV(SVC(), param_grid, refit = True, verbose = 3,scoring = scorer_fn,cv=kfoldcv)\n",
        "  \n",
        "# fitting the model for grid search\n",
        "grid.fit(x_train_minmax, y_train)\n"
      ],
      "metadata": {
        "id": "r1E9HP2OsqzO"
      },
      "execution_count": null,
      "outputs": []
    },
    {
      "cell_type": "markdown",
      "source": [
        "Demoro mucho en ejecutarse pero obtuvimos estos parametros: C=5 ->f1score: 0.807"
      ],
      "metadata": {
        "id": "bEbZMi8DtHYT"
      }
    },
    {
      "cell_type": "markdown",
      "source": [
        "Busqueda de Hiperparametros Kernel Radial"
      ],
      "metadata": {
        "id": "tkAEEh43t_iL"
      }
    },
    {
      "cell_type": "code",
      "source": [
        "from sklearn.model_selection import GridSearchCV, StratifiedKFold,KFold\n",
        "from sklearn.metrics import make_scorer  \n",
        "# defining parameter range\n",
        "param_grid = {'C': [0.1, 1, 5], \n",
        "              'gamma': [0.01,0.001],\n",
        "              'kernel': ['rbf']} #PARA RADIAL KERNEL DESPUES DE VARIAS PRUEBAS OBTUVIMOS QUE LOS MEJORES HIPERPARAMETROS SON: C=5 y gamma= 0.01\n",
        "folds = 4\n",
        "kfoldcv = StratifiedKFold(n_splits=folds) #RESPETE LA PROPORCION DE LA CLASE, EN LA MISMA PROPORCION ORIGINAL\n",
        "scorer_fn = make_scorer(sk.metrics.f1_score)\n",
        "grid = GridSearchCV(SVC(), param_grid, refit = True, verbose = 3,scoring = scorer_fn,cv=kfoldcv)\n",
        "  \n",
        "# fitting the model for grid search\n",
        "grid.fit(x_train_minmax, y_train)\n"
      ],
      "metadata": {
        "id": "UPb-lgH9ts15"
      },
      "execution_count": null,
      "outputs": []
    },
    {
      "cell_type": "markdown",
      "source": [
        "Mejores hiperparametros : C=5 y gamma= 0.01 ->f1score : 0.811"
      ],
      "metadata": {
        "id": "PtSjbDLUtR9v"
      }
    },
    {
      "cell_type": "markdown",
      "source": [
        "Busqueda de Hiperparametros Kernel Polinomial"
      ],
      "metadata": {
        "id": "aeD2Isj4uEWp"
      }
    },
    {
      "cell_type": "code",
      "source": [
        "from sklearn.model_selection import GridSearchCV, StratifiedKFold,KFold\n",
        "from sklearn.metrics import make_scorer  \n",
        "# defining parameter range\n",
        "param_grid = {'C': [0.1, 1, 5], \n",
        "              'gamma': [5, 0.01,0.001],\n",
        "              'kernel': ['poly']\n",
        "              } \n",
        "folds = 4\n",
        "kfoldcv = StratifiedKFold(n_splits=folds) #RESPETE LA PROPORCION DE LA CLASE, EN LA MISMA PROPORCION ORIGINAL\n",
        "scorer_fn = make_scorer(sk.metrics.f1_score)\n",
        "grid = GridSearchCV(SVC(), param_grid, refit = True, verbose = 3,scoring = scorer_fn,cv=kfoldcv)\n",
        "  \n",
        "# fitting the model for grid search\n",
        "grid.fit(x_train_minmax, y_train)\n"
      ],
      "metadata": {
        "id": "YVRKLJFttxdf"
      },
      "execution_count": null,
      "outputs": []
    },
    {
      "cell_type": "markdown",
      "source": [
        "Mejores hiperparametros : C=0.1 y gamma=5 f1score = 0.833"
      ],
      "metadata": {
        "id": "6flb6DMqtdJq"
      }
    },
    {
      "cell_type": "markdown",
      "source": [
        "###SVM Kernel Lineal"
      ],
      "metadata": {
        "id": "jmiwl9VAYwUT"
      }
    },
    {
      "cell_type": "markdown",
      "source": [
        "Usando los best parameters obtenidos"
      ],
      "metadata": {
        "id": "WgcQa1sPtoGs"
      }
    },
    {
      "cell_type": "code",
      "source": [
        "#Creo un clasificador con kernel lineal y lo entreno sobre los datos escalados min-max \n",
        "clf = SVC(kernel='linear', C=5)\n",
        "clf.fit(x_train_minmax, y_train)\n",
        "\n",
        "#Hago la predicción y calculo las métricas\n",
        "y_pred_lin=clf.predict(x_test_minmax)\n",
        "metricas(y_pred_lin,y_test)"
      ],
      "metadata": {
        "colab": {
          "base_uri": "https://localhost:8080/",
          "height": 613
        },
        "id": "2XaD-bic1KCD",
        "outputId": "ae104144-97d4-4f29-bf43-1aa10200f846"
      },
      "execution_count": null,
      "outputs": [
        {
          "output_type": "stream",
          "name": "stdout",
          "text": [
            "              precision    recall  f1-score   support\n",
            "\n",
            "           0       0.81      0.81      0.81      6095\n",
            "           1       0.81      0.81      0.81      6108\n",
            "\n",
            "    accuracy                           0.81     12203\n",
            "   macro avg       0.81      0.81      0.81     12203\n",
            "weighted avg       0.81      0.81      0.81     12203\n",
            "\n"
          ]
        },
        {
          "output_type": "display_data",
          "data": {
            "text/plain": [
              "<Figure size 640x480 with 2 Axes>"
            ],
            "image/png": "[encoded data removed]"
          },
          "metadata": {}
        }
      ]
    },
    {
      "cell_type": "code",
      "source": [
        "predicciones_knnlineal =clf.predict(df_svmtest.values)"
      ],
      "metadata": {
        "id": "YFrPbRUXUvMW"
      },
      "execution_count": null,
      "outputs": []
    },
    {
      "cell_type": "code",
      "source": [
        "df_submission = pd.DataFrame({'id':df_test['id'], 'is_canceled':predicciones_knnlineal})\n",
        "df_submission.head()\n",
        "df_submission.shape"
      ],
      "metadata": {
        "colab": {
          "base_uri": "https://localhost:8080/"
        },
        "id": "YXkaV2QHVm-y",
        "outputId": "d912cf62-685e-47dd-94f0-22dcc0a3a6b0"
      },
      "execution_count": null,
      "outputs": [
        {
          "output_type": "execute_result",
          "data": {
            "text/plain": [
              "(26535, 2)"
            ]
          },
          "metadata": {},
          "execution_count": 33
        }
      ]
    },
    {
      "cell_type": "code",
      "source": [
        "df_submission.to_csv('/content/drive/MyDrive/submissions/submission_svmklineal.csv', index=False)"
      ],
      "metadata": {
        "id": "9rTmH2MQWLTW"
      },
      "execution_count": null,
      "outputs": []
    },
    {
      "cell_type": "code",
      "source": [
        "joblib.dump(clf, 'svm_klineal_best_model.pkl')"
      ],
      "metadata": {
        "colab": {
          "base_uri": "https://localhost:8080/"
        },
        "id": "tt-WDdA1WTg1",
        "outputId": "e4c4fcc0-9cae-4db9-a40d-a281445d4305"
      },
      "execution_count": null,
      "outputs": [
        {
          "output_type": "execute_result",
          "data": {
            "text/plain": [
              "['svm_klineal_best_model.pkl']"
            ]
          },
          "metadata": {},
          "execution_count": 35
        }
      ]
    },
    {
      "cell_type": "markdown",
      "source": [
        "###SVM Kernel Polinomico"
      ],
      "metadata": {
        "id": "zfAOTByxY_2E"
      }
    },
    {
      "cell_type": "markdown",
      "source": [
        "Usando los best parameters obtenidos"
      ],
      "metadata": {
        "id": "FvI0MOjYtsW_"
      }
    },
    {
      "cell_type": "code",
      "source": [
        "from sklearn.model_selection import GridSearchCV, StratifiedKFold,KFold\n",
        "from sklearn.metrics import make_scorer\n",
        "# defining parameter range\n",
        "param_grid = {'C': [0.1], \n",
        "              'gamma': [5],\n",
        "              'kernel': ['poly'],\n",
        "              } \n",
        "folds = 4\n",
        "kfoldcv = StratifiedKFold(n_splits=folds) #RESPETE LA PROPORCION DE LA CLASE, EN LA MISMA PROPORCION ORIGINAL\n",
        "scorer_fn = make_scorer(sk.metrics.f1_score)\n",
        "grid = GridSearchCV(SVC(), param_grid, refit = True, verbose = 3,scoring = scorer_fn,cv=kfoldcv)\n",
        "\n",
        "# fitting the model for grid search\n",
        "grid.fit(x_train_minmax, y_train)"
      ],
      "metadata": {
        "colab": {
          "base_uri": "https://localhost:8080/",
          "height": 209
        },
        "id": "aAUBkv2s7uMZ",
        "outputId": "8f908846-e615-4ec7-95c4-1df5e9c53650"
      },
      "execution_count": null,
      "outputs": [
        {
          "output_type": "stream",
          "name": "stdout",
          "text": [
            "Fitting 4 folds for each of 1 candidates, totalling 4 fits\n",
            "[CV 1/4] END .......C=0.1, gamma=5, kernel=poly;, score=0.833 total time=26.9min\n",
            "[CV 2/4] END .......C=0.1, gamma=5, kernel=poly;, score=0.836 total time=24.6min\n",
            "[CV 3/4] END .......C=0.1, gamma=5, kernel=poly;, score=0.835 total time=25.4min\n",
            "[CV 4/4] END .......C=0.1, gamma=5, kernel=poly;, score=0.837 total time=23.8min\n"
          ]
        },
        {
          "output_type": "execute_result",
          "data": {
            "text/plain": [
              "GridSearchCV(cv=StratifiedKFold(n_splits=4, random_state=None, shuffle=False),\n",
              "             estimator=SVC(),\n",
              "             param_grid={'C': [0.1], 'gamma': [5], 'kernel': ['poly']},\n",
              "             scoring=make_scorer(f1_score), verbose=3)"
            ],
            "text/html": [
              "<style>#sk-container-id-1 {color: black;background-color: white;}#sk-container-id-1 pre{padding: 0;}#sk-container-id-1 div.sk-toggleable {background-color: white;}#sk-container-id-1 label.sk-toggleable__label {cursor: pointer;display: block;width: 100%;margin-bottom: 0;padding: 0.3em;box-sizing: border-box;text-align: center;}#sk-container-id-1 label.sk-toggleable__label-arrow:before {content: \"▸\";float: left;margin-right: 0.25em;color: #696969;}#sk-container-id-1 label.sk-toggleable__label-arrow:hover:before {color: black;}#sk-container-id-1 div.sk-estimator:hover label.sk-toggleable__label-arrow:before {color: black;}#sk-container-id-1 div.sk-toggleable__content {max-height: 0;max-width: 0;overflow: hidden;text-align: left;background-color: #f0f8ff;}#sk-container-id-1 div.sk-toggleable__content pre {margin: 0.2em;color: black;border-radius: 0.25em;background-color: #f0f8ff;}#sk-container-id-1 input.sk-toggleable__control:checked~div.sk-toggleable__content {max-height: 200px;max-width: 100%;overflow: auto;}#sk-container-id-1 input.sk-toggleable__control:checked~label.sk-toggleable__label-arrow:before {content: \"▾\";}#sk-container-id-1 div.sk-estimator input.sk-toggleable__control:checked~label.sk-toggleable__label {background-color: #d4ebff;}#sk-container-id-1 div.sk-label input.sk-toggleable__control:checked~label.sk-toggleable__label {background-color: #d4ebff;}#sk-container-id-1 input.sk-hidden--visually {border: 0;clip: rect(1px 1px 1px 1px);clip: rect(1px, 1px, 1px, 1px);height: 1px;margin: -1px;overflow: hidden;padding: 0;position: absolute;width: 1px;}#sk-container-id-1 div.sk-estimator {font-family: monospace;background-color: #f0f8ff;border: 1px dotted black;border-radius: 0.25em;box-sizing: border-box;margin-bottom: 0.5em;}#sk-container-id-1 div.sk-estimator:hover {background-color: #d4ebff;}#sk-container-id-1 div.sk-parallel-item::after {content: \"\";width: 100%;border-bottom: 1px solid gray;flex-grow: 1;}#sk-container-id-1 div.sk-label:hover label.sk-toggleable__label {background-color: #d4ebff;}#sk-container-id-1 div.sk-serial::before {content: \"\";position: absolute;border-left: 1px solid gray;box-sizing: border-box;top: 0;bottom: 0;left: 50%;z-index: 0;}#sk-container-id-1 div.sk-serial {display: flex;flex-direction: column;align-items: center;background-color: white;padding-right: 0.2em;padding-left: 0.2em;position: relative;}#sk-container-id-1 div.sk-item {position: relative;z-index: 1;}#sk-container-id-1 div.sk-parallel {display: flex;align-items: stretch;justify-content: center;background-color: white;position: relative;}#sk-container-id-1 div.sk-item::before, #sk-container-id-1 div.sk-parallel-item::before {content: \"\";position: absolute;border-left: 1px solid gray;box-sizing: border-box;top: 0;bottom: 0;left: 50%;z-index: -1;}#sk-container-id-1 div.sk-parallel-item {display: flex;flex-direction: column;z-index: 1;position: relative;background-color: white;}#sk-container-id-1 div.sk-parallel-item:first-child::after {align-self: flex-end;width: 50%;}#sk-container-id-1 div.sk-parallel-item:last-child::after {align-self: flex-start;width: 50%;}#sk-container-id-1 div.sk-parallel-item:only-child::after {width: 0;}#sk-container-id-1 div.sk-dashed-wrapped {border: 1px dashed gray;margin: 0 0.4em 0.5em 0.4em;box-sizing: border-box;padding-bottom: 0.4em;background-color: white;}#sk-container-id-1 div.sk-label label {font-family: monospace;font-weight: bold;display: inline-block;line-height: 1.2em;}#sk-container-id-1 div.sk-label-container {text-align: center;}#sk-container-id-1 div.sk-container {/* jupyter's `normalize.less` sets `[hidden] { display: none; }` but bootstrap.min.css set `[hidden] { display: none !important; }` so we also need the `!important` here to be able to override the default hidden behavior on the sphinx rendered scikit-learn.org. See: https://github.com/scikit-learn/scikit-learn/issues/21755 */display: inline-block !important;position: relative;}#sk-container-id-1 div.sk-text-repr-fallback {display: none;}</style><div id=\"sk-container-id-1\" class=\"sk-top-container\"><div class=\"sk-text-repr-fallback\"><pre>GridSearchCV(cv=StratifiedKFold(n_splits=4, random_state=None, shuffle=False),\n",
              "             estimator=SVC(),\n",
              "             param_grid={&#x27;C&#x27;: [0.1], &#x27;gamma&#x27;: [5], &#x27;kernel&#x27;: [&#x27;poly&#x27;]},\n",
              "             scoring=make_scorer(f1_score), verbose=3)</pre><b>In a Jupyter environment, please rerun this cell to show the HTML representation or trust the notebook. <br />On GitHub, the HTML representation is unable to render, please try loading this page with nbviewer.org.</b></div><div class=\"sk-container\" hidden><div class=\"sk-item sk-dashed-wrapped\"><div class=\"sk-label-container\"><div class=\"sk-label sk-toggleable\"><input class=\"sk-toggleable__control sk-hidden--visually\" id=\"sk-estimator-id-1\" type=\"checkbox\" ><label for=\"sk-estimator-id-1\" class=\"sk-toggleable__label sk-toggleable__label-arrow\">GridSearchCV</label><div class=\"sk-toggleable__content\"><pre>GridSearchCV(cv=StratifiedKFold(n_splits=4, random_state=None, shuffle=False),\n",
              "             estimator=SVC(),\n",
              "             param_grid={&#x27;C&#x27;: [0.1], &#x27;gamma&#x27;: [5], &#x27;kernel&#x27;: [&#x27;poly&#x27;]},\n",
              "             scoring=make_scorer(f1_score), verbose=3)</pre></div></div></div><div class=\"sk-parallel\"><div class=\"sk-parallel-item\"><div class=\"sk-item\"><div class=\"sk-label-container\"><div class=\"sk-label sk-toggleable\"><input class=\"sk-toggleable__control sk-hidden--visually\" id=\"sk-estimator-id-2\" type=\"checkbox\" ><label for=\"sk-estimator-id-2\" class=\"sk-toggleable__label sk-toggleable__label-arrow\">estimator: SVC</label><div class=\"sk-toggleable__content\"><pre>SVC()</pre></div></div></div><div class=\"sk-serial\"><div class=\"sk-item\"><div class=\"sk-estimator sk-toggleable\"><input class=\"sk-toggleable__control sk-hidden--visually\" id=\"sk-estimator-id-3\" type=\"checkbox\" ><label for=\"sk-estimator-id-3\" class=\"sk-toggleable__label sk-toggleable__label-arrow\">SVC</label><div class=\"sk-toggleable__content\"><pre>SVC()</pre></div></div></div></div></div></div></div></div></div></div>"
            ]
          },
          "metadata": {},
          "execution_count": 28
        }
      ]
    },
    {
      "cell_type": "code",
      "source": [
        "y_pred_pol=grid.predict(x_test_minmax)\n",
        "metricas(y_pred_pol,y_test)"
      ],
      "metadata": {
        "colab": {
          "base_uri": "https://localhost:8080/",
          "height": 613
        },
        "id": "y_zHKTVP77tf",
        "outputId": "15cdf2d8-ce32-4a98-a168-857d6ea68338"
      },
      "execution_count": null,
      "outputs": [
        {
          "output_type": "stream",
          "name": "stdout",
          "text": [
            "              precision    recall  f1-score   support\n",
            "\n",
            "           0       0.84      0.83      0.84      6095\n",
            "           1       0.83      0.85      0.84      6108\n",
            "\n",
            "    accuracy                           0.84     12203\n",
            "   macro avg       0.84      0.84      0.84     12203\n",
            "weighted avg       0.84      0.84      0.84     12203\n",
            "\n"
          ]
        },
        {
          "output_type": "display_data",
          "data": {
            "text/plain": [
              "<Figure size 640x480 with 2 Axes>"
            ],
            "image/png": "[encoded data removed]"
          },
          "metadata": {}
        }
      ]
    },
    {
      "cell_type": "code",
      "source": [
        "predicciones_svm_kpolinomial =grid.predict(df_svmtest.values)"
      ],
      "metadata": {
        "id": "DpQYhRmVW3CN"
      },
      "execution_count": null,
      "outputs": []
    },
    {
      "cell_type": "code",
      "source": [
        "df_submission = pd.DataFrame({'id':df_test['id'], 'is_canceled':predicciones_svm_kpolinomial})\n",
        "df_submission.head()\n",
        "df_submission.shape"
      ],
      "metadata": {
        "id": "zp8yObbzXMi8",
        "colab": {
          "base_uri": "https://localhost:8080/"
        },
        "outputId": "f3599f99-811b-421e-9ee7-5a3d3c917d7f"
      },
      "execution_count": null,
      "outputs": [
        {
          "output_type": "execute_result",
          "data": {
            "text/plain": [
              "(26535, 2)"
            ]
          },
          "metadata": {},
          "execution_count": 31
        }
      ]
    },
    {
      "cell_type": "code",
      "source": [
        "df_submission.to_csv('/content/drive/MyDrive/submissions/submission_svmkpolinomial.csv', index=False)"
      ],
      "metadata": {
        "id": "e_roOhjXf5WJ"
      },
      "execution_count": null,
      "outputs": []
    },
    {
      "cell_type": "code",
      "source": [
        "joblib.dump(grid, 'svm_kpolinomial_best_model.pkl')"
      ],
      "metadata": {
        "id": "mKn8RBw6XdhT",
        "colab": {
          "base_uri": "https://localhost:8080/"
        },
        "outputId": "d620c665-6cf2-4cb3-b26b-16401df83c24"
      },
      "execution_count": null,
      "outputs": [
        {
          "output_type": "execute_result",
          "data": {
            "text/plain": [
              "['svm_kpolinomial_best_model.pkl']"
            ]
          },
          "metadata": {},
          "execution_count": 34
        }
      ]
    },
    {
      "cell_type": "markdown",
      "source": [
        "###Kernel Radial"
      ],
      "metadata": {
        "id": "Nrka2ZA_XeIY"
      }
    },
    {
      "cell_type": "markdown",
      "source": [
        "Usando los best parameters obtenidos"
      ],
      "metadata": {
        "id": "9wzb6IFdtxHG"
      }
    },
    {
      "cell_type": "code",
      "source": [
        "#Creo un clasificador con kernel radial y lo entreno sobre los datos escalados min-max CON LOS BEST PARAMETERS\n",
        "clf = SVC(kernel='rbf', C=5, gamma=0.01)\n",
        "clf.fit(x_train_minmax, y_train)\n",
        "\n",
        "#Hago la predicción y calculo las métricas\n",
        "y_pred_rad=clf.predict(x_test_minmax)\n",
        "metricas(y_pred_rad,y_test)"
      ],
      "metadata": {
        "id": "-qH-_CQOvesF",
        "colab": {
          "base_uri": "https://localhost:8080/",
          "height": 615
        },
        "outputId": "81008978-7e89-4dc8-948d-ce46d4d6802d"
      },
      "execution_count": null,
      "outputs": [
        {
          "output_type": "stream",
          "name": "stdout",
          "text": [
            "              precision    recall  f1-score   support\n",
            "\n",
            "           0       0.83      0.79      0.81      6095\n",
            "           1       0.80      0.83      0.82      6108\n",
            "\n",
            "    accuracy                           0.81     12203\n",
            "   macro avg       0.81      0.81      0.81     12203\n",
            "weighted avg       0.81      0.81      0.81     12203\n",
            "\n"
          ]
        },
        {
          "output_type": "display_data",
          "data": {
            "text/plain": [
              "<Figure size 640x480 with 2 Axes>"
            ],
            "image/png": "[encoded data removed]"
          },
          "metadata": {}
        }
      ]
    },
    {
      "cell_type": "code",
      "source": [
        "predicciones_svm_kradial =clf.predict(df_svmtest.values)"
      ],
      "metadata": {
        "id": "a6PDApnwfVvZ"
      },
      "execution_count": null,
      "outputs": []
    },
    {
      "cell_type": "code",
      "source": [
        "df_submission = pd.DataFrame({'id':df_test['id'], 'is_canceled':predicciones_svm_kradial})\n",
        "df_submission.head()\n",
        "df_submission.shape"
      ],
      "metadata": {
        "id": "l079JkmDfZSt",
        "colab": {
          "base_uri": "https://localhost:8080/"
        },
        "outputId": "578146d0-c8b6-4b85-9bcf-af850ce78850"
      },
      "execution_count": null,
      "outputs": [
        {
          "output_type": "execute_result",
          "data": {
            "text/plain": [
              "(26535, 2)"
            ]
          },
          "metadata": {},
          "execution_count": 26
        }
      ]
    },
    {
      "cell_type": "code",
      "source": [
        "df_submission.to_csv('/content/drive/MyDrive/submissions/submission_svmkradial.csv', index=False)"
      ],
      "metadata": {
        "id": "HGq7qoqNgBa8"
      },
      "execution_count": null,
      "outputs": []
    },
    {
      "cell_type": "code",
      "source": [
        "joblib.dump(clf, 'svm_kradial_best_model.pkl')"
      ],
      "metadata": {
        "id": "O61HdgTyfdjY",
        "colab": {
          "base_uri": "https://localhost:8080/"
        },
        "outputId": "b117f859-c843-4d42-a448-13733ceeca92"
      },
      "execution_count": null,
      "outputs": [
        {
          "output_type": "execute_result",
          "data": {
            "text/plain": [
              "['svm_kradial_best_model.pkl']"
            ]
          },
          "metadata": {},
          "execution_count": 28
        }
      ]
    },
    {
      "cell_type": "code",
      "source": [
        "svm_radial = clf;"
      ],
      "metadata": {
        "id": "FLGAfLnnihQH"
      },
      "execution_count": null,
      "outputs": []
    },
    {
      "cell_type": "markdown",
      "source": [
        "##c. Construir un clasificador RF y optimizar sus hiperparámetros mediante k-fold Cross Validation\n"
      ],
      "metadata": {
        "id": "qfP5UBF93nfK"
      }
    },
    {
      "cell_type": "markdown",
      "source": [
        "###Random Forest GridSearch"
      ],
      "metadata": {
        "id": "c7M71K88Qjpl"
      }
    },
    {
      "cell_type": "markdown",
      "source": [
        "####Preparacion"
      ],
      "metadata": {
        "id": "xZmkrD04hK7j"
      }
    },
    {
      "cell_type": "code",
      "source": [
        "features = ['lead_time', 'stays_in_weekend_nights', 'stays_in_week_nights',\n",
        "       'adults', 'children', 'babies', 'is_repeated_guest',\n",
        "       'previous_cancellations', 'previous_bookings_not_canceled',\n",
        "       'booking_changes', 'agent', 'days_in_waiting_list',\n",
        "       'average_daily_rate', 'required_car_parking_spaces',\n",
        "       'total_of_special_requests', 'assigned_equals_reserved',\n",
        "       'temporada_alta', 'hotel_Resort Hotel', 'meal_FB', 'meal_HB', 'meal_SC',\n",
        "       'deposit_type_Non Refund', 'deposit_type_Refundable',\n",
        "       'customer_type_Group', 'customer_type_Transient',\n",
        "       'customer_type_Transient-Party', 'country_BEL', 'country_BRA',\n",
        "       'country_CHE', 'country_CHN', 'country_CN', 'country_DEU',\n",
        "       'country_ESP', 'country_FRA', 'country_GBR', 'country_IRL',\n",
        "       'country_ISR', 'country_ITA', 'country_NLD', 'country_NOR',\n",
        "       'country_OTHER', 'country_POL', 'country_PRT', 'country_RUS',\n",
        "       'country_SWE', 'country_USA', 'distribution_channel_Direct',\n",
        "       'distribution_channel_GDS', 'distribution_channel_TA/TO',\n",
        "       'market_segment_Complementary', 'market_segment_Corporate',\n",
        "       'market_segment_Direct', 'market_segment_Groups',\n",
        "       'market_segment_Offline TA/TO', 'market_segment_Online TA']"
      ],
      "metadata": {
        "id": "GMljnLUuZzON"
      },
      "execution_count": null,
      "outputs": []
    },
    {
      "cell_type": "code",
      "source": [
        "target= 'is_canceled'"
      ],
      "metadata": {
        "id": "C7GVC_SyZzOO"
      },
      "execution_count": null,
      "outputs": []
    },
    {
      "cell_type": "code",
      "source": [
        "datasetRF = dataset.drop(columns=['assigned_room_type', 'reserved_room_type', 'id', 'arrival_date'])"
      ],
      "metadata": {
        "id": "HEWLGrgvZzOP"
      },
      "execution_count": null,
      "outputs": []
    },
    {
      "cell_type": "code",
      "source": [
        "df_RFtest = df_test.copy()"
      ],
      "metadata": {
        "id": "dMoKxWMqZzOP"
      },
      "execution_count": null,
      "outputs": []
    },
    {
      "cell_type": "code",
      "source": [
        "df_RFtest = df_RFtest.drop(columns=['assigned_room_type', 'reserved_room_type', 'id', 'arrival_date'])"
      ],
      "metadata": {
        "id": "Zt8nyDFJZzOQ"
      },
      "execution_count": null,
      "outputs": []
    },
    {
      "cell_type": "code",
      "source": [
        "df_RFtest = df_RFtest[features]\n",
        "      "
      ],
      "metadata": {
        "id": "Hiqdrr5fZzOR"
      },
      "execution_count": null,
      "outputs": []
    },
    {
      "cell_type": "code",
      "source": [
        "#Creo conjuntos de train y test\n",
        "x_train, x_test, y_train, y_test = train_test_split(datasetRF[features].values, datasetRF[target].values, test_size=0.2, random_state=0)\n"
      ],
      "metadata": {
        "id": "WpjN8ILoZaSO"
      },
      "execution_count": null,
      "outputs": []
    },
    {
      "cell_type": "markdown",
      "source": [
        "####RF con 5 folds"
      ],
      "metadata": {
        "id": "-kUtHVzihOz-"
      }
    },
    {
      "cell_type": "code",
      "source": [
        "rf_cv = RandomForestClassifier(max_features='auto', oob_score=True, random_state=1, n_jobs=-1)\n",
        "\n",
        "param_grid = { \"criterion\" : [\"gini\", \"entropy\"], \n",
        "               \"min_samples_leaf\" : [1, 5, 10], \n",
        "               \"min_samples_split\" : [2, 4, 10, 12, 16], \n",
        "               \"n_estimators\": [10,20, 50] }\n",
        "\n",
        "#Probamos entrenando sólo con 1 métrica\n",
        "gs = GridSearchCV(estimator=rf_cv, param_grid=param_grid, scoring=\"f1\", cv=5, n_jobs=-1)\n",
        "gs_fit = gs.fit(X = x_train, y = y_train)"
      ],
      "metadata": {
        "id": "yMrfeubp8uIG"
      },
      "execution_count": null,
      "outputs": []
    },
    {
      "cell_type": "code",
      "source": [
        "gs_fit.best_params_"
      ],
      "metadata": {
        "colab": {
          "base_uri": "https://localhost:8080/"
        },
        "id": "lvn037MVBHzX",
        "outputId": "9cd866cd-497e-42e0-c81a-7a460cc8e4c0"
      },
      "execution_count": null,
      "outputs": [
        {
          "output_type": "execute_result",
          "data": {
            "text/plain": [
              "{'criterion': 'gini',\n",
              " 'min_samples_leaf': 1,\n",
              " 'min_samples_split': 4,\n",
              " 'n_estimators': 50}"
            ]
          },
          "metadata": {},
          "execution_count": 101
        }
      ]
    },
    {
      "cell_type": "code",
      "source": [
        "print(\"f1_score en entrenamiento con cv: \"+str(gs_fit.best_score_))"
      ],
      "metadata": {
        "colab": {
          "base_uri": "https://localhost:8080/"
        },
        "id": "MZZJzql79AZv",
        "outputId": "95c608e1-3427-48ba-a414-a254e79ad264"
      },
      "execution_count": null,
      "outputs": [
        {
          "output_type": "stream",
          "name": "stdout",
          "text": [
            "f1_score en entrenamiento con cv: 0.8735734374984178\n"
          ]
        }
      ]
    },
    {
      "cell_type": "code",
      "source": [
        "#Obtenemos el mejor modelo\n",
        "rf_cv_best=gs_fit.best_estimator_\n",
        "\n",
        "#Predicción\n",
        "y_pred_rf_cv_best = rf_cv_best.predict(x_test)"
      ],
      "metadata": {
        "id": "miPWwQnk9qAu"
      },
      "execution_count": null,
      "outputs": []
    },
    {
      "cell_type": "code",
      "execution_count": null,
      "metadata": {
        "id": "yD0GY5vmZru9",
        "outputId": "60289c6a-ee89-45e5-e742-b4e13a440868",
        "colab": {
          "base_uri": "https://localhost:8080/",
          "height": 615
        }
      },
      "outputs": [
        {
          "output_type": "stream",
          "name": "stdout",
          "text": [
            "              precision    recall  f1-score   support\n",
            "\n",
            "           0       0.87      0.87      0.87      6095\n",
            "           1       0.87      0.87      0.87      6108\n",
            "\n",
            "    accuracy                           0.87     12203\n",
            "   macro avg       0.87      0.87      0.87     12203\n",
            "weighted avg       0.87      0.87      0.87     12203\n",
            "\n"
          ]
        },
        {
          "output_type": "display_data",
          "data": {
            "text/plain": [
              "<Figure size 640x480 with 2 Axes>"
            ],
            "image/png": "[encoded data removed]"
          },
          "metadata": {}
        }
      ],
      "source": [
        "#Creo matriz de confusión\n",
        "tabla=confusion_matrix(y_test,y_pred_rf_cv_best)\n",
        "\n",
        "#Grafico matriz de confusión\n",
        "sns.heatmap(tabla, cmap='Blues',annot=True,fmt='g')\n",
        "plt.xlabel('Predicted')\n",
        "plt.ylabel('True')\n",
        "\n",
        "#Reporte\n",
        "print(classification_report(y_test,y_pred_rf_cv_best))"
      ]
    },
    {
      "cell_type": "code",
      "execution_count": null,
      "metadata": {
        "id": "JRyyJpLkZru-",
        "outputId": "f5637567-5263-4ac7-e1f3-85b26d6a4c40",
        "colab": {
          "base_uri": "https://localhost:8080/"
        }
      },
      "outputs": [
        {
          "output_type": "stream",
          "name": "stdout",
          "text": [
            "Accuracy: 0.8730640006555765\n",
            "Recall: 0.8739358218729535\n",
            "f1 score: 0.8732924335378323\n"
          ]
        }
      ],
      "source": [
        "#Evaluo la performance en el conjunto de evaluación\n",
        "accuracy=accuracy_score(y_test,y_pred_rf_cv_best)\n",
        "recall=recall_score(y_test,y_pred_rf_cv_best)\n",
        "f1=f1_score(y_test,y_pred_rf_cv_best)\n",
        "\n",
        "print(\"Accuracy: \"+str(accuracy))\n",
        "print(\"Recall: \"+str(recall))\n",
        "print(\"f1 score: \"+str(f1))"
      ]
    },
    {
      "cell_type": "markdown",
      "source": [
        "####Best RF"
      ],
      "metadata": {
        "id": "X82hSYikhFCa"
      }
    },
    {
      "cell_type": "markdown",
      "source": [
        "Usando Grid Search buscamos los mejores parametros, usando 10 folds"
      ],
      "metadata": {
        "id": "4iLlumS5uJao"
      }
    },
    {
      "cell_type": "code",
      "source": [
        "rf_cv = RandomForestClassifier(max_features='auto', oob_score=True, random_state=1, n_jobs=-1)\n",
        "\n",
        "param_grid = { \"criterion\" : [\"gini\", \"entropy\"], \n",
        "               \"min_samples_leaf\" : [1, 5, 10], \n",
        "               \"min_samples_split\" : [2, 4, 10, 12, 16], \n",
        "               \"n_estimators\": [10,20, 50] }\n",
        "\n",
        "#Probamos entrenando sólo con 1 métrica\n",
        "gs = GridSearchCV(estimator=rf_cv, param_grid=param_grid, scoring=\"f1\", cv=10, n_jobs=-1)\n",
        "gs_fit = gs.fit(X = x_train, y = y_train)"
      ],
      "metadata": {
        "id": "Fpbmgq_UhCg0"
      },
      "execution_count": null,
      "outputs": []
    },
    {
      "cell_type": "code",
      "source": [
        "gs_fit.best_params_"
      ],
      "metadata": {
        "colab": {
          "base_uri": "https://localhost:8080/"
        },
        "outputId": "55c4e6aa-727f-4701-e16e-2a14d855bd6d",
        "id": "vq33xUEvhCg2"
      },
      "execution_count": null,
      "outputs": [
        {
          "output_type": "execute_result",
          "data": {
            "text/plain": [
              "{'criterion': 'entropy',\n",
              " 'min_samples_leaf': 1,\n",
              " 'min_samples_split': 4,\n",
              " 'n_estimators': 50}"
            ]
          },
          "metadata": {},
          "execution_count": 107
        }
      ]
    },
    {
      "cell_type": "code",
      "source": [
        "print(\"f1_score en entrenamiento con cv: \"+str(gs_fit.best_score_))"
      ],
      "metadata": {
        "colab": {
          "base_uri": "https://localhost:8080/"
        },
        "outputId": "7f1d7b46-a50f-4932-c4bf-a381a8cb80c6",
        "id": "17gErgbahCg4"
      },
      "execution_count": null,
      "outputs": [
        {
          "output_type": "stream",
          "name": "stdout",
          "text": [
            "f1_score en entrenamiento con cv: 0.8757776336086153\n"
          ]
        }
      ]
    },
    {
      "cell_type": "code",
      "source": [
        "#Obtenemos el mejor modelo\n",
        "rf_cv_best=gs_fit.best_estimator_\n",
        "\n",
        "#Predicción\n",
        "y_pred_rf_cv_best = rf_cv_best.predict(x_test)"
      ],
      "metadata": {
        "id": "kGPh0SLuhCg5"
      },
      "execution_count": null,
      "outputs": []
    },
    {
      "cell_type": "code",
      "execution_count": null,
      "metadata": {
        "outputId": "7766c43d-a39b-472a-d5a9-47ec99fa8f58",
        "colab": {
          "base_uri": "https://localhost:8080/",
          "height": 615
        },
        "id": "CiychsmPhCg6"
      },
      "outputs": [
        {
          "output_type": "stream",
          "name": "stdout",
          "text": [
            "              precision    recall  f1-score   support\n",
            "\n",
            "           0       0.88      0.87      0.87      6095\n",
            "           1       0.87      0.88      0.88      6108\n",
            "\n",
            "    accuracy                           0.87     12203\n",
            "   macro avg       0.87      0.87      0.87     12203\n",
            "weighted avg       0.87      0.87      0.87     12203\n",
            "\n"
          ]
        },
        {
          "output_type": "display_data",
          "data": {
            "text/plain": [
              "<Figure size 640x480 with 2 Axes>"
            ],
            "image/png": "[encoded data removed]"
          },
          "metadata": {}
        }
      ],
      "source": [
        "#Creo matriz de confusión\n",
        "tabla=confusion_matrix(y_test,y_pred_rf_cv_best)\n",
        "\n",
        "#Grafico matriz de confusión\n",
        "sns.heatmap(tabla, cmap='Blues',annot=True,fmt='g')\n",
        "plt.xlabel('Predicted')\n",
        "plt.ylabel('True')\n",
        "\n",
        "#Reporte\n",
        "print(classification_report(y_test,y_pred_rf_cv_best))"
      ]
    },
    {
      "cell_type": "code",
      "execution_count": null,
      "metadata": {
        "outputId": "490e8e42-4903-443b-fb35-eef5a9b9d3a1",
        "colab": {
          "base_uri": "https://localhost:8080/"
        },
        "id": "Ls43G_dNhCg7"
      },
      "outputs": [
        {
          "output_type": "stream",
          "name": "stdout",
          "text": [
            "Accuracy: 0.8748668360239286\n",
            "Recall: 0.8788474132285528\n",
            "f1 score: 0.875479083421675\n"
          ]
        }
      ],
      "source": [
        "#Evaluo la performance en el conjunto de evaluación\n",
        "accuracy=accuracy_score(y_test,y_pred_rf_cv_best)\n",
        "recall=recall_score(y_test,y_pred_rf_cv_best)\n",
        "f1=f1_score(y_test,y_pred_rf_cv_best)\n",
        "\n",
        "print(\"Accuracy: \"+str(accuracy))\n",
        "print(\"Recall: \"+str(recall))\n",
        "print(\"f1 score: \"+str(f1))"
      ]
    },
    {
      "cell_type": "markdown",
      "source": [
        "##d. Construir un clasificador XGBoost y optimizar sus hiperparámetros.\n"
      ],
      "metadata": {
        "id": "dmGXt8Nn3vNG"
      }
    },
    {
      "cell_type": "markdown",
      "source": [
        "###XGBoost"
      ],
      "metadata": {
        "id": "YP2xmR8YWx6S"
      }
    },
    {
      "cell_type": "code",
      "source": [
        "#Creo el modelo y lo entreno\n",
        "\n",
        "import xgboost as xgb\n",
        "\n",
        "xgb_model = xgb.XGBClassifier(random_state=0, n_estimators=100)\n",
        "xgb_model.fit(x_train, y_train)"
      ],
      "metadata": {
        "colab": {
          "base_uri": "https://localhost:8080/",
          "height": 248
        },
        "id": "w0BEfzPF2p__",
        "outputId": "3af35da0-a7ce-4c69-de89-07d344a61a3d"
      },
      "execution_count": null,
      "outputs": [
        {
          "output_type": "execute_result",
          "data": {
            "text/plain": [
              "XGBClassifier(base_score=None, booster=None, callbacks=None,\n",
              "              colsample_bylevel=None, colsample_bynode=None,\n",
              "              colsample_bytree=None, early_stopping_rounds=None,\n",
              "              enable_categorical=False, eval_metric=None, feature_types=None,\n",
              "              gamma=None, gpu_id=None, grow_policy=None, importance_type=None,\n",
              "              interaction_constraints=None, learning_rate=None, max_bin=None,\n",
              "              max_cat_threshold=None, max_cat_to_onehot=None,\n",
              "              max_delta_step=None, max_depth=None, max_leaves=None,\n",
              "              min_child_weight=None, missing=nan, monotone_constraints=None,\n",
              "              n_estimators=100, n_jobs=None, num_parallel_tree=None,\n",
              "              predictor=None, random_state=0, ...)"
            ],
            "text/html": [
              "<style>#sk-container-id-2 {color: black;background-color: white;}#sk-container-id-2 pre{padding: 0;}#sk-container-id-2 div.sk-toggleable {background-color: white;}#sk-container-id-2 label.sk-toggleable__label {cursor: pointer;display: block;width: 100%;margin-bottom: 0;padding: 0.3em;box-sizing: border-box;text-align: center;}#sk-container-id-2 label.sk-toggleable__label-arrow:before {content: \"▸\";float: left;margin-right: 0.25em;color: #696969;}#sk-container-id-2 label.sk-toggleable__label-arrow:hover:before {color: black;}#sk-container-id-2 div.sk-estimator:hover label.sk-toggleable__label-arrow:before {color: black;}#sk-container-id-2 div.sk-toggleable__content {max-height: 0;max-width: 0;overflow: hidden;text-align: left;background-color: #f0f8ff;}#sk-container-id-2 div.sk-toggleable__content pre {margin: 0.2em;color: black;border-radius: 0.25em;background-color: #f0f8ff;}#sk-container-id-2 input.sk-toggleable__control:checked~div.sk-toggleable__content {max-height: 200px;max-width: 100%;overflow: auto;}#sk-container-id-2 input.sk-toggleable__control:checked~label.sk-toggleable__label-arrow:before {content: \"▾\";}#sk-container-id-2 div.sk-estimator input.sk-toggleable__control:checked~label.sk-toggleable__label {background-color: #d4ebff;}#sk-container-id-2 div.sk-label input.sk-toggleable__control:checked~label.sk-toggleable__label {background-color: #d4ebff;}#sk-container-id-2 input.sk-hidden--visually {border: 0;clip: rect(1px 1px 1px 1px);clip: rect(1px, 1px, 1px, 1px);height: 1px;margin: -1px;overflow: hidden;padding: 0;position: absolute;width: 1px;}#sk-container-id-2 div.sk-estimator {font-family: monospace;background-color: #f0f8ff;border: 1px dotted black;border-radius: 0.25em;box-sizing: border-box;margin-bottom: 0.5em;}#sk-container-id-2 div.sk-estimator:hover {background-color: #d4ebff;}#sk-container-id-2 div.sk-parallel-item::after {content: \"\";width: 100%;border-bottom: 1px solid gray;flex-grow: 1;}#sk-container-id-2 div.sk-label:hover label.sk-toggleable__label {background-color: #d4ebff;}#sk-container-id-2 div.sk-serial::before {content: \"\";position: absolute;border-left: 1px solid gray;box-sizing: border-box;top: 0;bottom: 0;left: 50%;z-index: 0;}#sk-container-id-2 div.sk-serial {display: flex;flex-direction: column;align-items: center;background-color: white;padding-right: 0.2em;padding-left: 0.2em;position: relative;}#sk-container-id-2 div.sk-item {position: relative;z-index: 1;}#sk-container-id-2 div.sk-parallel {display: flex;align-items: stretch;justify-content: center;background-color: white;position: relative;}#sk-container-id-2 div.sk-item::before, #sk-container-id-2 div.sk-parallel-item::before {content: \"\";position: absolute;border-left: 1px solid gray;box-sizing: border-box;top: 0;bottom: 0;left: 50%;z-index: -1;}#sk-container-id-2 div.sk-parallel-item {display: flex;flex-direction: column;z-index: 1;position: relative;background-color: white;}#sk-container-id-2 div.sk-parallel-item:first-child::after {align-self: flex-end;width: 50%;}#sk-container-id-2 div.sk-parallel-item:last-child::after {align-self: flex-start;width: 50%;}#sk-container-id-2 div.sk-parallel-item:only-child::after {width: 0;}#sk-container-id-2 div.sk-dashed-wrapped {border: 1px dashed gray;margin: 0 0.4em 0.5em 0.4em;box-sizing: border-box;padding-bottom: 0.4em;background-color: white;}#sk-container-id-2 div.sk-label label {font-family: monospace;font-weight: bold;display: inline-block;line-height: 1.2em;}#sk-container-id-2 div.sk-label-container {text-align: center;}#sk-container-id-2 div.sk-container {/* jupyter's `normalize.less` sets `[hidden] { display: none; }` but bootstrap.min.css set `[hidden] { display: none !important; }` so we also need the `!important` here to be able to override the default hidden behavior on the sphinx rendered scikit-learn.org. See: https://github.com/scikit-learn/scikit-learn/issues/21755 */display: inline-block !important;position: relative;}#sk-container-id-2 div.sk-text-repr-fallback {display: none;}</style><div id=\"sk-container-id-2\" class=\"sk-top-container\"><div class=\"sk-text-repr-fallback\"><pre>XGBClassifier(base_score=None, booster=None, callbacks=None,\n",
              "              colsample_bylevel=None, colsample_bynode=None,\n",
              "              colsample_bytree=None, early_stopping_rounds=None,\n",
              "              enable_categorical=False, eval_metric=None, feature_types=None,\n",
              "              gamma=None, gpu_id=None, grow_policy=None, importance_type=None,\n",
              "              interaction_constraints=None, learning_rate=None, max_bin=None,\n",
              "              max_cat_threshold=None, max_cat_to_onehot=None,\n",
              "              max_delta_step=None, max_depth=None, max_leaves=None,\n",
              "              min_child_weight=None, missing=nan, monotone_constraints=None,\n",
              "              n_estimators=100, n_jobs=None, num_parallel_tree=None,\n",
              "              predictor=None, random_state=0, ...)</pre><b>In a Jupyter environment, please rerun this cell to show the HTML representation or trust the notebook. <br />On GitHub, the HTML representation is unable to render, please try loading this page with nbviewer.org.</b></div><div class=\"sk-container\" hidden><div class=\"sk-item\"><div class=\"sk-estimator sk-toggleable\"><input class=\"sk-toggleable__control sk-hidden--visually\" id=\"sk-estimator-id-2\" type=\"checkbox\" checked><label for=\"sk-estimator-id-2\" class=\"sk-toggleable__label sk-toggleable__label-arrow\">XGBClassifier</label><div class=\"sk-toggleable__content\"><pre>XGBClassifier(base_score=None, booster=None, callbacks=None,\n",
              "              colsample_bylevel=None, colsample_bynode=None,\n",
              "              colsample_bytree=None, early_stopping_rounds=None,\n",
              "              enable_categorical=False, eval_metric=None, feature_types=None,\n",
              "              gamma=None, gpu_id=None, grow_policy=None, importance_type=None,\n",
              "              interaction_constraints=None, learning_rate=None, max_bin=None,\n",
              "              max_cat_threshold=None, max_cat_to_onehot=None,\n",
              "              max_delta_step=None, max_depth=None, max_leaves=None,\n",
              "              min_child_weight=None, missing=nan, monotone_constraints=None,\n",
              "              n_estimators=100, n_jobs=None, num_parallel_tree=None,\n",
              "              predictor=None, random_state=0, ...)</pre></div></div></div></div></div>"
            ]
          },
          "metadata": {},
          "execution_count": 127
        }
      ]
    },
    {
      "cell_type": "code",
      "source": [
        "#Evaluo en el set de test\n",
        "y_pred= xgb_model.predict_proba(x_test)[:, 1]\n",
        "\n",
        "#Matriz de Confusion\n",
        "y_pred=xgb_model.predict(x_test)\n",
        "\n",
        "cm = confusion_matrix(y_test,y_pred)\n",
        "sns.heatmap(cm, cmap='Blues',annot=True,fmt='g')\n",
        "plt.xlabel('Predicted')\n",
        "plt.ylabel('True')\n",
        "\n",
        "#Reporte\n",
        "print(classification_report(y_test,y_pred))\n"
      ],
      "metadata": {
        "colab": {
          "base_uri": "https://localhost:8080/",
          "height": 615
        },
        "id": "1lUAlDh9jYfQ",
        "outputId": "e446b14b-02ee-4d3f-af04-c1345ed09d6e"
      },
      "execution_count": null,
      "outputs": [
        {
          "output_type": "stream",
          "name": "stdout",
          "text": [
            "              precision    recall  f1-score   support\n",
            "\n",
            "           0       0.87      0.85      0.86      6095\n",
            "           1       0.86      0.88      0.87      6108\n",
            "\n",
            "    accuracy                           0.86     12203\n",
            "   macro avg       0.86      0.86      0.86     12203\n",
            "weighted avg       0.86      0.86      0.86     12203\n",
            "\n"
          ]
        },
        {
          "output_type": "display_data",
          "data": {
            "text/plain": [
              "<Figure size 640x480 with 2 Axes>"
            ],
            "image/png": "[encoded data removed]"
          },
          "metadata": {}
        }
      ]
    },
    {
      "cell_type": "markdown",
      "source": [
        "###Optimizacion de HiperParametros"
      ],
      "metadata": {
        "id": "4lphNLg0Wu87"
      }
    },
    {
      "cell_type": "markdown",
      "source": [
        "Empiezo a probar distintos valores para el learning rate, dado que la metrica me quede mas alta y la desviacion disminuya."
      ],
      "metadata": {
        "id": "AKSC2DvPv29Y"
      }
    },
    {
      "cell_type": "code",
      "source": [
        "#Datos de entrenamiento en formato DMatrix\n",
        "data_dmatrix = xgb.DMatrix(data=x_train, label=y_train)\n",
        "\n",
        "#Entreno CV para probar el learning rate\n",
        "results=xgb.cv(dtrain=data_dmatrix,nfold=10,params={'learning_rate': 0.0001},num_boost_round=8,metrics='auc')\n",
        "results"
      ],
      "metadata": {
        "colab": {
          "base_uri": "https://localhost:8080/",
          "height": 300
        },
        "outputId": "fa750873-824f-4861-f0ff-a6dd02b8ed18",
        "id": "oAEaxapRnj-P"
      },
      "execution_count": null,
      "outputs": [
        {
          "output_type": "execute_result",
          "data": {
            "text/plain": [
              "   train-auc-mean  train-auc-std  test-auc-mean  test-auc-std\n",
              "0        0.889914       0.000611       0.888295      0.003807\n",
              "1        0.889917       0.000610       0.888312      0.003796\n",
              "2        0.889915       0.000610       0.888312      0.003796\n",
              "3        0.889917       0.000610       0.888312      0.003796\n",
              "4        0.889916       0.000610       0.888312      0.003796\n",
              "5        0.889917       0.000610       0.888312      0.003796\n",
              "6        0.889916       0.000610       0.888312      0.003796\n",
              "7        0.889917       0.000610       0.888305      0.003799"
            ],
            "text/html": [
              "\n",
              "  <div id=\"df-010ce5a0-60ba-49e9-adce-204f8b9be881\">\n",
              "    <div class=\"colab-df-container\">\n",
              "      <div>\n",
              "<style scoped>\n",
              "    .dataframe tbody tr th:only-of-type {\n",
              "        vertical-align: middle;\n",
              "    }\n",
              "\n",
              "    .dataframe tbody tr th {\n",
              "        vertical-align: top;\n",
              "    }\n",
              "\n",
              "    .dataframe thead th {\n",
              "        text-align: right;\n",
              "    }\n",
              "</style>\n",
              "<table border=\"1\" class=\"dataframe\">\n",
              "  <thead>\n",
              "    <tr style=\"text-align: right;\">\n",
              "      <th></th>\n",
              "      <th>train-auc-mean</th>\n",
              "      <th>train-auc-std</th>\n",
              "      <th>test-auc-mean</th>\n",
              "      <th>test-auc-std</th>\n",
              "    </tr>\n",
              "  </thead>\n",
              "  <tbody>\n",
              "    <tr>\n",
              "      <th>0</th>\n",
              "      <td>0.889914</td>\n",
              "      <td>0.000611</td>\n",
              "      <td>0.888295</td>\n",
              "      <td>0.003807</td>\n",
              "    </tr>\n",
              "    <tr>\n",
              "      <th>1</th>\n",
              "      <td>0.889917</td>\n",
              "      <td>0.000610</td>\n",
              "      <td>0.888312</td>\n",
              "      <td>0.003796</td>\n",
              "    </tr>\n",
              "    <tr>\n",
              "      <th>2</th>\n",
              "      <td>0.889915</td>\n",
              "      <td>0.000610</td>\n",
              "      <td>0.888312</td>\n",
              "      <td>0.003796</td>\n",
              "    </tr>\n",
              "    <tr>\n",
              "      <th>3</th>\n",
              "      <td>0.889917</td>\n",
              "      <td>0.000610</td>\n",
              "      <td>0.888312</td>\n",
              "      <td>0.003796</td>\n",
              "    </tr>\n",
              "    <tr>\n",
              "      <th>4</th>\n",
              "      <td>0.889916</td>\n",
              "      <td>0.000610</td>\n",
              "      <td>0.888312</td>\n",
              "      <td>0.003796</td>\n",
              "    </tr>\n",
              "    <tr>\n",
              "      <th>5</th>\n",
              "      <td>0.889917</td>\n",
              "      <td>0.000610</td>\n",
              "      <td>0.888312</td>\n",
              "      <td>0.003796</td>\n",
              "    </tr>\n",
              "    <tr>\n",
              "      <th>6</th>\n",
              "      <td>0.889916</td>\n",
              "      <td>0.000610</td>\n",
              "      <td>0.888312</td>\n",
              "      <td>0.003796</td>\n",
              "    </tr>\n",
              "    <tr>\n",
              "      <th>7</th>\n",
              "      <td>0.889917</td>\n",
              "      <td>0.000610</td>\n",
              "      <td>0.888305</td>\n",
              "      <td>0.003799</td>\n",
              "    </tr>\n",
              "  </tbody>\n",
              "</table>\n",
              "</div>\n",
              "      <button class=\"colab-df-convert\" onclick=\"convertToInteractive('df-010ce5a0-60ba-49e9-adce-204f8b9be881')\"\n",
              "              title=\"Convert this dataframe to an interactive table.\"\n",
              "              style=\"display:none;\">\n",
              "        \n",
              "  <svg xmlns=\"http://www.w3.org/2000/svg\" height=\"24px\"viewBox=\"0 0 24 24\"\n",
              "       width=\"24px\">\n",
              "    <path d=\"M0 0h24v24H0V0z\" fill=\"none\"/>\n",
              "    <path d=\"M18.56 5.44l.94 2.06.94-2.06 2.06-.94-2.06-.94-.94-2.06-.94 2.06-2.06.94zm-11 1L8.5 8.5l.94-2.06 2.06-.94-2.06-.94L8.5 2.5l-.94 2.06-2.06.94zm10 10l.94 2.06.94-2.06 2.06-.94-2.06-.94-.94-2.06-.94 2.06-2.06.94z\"/><path d=\"M17.41 7.96l-1.37-1.37c-.4-.4-.92-.59-1.43-.59-.52 0-1.04.2-1.43.59L10.3 9.45l-7.72 7.72c-.78.78-.78 2.05 0 2.83L4 21.41c.39.39.9.59 1.41.59.51 0 1.02-.2 1.41-.59l7.78-7.78 2.81-2.81c.8-.78.8-2.07 0-2.86zM5.41 20L4 18.59l7.72-7.72 1.47 1.35L5.41 20z\"/>\n",
              "  </svg>\n",
              "      </button>\n",
              "      \n",
              "  <style>\n",
              "    .colab-df-container {\n",
              "      display:flex;\n",
              "      flex-wrap:wrap;\n",
              "      gap: 12px;\n",
              "    }\n",
              "\n",
              "    .colab-df-convert {\n",
              "      background-color: #E8F0FE;\n",
              "      border: none;\n",
              "      border-radius: 50%;\n",
              "      cursor: pointer;\n",
              "      display: none;\n",
              "      fill: #1967D2;\n",
              "      height: 32px;\n",
              "      padding: 0 0 0 0;\n",
              "      width: 32px;\n",
              "    }\n",
              "\n",
              "    .colab-df-convert:hover {\n",
              "      background-color: #E2EBFA;\n",
              "      box-shadow: 0px 1px 2px rgba(60, 64, 67, 0.3), 0px 1px 3px 1px rgba(60, 64, 67, 0.15);\n",
              "      fill: #174EA6;\n",
              "    }\n",
              "\n",
              "    [theme=dark] .colab-df-convert {\n",
              "      background-color: #3B4455;\n",
              "      fill: #D2E3FC;\n",
              "    }\n",
              "\n",
              "    [theme=dark] .colab-df-convert:hover {\n",
              "      background-color: #434B5C;\n",
              "      box-shadow: 0px 1px 3px 1px rgba(0, 0, 0, 0.15);\n",
              "      filter: drop-shadow(0px 1px 2px rgba(0, 0, 0, 0.3));\n",
              "      fill: #FFFFFF;\n",
              "    }\n",
              "  </style>\n",
              "\n",
              "      <script>\n",
              "        const buttonEl =\n",
              "          document.querySelector('#df-010ce5a0-60ba-49e9-adce-204f8b9be881 button.colab-df-convert');\n",
              "        buttonEl.style.display =\n",
              "          google.colab.kernel.accessAllowed ? 'block' : 'none';\n",
              "\n",
              "        async function convertToInteractive(key) {\n",
              "          const element = document.querySelector('#df-010ce5a0-60ba-49e9-adce-204f8b9be881');\n",
              "          const dataTable =\n",
              "            await google.colab.kernel.invokeFunction('convertToInteractive',\n",
              "                                                     [key], {});\n",
              "          if (!dataTable) return;\n",
              "\n",
              "          const docLinkHtml = 'Like what you see? Visit the ' +\n",
              "            '<a target=\"_blank\" href=https://colab.research.google.com/notebooks/data_table.ipynb>data table notebook</a>'\n",
              "            + ' to learn more about interactive tables.';\n",
              "          element.innerHTML = '';\n",
              "          dataTable['output_type'] = 'display_data';\n",
              "          await google.colab.output.renderOutput(dataTable, element);\n",
              "          const docLink = document.createElement('div');\n",
              "          docLink.innerHTML = docLinkHtml;\n",
              "          element.appendChild(docLink);\n",
              "        }\n",
              "      </script>\n",
              "    </div>\n",
              "  </div>\n",
              "  "
            ]
          },
          "metadata": {},
          "execution_count": 145
        }
      ]
    },
    {
      "cell_type": "code",
      "source": [
        "#Entreno CV para probar con un learning rate mas alto\n",
        "results=xgb.cv(dtrain=data_dmatrix,nfold=10,params={'learning_rate':0.001},num_boost_round=8,metrics='auc',seed=0)\n",
        "#, 0.001, 0.01, 0.1, 0.2, 0.3\n",
        "results"
      ],
      "metadata": {
        "colab": {
          "base_uri": "https://localhost:8080/",
          "height": 300
        },
        "outputId": "0337faab-14a9-4052-de06-1ff990c2d73a",
        "id": "USyI2FaEnj-R"
      },
      "execution_count": null,
      "outputs": [
        {
          "output_type": "execute_result",
          "data": {
            "text/plain": [
              "   train-auc-mean  train-auc-std  test-auc-mean  test-auc-std\n",
              "0        0.889914       0.000611       0.888289      0.003810\n",
              "1        0.889917       0.000610       0.888305      0.003799\n",
              "2        0.889928       0.000612       0.888320      0.003790\n",
              "3        0.889937       0.000613       0.888321      0.003789\n",
              "4        0.889932       0.000613       0.888323      0.003788\n",
              "5        0.889933       0.000612       0.888324      0.003788\n",
              "6        0.889934       0.000613       0.888326      0.003786\n",
              "7        0.889935       0.000610       0.888325      0.003789"
            ],
            "text/html": [
              "\n",
              "  <div id=\"df-7923e67d-830d-46e4-8b1f-0f54929ce457\">\n",
              "    <div class=\"colab-df-container\">\n",
              "      <div>\n",
              "<style scoped>\n",
              "    .dataframe tbody tr th:only-of-type {\n",
              "        vertical-align: middle;\n",
              "    }\n",
              "\n",
              "    .dataframe tbody tr th {\n",
              "        vertical-align: top;\n",
              "    }\n",
              "\n",
              "    .dataframe thead th {\n",
              "        text-align: right;\n",
              "    }\n",
              "</style>\n",
              "<table border=\"1\" class=\"dataframe\">\n",
              "  <thead>\n",
              "    <tr style=\"text-align: right;\">\n",
              "      <th></th>\n",
              "      <th>train-auc-mean</th>\n",
              "      <th>train-auc-std</th>\n",
              "      <th>test-auc-mean</th>\n",
              "      <th>test-auc-std</th>\n",
              "    </tr>\n",
              "  </thead>\n",
              "  <tbody>\n",
              "    <tr>\n",
              "      <th>0</th>\n",
              "      <td>0.889914</td>\n",
              "      <td>0.000611</td>\n",
              "      <td>0.888289</td>\n",
              "      <td>0.003810</td>\n",
              "    </tr>\n",
              "    <tr>\n",
              "      <th>1</th>\n",
              "      <td>0.889917</td>\n",
              "      <td>0.000610</td>\n",
              "      <td>0.888305</td>\n",
              "      <td>0.003799</td>\n",
              "    </tr>\n",
              "    <tr>\n",
              "      <th>2</th>\n",
              "      <td>0.889928</td>\n",
              "      <td>0.000612</td>\n",
              "      <td>0.888320</td>\n",
              "      <td>0.003790</td>\n",
              "    </tr>\n",
              "    <tr>\n",
              "      <th>3</th>\n",
              "      <td>0.889937</td>\n",
              "      <td>0.000613</td>\n",
              "      <td>0.888321</td>\n",
              "      <td>0.003789</td>\n",
              "    </tr>\n",
              "    <tr>\n",
              "      <th>4</th>\n",
              "      <td>0.889932</td>\n",
              "      <td>0.000613</td>\n",
              "      <td>0.888323</td>\n",
              "      <td>0.003788</td>\n",
              "    </tr>\n",
              "    <tr>\n",
              "      <th>5</th>\n",
              "      <td>0.889933</td>\n",
              "      <td>0.000612</td>\n",
              "      <td>0.888324</td>\n",
              "      <td>0.003788</td>\n",
              "    </tr>\n",
              "    <tr>\n",
              "      <th>6</th>\n",
              "      <td>0.889934</td>\n",
              "      <td>0.000613</td>\n",
              "      <td>0.888326</td>\n",
              "      <td>0.003786</td>\n",
              "    </tr>\n",
              "    <tr>\n",
              "      <th>7</th>\n",
              "      <td>0.889935</td>\n",
              "      <td>0.000610</td>\n",
              "      <td>0.888325</td>\n",
              "      <td>0.003789</td>\n",
              "    </tr>\n",
              "  </tbody>\n",
              "</table>\n",
              "</div>\n",
              "      <button class=\"colab-df-convert\" onclick=\"convertToInteractive('df-7923e67d-830d-46e4-8b1f-0f54929ce457')\"\n",
              "              title=\"Convert this dataframe to an interactive table.\"\n",
              "              style=\"display:none;\">\n",
              "        \n",
              "  <svg xmlns=\"http://www.w3.org/2000/svg\" height=\"24px\"viewBox=\"0 0 24 24\"\n",
              "       width=\"24px\">\n",
              "    <path d=\"M0 0h24v24H0V0z\" fill=\"none\"/>\n",
              "    <path d=\"M18.56 5.44l.94 2.06.94-2.06 2.06-.94-2.06-.94-.94-2.06-.94 2.06-2.06.94zm-11 1L8.5 8.5l.94-2.06 2.06-.94-2.06-.94L8.5 2.5l-.94 2.06-2.06.94zm10 10l.94 2.06.94-2.06 2.06-.94-2.06-.94-.94-2.06-.94 2.06-2.06.94z\"/><path d=\"M17.41 7.96l-1.37-1.37c-.4-.4-.92-.59-1.43-.59-.52 0-1.04.2-1.43.59L10.3 9.45l-7.72 7.72c-.78.78-.78 2.05 0 2.83L4 21.41c.39.39.9.59 1.41.59.51 0 1.02-.2 1.41-.59l7.78-7.78 2.81-2.81c.8-.78.8-2.07 0-2.86zM5.41 20L4 18.59l7.72-7.72 1.47 1.35L5.41 20z\"/>\n",
              "  </svg>\n",
              "      </button>\n",
              "      \n",
              "  <style>\n",
              "    .colab-df-container {\n",
              "      display:flex;\n",
              "      flex-wrap:wrap;\n",
              "      gap: 12px;\n",
              "    }\n",
              "\n",
              "    .colab-df-convert {\n",
              "      background-color: #E8F0FE;\n",
              "      border: none;\n",
              "      border-radius: 50%;\n",
              "      cursor: pointer;\n",
              "      display: none;\n",
              "      fill: #1967D2;\n",
              "      height: 32px;\n",
              "      padding: 0 0 0 0;\n",
              "      width: 32px;\n",
              "    }\n",
              "\n",
              "    .colab-df-convert:hover {\n",
              "      background-color: #E2EBFA;\n",
              "      box-shadow: 0px 1px 2px rgba(60, 64, 67, 0.3), 0px 1px 3px 1px rgba(60, 64, 67, 0.15);\n",
              "      fill: #174EA6;\n",
              "    }\n",
              "\n",
              "    [theme=dark] .colab-df-convert {\n",
              "      background-color: #3B4455;\n",
              "      fill: #D2E3FC;\n",
              "    }\n",
              "\n",
              "    [theme=dark] .colab-df-convert:hover {\n",
              "      background-color: #434B5C;\n",
              "      box-shadow: 0px 1px 3px 1px rgba(0, 0, 0, 0.15);\n",
              "      filter: drop-shadow(0px 1px 2px rgba(0, 0, 0, 0.3));\n",
              "      fill: #FFFFFF;\n",
              "    }\n",
              "  </style>\n",
              "\n",
              "      <script>\n",
              "        const buttonEl =\n",
              "          document.querySelector('#df-7923e67d-830d-46e4-8b1f-0f54929ce457 button.colab-df-convert');\n",
              "        buttonEl.style.display =\n",
              "          google.colab.kernel.accessAllowed ? 'block' : 'none';\n",
              "\n",
              "        async function convertToInteractive(key) {\n",
              "          const element = document.querySelector('#df-7923e67d-830d-46e4-8b1f-0f54929ce457');\n",
              "          const dataTable =\n",
              "            await google.colab.kernel.invokeFunction('convertToInteractive',\n",
              "                                                     [key], {});\n",
              "          if (!dataTable) return;\n",
              "\n",
              "          const docLinkHtml = 'Like what you see? Visit the ' +\n",
              "            '<a target=\"_blank\" href=https://colab.research.google.com/notebooks/data_table.ipynb>data table notebook</a>'\n",
              "            + ' to learn more about interactive tables.';\n",
              "          element.innerHTML = '';\n",
              "          dataTable['output_type'] = 'display_data';\n",
              "          await google.colab.output.renderOutput(dataTable, element);\n",
              "          const docLink = document.createElement('div');\n",
              "          docLink.innerHTML = docLinkHtml;\n",
              "          element.appendChild(docLink);\n",
              "        }\n",
              "      </script>\n",
              "    </div>\n",
              "  </div>\n",
              "  "
            ]
          },
          "metadata": {},
          "execution_count": 146
        }
      ]
    },
    {
      "cell_type": "code",
      "source": [
        "#Entreno CV para probar con un learning rate mas alto\n",
        "results=xgb.cv(dtrain=data_dmatrix,nfold=10,params={'learning_rate':0.01},num_boost_round=8,metrics='auc',seed=0)\n",
        "#, 0.001, 0.01, 0.1, 0.2, 0.3\n",
        "results"
      ],
      "metadata": {
        "colab": {
          "base_uri": "https://localhost:8080/",
          "height": 300
        },
        "outputId": "555e9cbf-4fb9-4f70-992f-17d9c7ff59b4",
        "id": "QQrL6aXiqAeJ"
      },
      "execution_count": null,
      "outputs": [
        {
          "output_type": "execute_result",
          "data": {
            "text/plain": [
              "   train-auc-mean  train-auc-std  test-auc-mean  test-auc-std\n",
              "0        0.889914       0.000611       0.888289      0.003810\n",
              "1        0.890015       0.000701       0.888464      0.003639\n",
              "2        0.890397       0.000802       0.888922      0.003810\n",
              "3        0.890384       0.000772       0.888909      0.003810\n",
              "4        0.890431       0.000763       0.888958      0.003704\n",
              "5        0.890542       0.000674       0.889162      0.003824\n",
              "6        0.890580       0.000687       0.889193      0.003801\n",
              "7        0.890768       0.000718       0.889360      0.003714"
            ],
            "text/html": [
              "\n",
              "  <div id=\"df-0ae7f0b8-2f3f-439b-a101-6a9ea38eaf64\">\n",
              "    <div class=\"colab-df-container\">\n",
              "      <div>\n",
              "<style scoped>\n",
              "    .dataframe tbody tr th:only-of-type {\n",
              "        vertical-align: middle;\n",
              "    }\n",
              "\n",
              "    .dataframe tbody tr th {\n",
              "        vertical-align: top;\n",
              "    }\n",
              "\n",
              "    .dataframe thead th {\n",
              "        text-align: right;\n",
              "    }\n",
              "</style>\n",
              "<table border=\"1\" class=\"dataframe\">\n",
              "  <thead>\n",
              "    <tr style=\"text-align: right;\">\n",
              "      <th></th>\n",
              "      <th>train-auc-mean</th>\n",
              "      <th>train-auc-std</th>\n",
              "      <th>test-auc-mean</th>\n",
              "      <th>test-auc-std</th>\n",
              "    </tr>\n",
              "  </thead>\n",
              "  <tbody>\n",
              "    <tr>\n",
              "      <th>0</th>\n",
              "      <td>0.889914</td>\n",
              "      <td>0.000611</td>\n",
              "      <td>0.888289</td>\n",
              "      <td>0.003810</td>\n",
              "    </tr>\n",
              "    <tr>\n",
              "      <th>1</th>\n",
              "      <td>0.890015</td>\n",
              "      <td>0.000701</td>\n",
              "      <td>0.888464</td>\n",
              "      <td>0.003639</td>\n",
              "    </tr>\n",
              "    <tr>\n",
              "      <th>2</th>\n",
              "      <td>0.890397</td>\n",
              "      <td>0.000802</td>\n",
              "      <td>0.888922</td>\n",
              "      <td>0.003810</td>\n",
              "    </tr>\n",
              "    <tr>\n",
              "      <th>3</th>\n",
              "      <td>0.890384</td>\n",
              "      <td>0.000772</td>\n",
              "      <td>0.888909</td>\n",
              "      <td>0.003810</td>\n",
              "    </tr>\n",
              "    <tr>\n",
              "      <th>4</th>\n",
              "      <td>0.890431</td>\n",
              "      <td>0.000763</td>\n",
              "      <td>0.888958</td>\n",
              "      <td>0.003704</td>\n",
              "    </tr>\n",
              "    <tr>\n",
              "      <th>5</th>\n",
              "      <td>0.890542</td>\n",
              "      <td>0.000674</td>\n",
              "      <td>0.889162</td>\n",
              "      <td>0.003824</td>\n",
              "    </tr>\n",
              "    <tr>\n",
              "      <th>6</th>\n",
              "      <td>0.890580</td>\n",
              "      <td>0.000687</td>\n",
              "      <td>0.889193</td>\n",
              "      <td>0.003801</td>\n",
              "    </tr>\n",
              "    <tr>\n",
              "      <th>7</th>\n",
              "      <td>0.890768</td>\n",
              "      <td>0.000718</td>\n",
              "      <td>0.889360</td>\n",
              "      <td>0.003714</td>\n",
              "    </tr>\n",
              "  </tbody>\n",
              "</table>\n",
              "</div>\n",
              "      <button class=\"colab-df-convert\" onclick=\"convertToInteractive('df-0ae7f0b8-2f3f-439b-a101-6a9ea38eaf64')\"\n",
              "              title=\"Convert this dataframe to an interactive table.\"\n",
              "              style=\"display:none;\">\n",
              "        \n",
              "  <svg xmlns=\"http://www.w3.org/2000/svg\" height=\"24px\"viewBox=\"0 0 24 24\"\n",
              "       width=\"24px\">\n",
              "    <path d=\"M0 0h24v24H0V0z\" fill=\"none\"/>\n",
              "    <path d=\"M18.56 5.44l.94 2.06.94-2.06 2.06-.94-2.06-.94-.94-2.06-.94 2.06-2.06.94zm-11 1L8.5 8.5l.94-2.06 2.06-.94-2.06-.94L8.5 2.5l-.94 2.06-2.06.94zm10 10l.94 2.06.94-2.06 2.06-.94-2.06-.94-.94-2.06-.94 2.06-2.06.94z\"/><path d=\"M17.41 7.96l-1.37-1.37c-.4-.4-.92-.59-1.43-.59-.52 0-1.04.2-1.43.59L10.3 9.45l-7.72 7.72c-.78.78-.78 2.05 0 2.83L4 21.41c.39.39.9.59 1.41.59.51 0 1.02-.2 1.41-.59l7.78-7.78 2.81-2.81c.8-.78.8-2.07 0-2.86zM5.41 20L4 18.59l7.72-7.72 1.47 1.35L5.41 20z\"/>\n",
              "  </svg>\n",
              "      </button>\n",
              "      \n",
              "  <style>\n",
              "    .colab-df-container {\n",
              "      display:flex;\n",
              "      flex-wrap:wrap;\n",
              "      gap: 12px;\n",
              "    }\n",
              "\n",
              "    .colab-df-convert {\n",
              "      background-color: #E8F0FE;\n",
              "      border: none;\n",
              "      border-radius: 50%;\n",
              "      cursor: pointer;\n",
              "      display: none;\n",
              "      fill: #1967D2;\n",
              "      height: 32px;\n",
              "      padding: 0 0 0 0;\n",
              "      width: 32px;\n",
              "    }\n",
              "\n",
              "    .colab-df-convert:hover {\n",
              "      background-color: #E2EBFA;\n",
              "      box-shadow: 0px 1px 2px rgba(60, 64, 67, 0.3), 0px 1px 3px 1px rgba(60, 64, 67, 0.15);\n",
              "      fill: #174EA6;\n",
              "    }\n",
              "\n",
              "    [theme=dark] .colab-df-convert {\n",
              "      background-color: #3B4455;\n",
              "      fill: #D2E3FC;\n",
              "    }\n",
              "\n",
              "    [theme=dark] .colab-df-convert:hover {\n",
              "      background-color: #434B5C;\n",
              "      box-shadow: 0px 1px 3px 1px rgba(0, 0, 0, 0.15);\n",
              "      filter: drop-shadow(0px 1px 2px rgba(0, 0, 0, 0.3));\n",
              "      fill: #FFFFFF;\n",
              "    }\n",
              "  </style>\n",
              "\n",
              "      <script>\n",
              "        const buttonEl =\n",
              "          document.querySelector('#df-0ae7f0b8-2f3f-439b-a101-6a9ea38eaf64 button.colab-df-convert');\n",
              "        buttonEl.style.display =\n",
              "          google.colab.kernel.accessAllowed ? 'block' : 'none';\n",
              "\n",
              "        async function convertToInteractive(key) {\n",
              "          const element = document.querySelector('#df-0ae7f0b8-2f3f-439b-a101-6a9ea38eaf64');\n",
              "          const dataTable =\n",
              "            await google.colab.kernel.invokeFunction('convertToInteractive',\n",
              "                                                     [key], {});\n",
              "          if (!dataTable) return;\n",
              "\n",
              "          const docLinkHtml = 'Like what you see? Visit the ' +\n",
              "            '<a target=\"_blank\" href=https://colab.research.google.com/notebooks/data_table.ipynb>data table notebook</a>'\n",
              "            + ' to learn more about interactive tables.';\n",
              "          element.innerHTML = '';\n",
              "          dataTable['output_type'] = 'display_data';\n",
              "          await google.colab.output.renderOutput(dataTable, element);\n",
              "          const docLink = document.createElement('div');\n",
              "          docLink.innerHTML = docLinkHtml;\n",
              "          element.appendChild(docLink);\n",
              "        }\n",
              "      </script>\n",
              "    </div>\n",
              "  </div>\n",
              "  "
            ]
          },
          "metadata": {},
          "execution_count": 147
        }
      ]
    },
    {
      "cell_type": "code",
      "source": [
        "#Entreno CV para probar con un learning rate mas alto\n",
        "results=xgb.cv(dtrain=data_dmatrix,nfold=10,params={'learning_rate':0.011},num_boost_round=8,metrics='auc',seed=0)\n",
        "results"
      ],
      "metadata": {
        "colab": {
          "base_uri": "https://localhost:8080/",
          "height": 300
        },
        "outputId": "645a675b-b5cb-4e09-a2de-4fb626177dc0",
        "id": "i0gWAR6orc7O"
      },
      "execution_count": null,
      "outputs": [
        {
          "output_type": "execute_result",
          "data": {
            "text/plain": [
              "   train-auc-mean  train-auc-std  test-auc-mean  test-auc-std\n",
              "0        0.889914       0.000611       0.888289      0.003810\n",
              "1        0.890016       0.000702       0.888465      0.003638\n",
              "2        0.890399       0.000807       0.888924      0.003813\n",
              "3        0.890441       0.000770       0.888965      0.003746\n",
              "4        0.890483       0.000782       0.889014      0.003660\n",
              "5        0.890555       0.000678       0.889194      0.003808\n",
              "6        0.890775       0.000757       0.889378      0.003705\n",
              "7        0.890834       0.000731       0.889447      0.003669"
            ],
            "text/html": [
              "\n",
              "  <div id=\"df-0c74f734-f86c-44b2-a764-7f0dc195ab93\">\n",
              "    <div class=\"colab-df-container\">\n",
              "      <div>\n",
              "<style scoped>\n",
              "    .dataframe tbody tr th:only-of-type {\n",
              "        vertical-align: middle;\n",
              "    }\n",
              "\n",
              "    .dataframe tbody tr th {\n",
              "        vertical-align: top;\n",
              "    }\n",
              "\n",
              "    .dataframe thead th {\n",
              "        text-align: right;\n",
              "    }\n",
              "</style>\n",
              "<table border=\"1\" class=\"dataframe\">\n",
              "  <thead>\n",
              "    <tr style=\"text-align: right;\">\n",
              "      <th></th>\n",
              "      <th>train-auc-mean</th>\n",
              "      <th>train-auc-std</th>\n",
              "      <th>test-auc-mean</th>\n",
              "      <th>test-auc-std</th>\n",
              "    </tr>\n",
              "  </thead>\n",
              "  <tbody>\n",
              "    <tr>\n",
              "      <th>0</th>\n",
              "      <td>0.889914</td>\n",
              "      <td>0.000611</td>\n",
              "      <td>0.888289</td>\n",
              "      <td>0.003810</td>\n",
              "    </tr>\n",
              "    <tr>\n",
              "      <th>1</th>\n",
              "      <td>0.890016</td>\n",
              "      <td>0.000702</td>\n",
              "      <td>0.888465</td>\n",
              "      <td>0.003638</td>\n",
              "    </tr>\n",
              "    <tr>\n",
              "      <th>2</th>\n",
              "      <td>0.890399</td>\n",
              "      <td>0.000807</td>\n",
              "      <td>0.888924</td>\n",
              "      <td>0.003813</td>\n",
              "    </tr>\n",
              "    <tr>\n",
              "      <th>3</th>\n",
              "      <td>0.890441</td>\n",
              "      <td>0.000770</td>\n",
              "      <td>0.888965</td>\n",
              "      <td>0.003746</td>\n",
              "    </tr>\n",
              "    <tr>\n",
              "      <th>4</th>\n",
              "      <td>0.890483</td>\n",
              "      <td>0.000782</td>\n",
              "      <td>0.889014</td>\n",
              "      <td>0.003660</td>\n",
              "    </tr>\n",
              "    <tr>\n",
              "      <th>5</th>\n",
              "      <td>0.890555</td>\n",
              "      <td>0.000678</td>\n",
              "      <td>0.889194</td>\n",
              "      <td>0.003808</td>\n",
              "    </tr>\n",
              "    <tr>\n",
              "      <th>6</th>\n",
              "      <td>0.890775</td>\n",
              "      <td>0.000757</td>\n",
              "      <td>0.889378</td>\n",
              "      <td>0.003705</td>\n",
              "    </tr>\n",
              "    <tr>\n",
              "      <th>7</th>\n",
              "      <td>0.890834</td>\n",
              "      <td>0.000731</td>\n",
              "      <td>0.889447</td>\n",
              "      <td>0.003669</td>\n",
              "    </tr>\n",
              "  </tbody>\n",
              "</table>\n",
              "</div>\n",
              "      <button class=\"colab-df-convert\" onclick=\"convertToInteractive('df-0c74f734-f86c-44b2-a764-7f0dc195ab93')\"\n",
              "              title=\"Convert this dataframe to an interactive table.\"\n",
              "              style=\"display:none;\">\n",
              "        \n",
              "  <svg xmlns=\"http://www.w3.org/2000/svg\" height=\"24px\"viewBox=\"0 0 24 24\"\n",
              "       width=\"24px\">\n",
              "    <path d=\"M0 0h24v24H0V0z\" fill=\"none\"/>\n",
              "    <path d=\"M18.56 5.44l.94 2.06.94-2.06 2.06-.94-2.06-.94-.94-2.06-.94 2.06-2.06.94zm-11 1L8.5 8.5l.94-2.06 2.06-.94-2.06-.94L8.5 2.5l-.94 2.06-2.06.94zm10 10l.94 2.06.94-2.06 2.06-.94-2.06-.94-.94-2.06-.94 2.06-2.06.94z\"/><path d=\"M17.41 7.96l-1.37-1.37c-.4-.4-.92-.59-1.43-.59-.52 0-1.04.2-1.43.59L10.3 9.45l-7.72 7.72c-.78.78-.78 2.05 0 2.83L4 21.41c.39.39.9.59 1.41.59.51 0 1.02-.2 1.41-.59l7.78-7.78 2.81-2.81c.8-.78.8-2.07 0-2.86zM5.41 20L4 18.59l7.72-7.72 1.47 1.35L5.41 20z\"/>\n",
              "  </svg>\n",
              "      </button>\n",
              "      \n",
              "  <style>\n",
              "    .colab-df-container {\n",
              "      display:flex;\n",
              "      flex-wrap:wrap;\n",
              "      gap: 12px;\n",
              "    }\n",
              "\n",
              "    .colab-df-convert {\n",
              "      background-color: #E8F0FE;\n",
              "      border: none;\n",
              "      border-radius: 50%;\n",
              "      cursor: pointer;\n",
              "      display: none;\n",
              "      fill: #1967D2;\n",
              "      height: 32px;\n",
              "      padding: 0 0 0 0;\n",
              "      width: 32px;\n",
              "    }\n",
              "\n",
              "    .colab-df-convert:hover {\n",
              "      background-color: #E2EBFA;\n",
              "      box-shadow: 0px 1px 2px rgba(60, 64, 67, 0.3), 0px 1px 3px 1px rgba(60, 64, 67, 0.15);\n",
              "      fill: #174EA6;\n",
              "    }\n",
              "\n",
              "    [theme=dark] .colab-df-convert {\n",
              "      background-color: #3B4455;\n",
              "      fill: #D2E3FC;\n",
              "    }\n",
              "\n",
              "    [theme=dark] .colab-df-convert:hover {\n",
              "      background-color: #434B5C;\n",
              "      box-shadow: 0px 1px 3px 1px rgba(0, 0, 0, 0.15);\n",
              "      filter: drop-shadow(0px 1px 2px rgba(0, 0, 0, 0.3));\n",
              "      fill: #FFFFFF;\n",
              "    }\n",
              "  </style>\n",
              "\n",
              "      <script>\n",
              "        const buttonEl =\n",
              "          document.querySelector('#df-0c74f734-f86c-44b2-a764-7f0dc195ab93 button.colab-df-convert');\n",
              "        buttonEl.style.display =\n",
              "          google.colab.kernel.accessAllowed ? 'block' : 'none';\n",
              "\n",
              "        async function convertToInteractive(key) {\n",
              "          const element = document.querySelector('#df-0c74f734-f86c-44b2-a764-7f0dc195ab93');\n",
              "          const dataTable =\n",
              "            await google.colab.kernel.invokeFunction('convertToInteractive',\n",
              "                                                     [key], {});\n",
              "          if (!dataTable) return;\n",
              "\n",
              "          const docLinkHtml = 'Like what you see? Visit the ' +\n",
              "            '<a target=\"_blank\" href=https://colab.research.google.com/notebooks/data_table.ipynb>data table notebook</a>'\n",
              "            + ' to learn more about interactive tables.';\n",
              "          element.innerHTML = '';\n",
              "          dataTable['output_type'] = 'display_data';\n",
              "          await google.colab.output.renderOutput(dataTable, element);\n",
              "          const docLink = document.createElement('div');\n",
              "          docLink.innerHTML = docLinkHtml;\n",
              "          element.appendChild(docLink);\n",
              "        }\n",
              "      </script>\n",
              "    </div>\n",
              "  </div>\n",
              "  "
            ]
          },
          "metadata": {},
          "execution_count": 153
        }
      ]
    },
    {
      "cell_type": "code",
      "source": [
        "#Entreno CV para probar el learning rate mas alto\n",
        "#MEJOR RESULTADO\n",
        "results=xgb.cv(dtrain=data_dmatrix,nfold=10,params={'learning_rate':0.012},num_boost_round=8,metrics='auc',seed=0)\n",
        "results"
      ],
      "metadata": {
        "colab": {
          "base_uri": "https://localhost:8080/",
          "height": 300
        },
        "outputId": "adfe1475-1c42-4373-b8f5-9ba31cb1cf64",
        "id": "s0PFVfDkrs3Q"
      },
      "execution_count": null,
      "outputs": [
        {
          "output_type": "execute_result",
          "data": {
            "text/plain": [
              "   train-auc-mean  train-auc-std  test-auc-mean  test-auc-std\n",
              "0        0.889914       0.000611       0.888289      0.003810\n",
              "1        0.890016       0.000702       0.888450      0.003658\n",
              "2        0.890399       0.000807       0.888919      0.003820\n",
              "3        0.890419       0.000730       0.889007      0.003697\n",
              "4        0.890556       0.000684       0.889146      0.003790\n",
              "5        0.890566       0.000688       0.889187      0.003813\n",
              "6        0.890832       0.000737       0.889434      0.003673\n",
              "7        0.890871       0.000744       0.889533      0.003651"
            ],
            "text/html": [
              "\n",
              "  <div id=\"df-f7dbc089-8274-4746-8a09-da240f3b17d7\">\n",
              "    <div class=\"colab-df-container\">\n",
              "      <div>\n",
              "<style scoped>\n",
              "    .dataframe tbody tr th:only-of-type {\n",
              "        vertical-align: middle;\n",
              "    }\n",
              "\n",
              "    .dataframe tbody tr th {\n",
              "        vertical-align: top;\n",
              "    }\n",
              "\n",
              "    .dataframe thead th {\n",
              "        text-align: right;\n",
              "    }\n",
              "</style>\n",
              "<table border=\"1\" class=\"dataframe\">\n",
              "  <thead>\n",
              "    <tr style=\"text-align: right;\">\n",
              "      <th></th>\n",
              "      <th>train-auc-mean</th>\n",
              "      <th>train-auc-std</th>\n",
              "      <th>test-auc-mean</th>\n",
              "      <th>test-auc-std</th>\n",
              "    </tr>\n",
              "  </thead>\n",
              "  <tbody>\n",
              "    <tr>\n",
              "      <th>0</th>\n",
              "      <td>0.889914</td>\n",
              "      <td>0.000611</td>\n",
              "      <td>0.888289</td>\n",
              "      <td>0.003810</td>\n",
              "    </tr>\n",
              "    <tr>\n",
              "      <th>1</th>\n",
              "      <td>0.890016</td>\n",
              "      <td>0.000702</td>\n",
              "      <td>0.888450</td>\n",
              "      <td>0.003658</td>\n",
              "    </tr>\n",
              "    <tr>\n",
              "      <th>2</th>\n",
              "      <td>0.890399</td>\n",
              "      <td>0.000807</td>\n",
              "      <td>0.888919</td>\n",
              "      <td>0.003820</td>\n",
              "    </tr>\n",
              "    <tr>\n",
              "      <th>3</th>\n",
              "      <td>0.890419</td>\n",
              "      <td>0.000730</td>\n",
              "      <td>0.889007</td>\n",
              "      <td>0.003697</td>\n",
              "    </tr>\n",
              "    <tr>\n",
              "      <th>4</th>\n",
              "      <td>0.890556</td>\n",
              "      <td>0.000684</td>\n",
              "      <td>0.889146</td>\n",
              "      <td>0.003790</td>\n",
              "    </tr>\n",
              "    <tr>\n",
              "      <th>5</th>\n",
              "      <td>0.890566</td>\n",
              "      <td>0.000688</td>\n",
              "      <td>0.889187</td>\n",
              "      <td>0.003813</td>\n",
              "    </tr>\n",
              "    <tr>\n",
              "      <th>6</th>\n",
              "      <td>0.890832</td>\n",
              "      <td>0.000737</td>\n",
              "      <td>0.889434</td>\n",
              "      <td>0.003673</td>\n",
              "    </tr>\n",
              "    <tr>\n",
              "      <th>7</th>\n",
              "      <td>0.890871</td>\n",
              "      <td>0.000744</td>\n",
              "      <td>0.889533</td>\n",
              "      <td>0.003651</td>\n",
              "    </tr>\n",
              "  </tbody>\n",
              "</table>\n",
              "</div>\n",
              "      <button class=\"colab-df-convert\" onclick=\"convertToInteractive('df-f7dbc089-8274-4746-8a09-da240f3b17d7')\"\n",
              "              title=\"Convert this dataframe to an interactive table.\"\n",
              "              style=\"display:none;\">\n",
              "        \n",
              "  <svg xmlns=\"http://www.w3.org/2000/svg\" height=\"24px\"viewBox=\"0 0 24 24\"\n",
              "       width=\"24px\">\n",
              "    <path d=\"M0 0h24v24H0V0z\" fill=\"none\"/>\n",
              "    <path d=\"M18.56 5.44l.94 2.06.94-2.06 2.06-.94-2.06-.94-.94-2.06-.94 2.06-2.06.94zm-11 1L8.5 8.5l.94-2.06 2.06-.94-2.06-.94L8.5 2.5l-.94 2.06-2.06.94zm10 10l.94 2.06.94-2.06 2.06-.94-2.06-.94-.94-2.06-.94 2.06-2.06.94z\"/><path d=\"M17.41 7.96l-1.37-1.37c-.4-.4-.92-.59-1.43-.59-.52 0-1.04.2-1.43.59L10.3 9.45l-7.72 7.72c-.78.78-.78 2.05 0 2.83L4 21.41c.39.39.9.59 1.41.59.51 0 1.02-.2 1.41-.59l7.78-7.78 2.81-2.81c.8-.78.8-2.07 0-2.86zM5.41 20L4 18.59l7.72-7.72 1.47 1.35L5.41 20z\"/>\n",
              "  </svg>\n",
              "      </button>\n",
              "      \n",
              "  <style>\n",
              "    .colab-df-container {\n",
              "      display:flex;\n",
              "      flex-wrap:wrap;\n",
              "      gap: 12px;\n",
              "    }\n",
              "\n",
              "    .colab-df-convert {\n",
              "      background-color: #E8F0FE;\n",
              "      border: none;\n",
              "      border-radius: 50%;\n",
              "      cursor: pointer;\n",
              "      display: none;\n",
              "      fill: #1967D2;\n",
              "      height: 32px;\n",
              "      padding: 0 0 0 0;\n",
              "      width: 32px;\n",
              "    }\n",
              "\n",
              "    .colab-df-convert:hover {\n",
              "      background-color: #E2EBFA;\n",
              "      box-shadow: 0px 1px 2px rgba(60, 64, 67, 0.3), 0px 1px 3px 1px rgba(60, 64, 67, 0.15);\n",
              "      fill: #174EA6;\n",
              "    }\n",
              "\n",
              "    [theme=dark] .colab-df-convert {\n",
              "      background-color: #3B4455;\n",
              "      fill: #D2E3FC;\n",
              "    }\n",
              "\n",
              "    [theme=dark] .colab-df-convert:hover {\n",
              "      background-color: #434B5C;\n",
              "      box-shadow: 0px 1px 3px 1px rgba(0, 0, 0, 0.15);\n",
              "      filter: drop-shadow(0px 1px 2px rgba(0, 0, 0, 0.3));\n",
              "      fill: #FFFFFF;\n",
              "    }\n",
              "  </style>\n",
              "\n",
              "      <script>\n",
              "        const buttonEl =\n",
              "          document.querySelector('#df-f7dbc089-8274-4746-8a09-da240f3b17d7 button.colab-df-convert');\n",
              "        buttonEl.style.display =\n",
              "          google.colab.kernel.accessAllowed ? 'block' : 'none';\n",
              "\n",
              "        async function convertToInteractive(key) {\n",
              "          const element = document.querySelector('#df-f7dbc089-8274-4746-8a09-da240f3b17d7');\n",
              "          const dataTable =\n",
              "            await google.colab.kernel.invokeFunction('convertToInteractive',\n",
              "                                                     [key], {});\n",
              "          if (!dataTable) return;\n",
              "\n",
              "          const docLinkHtml = 'Like what you see? Visit the ' +\n",
              "            '<a target=\"_blank\" href=https://colab.research.google.com/notebooks/data_table.ipynb>data table notebook</a>'\n",
              "            + ' to learn more about interactive tables.';\n",
              "          element.innerHTML = '';\n",
              "          dataTable['output_type'] = 'display_data';\n",
              "          await google.colab.output.renderOutput(dataTable, element);\n",
              "          const docLink = document.createElement('div');\n",
              "          docLink.innerHTML = docLinkHtml;\n",
              "          element.appendChild(docLink);\n",
              "        }\n",
              "      </script>\n",
              "    </div>\n",
              "  </div>\n",
              "  "
            ]
          },
          "metadata": {},
          "execution_count": 159
        }
      ]
    },
    {
      "cell_type": "code",
      "source": [
        "#Entreno CV para probar el learning rate mas alto\n",
        "results=xgb.cv(dtrain=data_dmatrix,nfold=10,params={'learning_rate':0.0125},num_boost_round=8,metrics='auc',seed=0)\n",
        "results"
      ],
      "metadata": {
        "colab": {
          "base_uri": "https://localhost:8080/",
          "height": 300
        },
        "outputId": "68fc03e6-e85f-4ae8-8242-7b17e8c8688f",
        "id": "J3hgZUJ2sCU9"
      },
      "execution_count": null,
      "outputs": [
        {
          "output_type": "execute_result",
          "data": {
            "text/plain": [
              "   train-auc-mean  train-auc-std  test-auc-mean  test-auc-std\n",
              "0        0.889914       0.000611       0.888289      0.003810\n",
              "1        0.890016       0.000702       0.888450      0.003658\n",
              "2        0.890415       0.000806       0.888909      0.003812\n",
              "3        0.890422       0.000731       0.889020      0.003713\n",
              "4        0.890564       0.000685       0.889149      0.003793\n",
              "5        0.890729       0.000766       0.889325      0.003700\n",
              "6        0.890826       0.000727       0.889445      0.003673\n",
              "7        0.890896       0.000762       0.889506      0.003650"
            ],
            "text/html": [
              "\n",
              "  <div id=\"df-3d4b3fe8-2b57-4d72-922b-60a3c319982c\">\n",
              "    <div class=\"colab-df-container\">\n",
              "      <div>\n",
              "<style scoped>\n",
              "    .dataframe tbody tr th:only-of-type {\n",
              "        vertical-align: middle;\n",
              "    }\n",
              "\n",
              "    .dataframe tbody tr th {\n",
              "        vertical-align: top;\n",
              "    }\n",
              "\n",
              "    .dataframe thead th {\n",
              "        text-align: right;\n",
              "    }\n",
              "</style>\n",
              "<table border=\"1\" class=\"dataframe\">\n",
              "  <thead>\n",
              "    <tr style=\"text-align: right;\">\n",
              "      <th></th>\n",
              "      <th>train-auc-mean</th>\n",
              "      <th>train-auc-std</th>\n",
              "      <th>test-auc-mean</th>\n",
              "      <th>test-auc-std</th>\n",
              "    </tr>\n",
              "  </thead>\n",
              "  <tbody>\n",
              "    <tr>\n",
              "      <th>0</th>\n",
              "      <td>0.889914</td>\n",
              "      <td>0.000611</td>\n",
              "      <td>0.888289</td>\n",
              "      <td>0.003810</td>\n",
              "    </tr>\n",
              "    <tr>\n",
              "      <th>1</th>\n",
              "      <td>0.890016</td>\n",
              "      <td>0.000702</td>\n",
              "      <td>0.888450</td>\n",
              "      <td>0.003658</td>\n",
              "    </tr>\n",
              "    <tr>\n",
              "      <th>2</th>\n",
              "      <td>0.890415</td>\n",
              "      <td>0.000806</td>\n",
              "      <td>0.888909</td>\n",
              "      <td>0.003812</td>\n",
              "    </tr>\n",
              "    <tr>\n",
              "      <th>3</th>\n",
              "      <td>0.890422</td>\n",
              "      <td>0.000731</td>\n",
              "      <td>0.889020</td>\n",
              "      <td>0.003713</td>\n",
              "    </tr>\n",
              "    <tr>\n",
              "      <th>4</th>\n",
              "      <td>0.890564</td>\n",
              "      <td>0.000685</td>\n",
              "      <td>0.889149</td>\n",
              "      <td>0.003793</td>\n",
              "    </tr>\n",
              "    <tr>\n",
              "      <th>5</th>\n",
              "      <td>0.890729</td>\n",
              "      <td>0.000766</td>\n",
              "      <td>0.889325</td>\n",
              "      <td>0.003700</td>\n",
              "    </tr>\n",
              "    <tr>\n",
              "      <th>6</th>\n",
              "      <td>0.890826</td>\n",
              "      <td>0.000727</td>\n",
              "      <td>0.889445</td>\n",
              "      <td>0.003673</td>\n",
              "    </tr>\n",
              "    <tr>\n",
              "      <th>7</th>\n",
              "      <td>0.890896</td>\n",
              "      <td>0.000762</td>\n",
              "      <td>0.889506</td>\n",
              "      <td>0.003650</td>\n",
              "    </tr>\n",
              "  </tbody>\n",
              "</table>\n",
              "</div>\n",
              "      <button class=\"colab-df-convert\" onclick=\"convertToInteractive('df-3d4b3fe8-2b57-4d72-922b-60a3c319982c')\"\n",
              "              title=\"Convert this dataframe to an interactive table.\"\n",
              "              style=\"display:none;\">\n",
              "        \n",
              "  <svg xmlns=\"http://www.w3.org/2000/svg\" height=\"24px\"viewBox=\"0 0 24 24\"\n",
              "       width=\"24px\">\n",
              "    <path d=\"M0 0h24v24H0V0z\" fill=\"none\"/>\n",
              "    <path d=\"M18.56 5.44l.94 2.06.94-2.06 2.06-.94-2.06-.94-.94-2.06-.94 2.06-2.06.94zm-11 1L8.5 8.5l.94-2.06 2.06-.94-2.06-.94L8.5 2.5l-.94 2.06-2.06.94zm10 10l.94 2.06.94-2.06 2.06-.94-2.06-.94-.94-2.06-.94 2.06-2.06.94z\"/><path d=\"M17.41 7.96l-1.37-1.37c-.4-.4-.92-.59-1.43-.59-.52 0-1.04.2-1.43.59L10.3 9.45l-7.72 7.72c-.78.78-.78 2.05 0 2.83L4 21.41c.39.39.9.59 1.41.59.51 0 1.02-.2 1.41-.59l7.78-7.78 2.81-2.81c.8-.78.8-2.07 0-2.86zM5.41 20L4 18.59l7.72-7.72 1.47 1.35L5.41 20z\"/>\n",
              "  </svg>\n",
              "      </button>\n",
              "      \n",
              "  <style>\n",
              "    .colab-df-container {\n",
              "      display:flex;\n",
              "      flex-wrap:wrap;\n",
              "      gap: 12px;\n",
              "    }\n",
              "\n",
              "    .colab-df-convert {\n",
              "      background-color: #E8F0FE;\n",
              "      border: none;\n",
              "      border-radius: 50%;\n",
              "      cursor: pointer;\n",
              "      display: none;\n",
              "      fill: #1967D2;\n",
              "      height: 32px;\n",
              "      padding: 0 0 0 0;\n",
              "      width: 32px;\n",
              "    }\n",
              "\n",
              "    .colab-df-convert:hover {\n",
              "      background-color: #E2EBFA;\n",
              "      box-shadow: 0px 1px 2px rgba(60, 64, 67, 0.3), 0px 1px 3px 1px rgba(60, 64, 67, 0.15);\n",
              "      fill: #174EA6;\n",
              "    }\n",
              "\n",
              "    [theme=dark] .colab-df-convert {\n",
              "      background-color: #3B4455;\n",
              "      fill: #D2E3FC;\n",
              "    }\n",
              "\n",
              "    [theme=dark] .colab-df-convert:hover {\n",
              "      background-color: #434B5C;\n",
              "      box-shadow: 0px 1px 3px 1px rgba(0, 0, 0, 0.15);\n",
              "      filter: drop-shadow(0px 1px 2px rgba(0, 0, 0, 0.3));\n",
              "      fill: #FFFFFF;\n",
              "    }\n",
              "  </style>\n",
              "\n",
              "      <script>\n",
              "        const buttonEl =\n",
              "          document.querySelector('#df-3d4b3fe8-2b57-4d72-922b-60a3c319982c button.colab-df-convert');\n",
              "        buttonEl.style.display =\n",
              "          google.colab.kernel.accessAllowed ? 'block' : 'none';\n",
              "\n",
              "        async function convertToInteractive(key) {\n",
              "          const element = document.querySelector('#df-3d4b3fe8-2b57-4d72-922b-60a3c319982c');\n",
              "          const dataTable =\n",
              "            await google.colab.kernel.invokeFunction('convertToInteractive',\n",
              "                                                     [key], {});\n",
              "          if (!dataTable) return;\n",
              "\n",
              "          const docLinkHtml = 'Like what you see? Visit the ' +\n",
              "            '<a target=\"_blank\" href=https://colab.research.google.com/notebooks/data_table.ipynb>data table notebook</a>'\n",
              "            + ' to learn more about interactive tables.';\n",
              "          element.innerHTML = '';\n",
              "          dataTable['output_type'] = 'display_data';\n",
              "          await google.colab.output.renderOutput(dataTable, element);\n",
              "          const docLink = document.createElement('div');\n",
              "          docLink.innerHTML = docLinkHtml;\n",
              "          element.appendChild(docLink);\n",
              "        }\n",
              "      </script>\n",
              "    </div>\n",
              "  </div>\n",
              "  "
            ]
          },
          "metadata": {},
          "execution_count": 160
        }
      ]
    },
    {
      "cell_type": "code",
      "source": [
        "#NOS PASAMOS\n",
        "#Entreno CV para probar el learning rate mas alto\n",
        "results=xgb.cv(dtrain=data_dmatrix,nfold=10,params={'learning_rate':0.015},num_boost_round=8,metrics='auc',seed=0)\n",
        "results"
      ],
      "metadata": {
        "colab": {
          "base_uri": "https://localhost:8080/",
          "height": 300
        },
        "outputId": "587537d1-afd0-4924-bf76-ffb8d758cd53",
        "id": "ZrHYkESHr4zg"
      },
      "execution_count": null,
      "outputs": [
        {
          "output_type": "execute_result",
          "data": {
            "text/plain": [
              "   train-auc-mean  train-auc-std  test-auc-mean  test-auc-std\n",
              "0        0.889914       0.000611       0.888289      0.003810\n",
              "1        0.890251       0.000674       0.888648      0.003822\n",
              "2        0.890418       0.000798       0.888910      0.003814\n",
              "3        0.890412       0.000714       0.888985      0.003750\n",
              "4        0.890542       0.000668       0.889121      0.003833\n",
              "5        0.890784       0.000723       0.889408      0.003670\n",
              "6        0.890996       0.000828       0.889538      0.003614\n",
              "7        0.891212       0.000512       0.889823      0.004160"
            ],
            "text/html": [
              "\n",
              "  <div id=\"df-5062a0e4-4a43-4c20-adb1-b35a57682f7f\">\n",
              "    <div class=\"colab-df-container\">\n",
              "      <div>\n",
              "<style scoped>\n",
              "    .dataframe tbody tr th:only-of-type {\n",
              "        vertical-align: middle;\n",
              "    }\n",
              "\n",
              "    .dataframe tbody tr th {\n",
              "        vertical-align: top;\n",
              "    }\n",
              "\n",
              "    .dataframe thead th {\n",
              "        text-align: right;\n",
              "    }\n",
              "</style>\n",
              "<table border=\"1\" class=\"dataframe\">\n",
              "  <thead>\n",
              "    <tr style=\"text-align: right;\">\n",
              "      <th></th>\n",
              "      <th>train-auc-mean</th>\n",
              "      <th>train-auc-std</th>\n",
              "      <th>test-auc-mean</th>\n",
              "      <th>test-auc-std</th>\n",
              "    </tr>\n",
              "  </thead>\n",
              "  <tbody>\n",
              "    <tr>\n",
              "      <th>0</th>\n",
              "      <td>0.889914</td>\n",
              "      <td>0.000611</td>\n",
              "      <td>0.888289</td>\n",
              "      <td>0.003810</td>\n",
              "    </tr>\n",
              "    <tr>\n",
              "      <th>1</th>\n",
              "      <td>0.890251</td>\n",
              "      <td>0.000674</td>\n",
              "      <td>0.888648</td>\n",
              "      <td>0.003822</td>\n",
              "    </tr>\n",
              "    <tr>\n",
              "      <th>2</th>\n",
              "      <td>0.890418</td>\n",
              "      <td>0.000798</td>\n",
              "      <td>0.888910</td>\n",
              "      <td>0.003814</td>\n",
              "    </tr>\n",
              "    <tr>\n",
              "      <th>3</th>\n",
              "      <td>0.890412</td>\n",
              "      <td>0.000714</td>\n",
              "      <td>0.888985</td>\n",
              "      <td>0.003750</td>\n",
              "    </tr>\n",
              "    <tr>\n",
              "      <th>4</th>\n",
              "      <td>0.890542</td>\n",
              "      <td>0.000668</td>\n",
              "      <td>0.889121</td>\n",
              "      <td>0.003833</td>\n",
              "    </tr>\n",
              "    <tr>\n",
              "      <th>5</th>\n",
              "      <td>0.890784</td>\n",
              "      <td>0.000723</td>\n",
              "      <td>0.889408</td>\n",
              "      <td>0.003670</td>\n",
              "    </tr>\n",
              "    <tr>\n",
              "      <th>6</th>\n",
              "      <td>0.890996</td>\n",
              "      <td>0.000828</td>\n",
              "      <td>0.889538</td>\n",
              "      <td>0.003614</td>\n",
              "    </tr>\n",
              "    <tr>\n",
              "      <th>7</th>\n",
              "      <td>0.891212</td>\n",
              "      <td>0.000512</td>\n",
              "      <td>0.889823</td>\n",
              "      <td>0.004160</td>\n",
              "    </tr>\n",
              "  </tbody>\n",
              "</table>\n",
              "</div>\n",
              "      <button class=\"colab-df-convert\" onclick=\"convertToInteractive('df-5062a0e4-4a43-4c20-adb1-b35a57682f7f')\"\n",
              "              title=\"Convert this dataframe to an interactive table.\"\n",
              "              style=\"display:none;\">\n",
              "        \n",
              "  <svg xmlns=\"http://www.w3.org/2000/svg\" height=\"24px\"viewBox=\"0 0 24 24\"\n",
              "       width=\"24px\">\n",
              "    <path d=\"M0 0h24v24H0V0z\" fill=\"none\"/>\n",
              "    <path d=\"M18.56 5.44l.94 2.06.94-2.06 2.06-.94-2.06-.94-.94-2.06-.94 2.06-2.06.94zm-11 1L8.5 8.5l.94-2.06 2.06-.94-2.06-.94L8.5 2.5l-.94 2.06-2.06.94zm10 10l.94 2.06.94-2.06 2.06-.94-2.06-.94-.94-2.06-.94 2.06-2.06.94z\"/><path d=\"M17.41 7.96l-1.37-1.37c-.4-.4-.92-.59-1.43-.59-.52 0-1.04.2-1.43.59L10.3 9.45l-7.72 7.72c-.78.78-.78 2.05 0 2.83L4 21.41c.39.39.9.59 1.41.59.51 0 1.02-.2 1.41-.59l7.78-7.78 2.81-2.81c.8-.78.8-2.07 0-2.86zM5.41 20L4 18.59l7.72-7.72 1.47 1.35L5.41 20z\"/>\n",
              "  </svg>\n",
              "      </button>\n",
              "      \n",
              "  <style>\n",
              "    .colab-df-container {\n",
              "      display:flex;\n",
              "      flex-wrap:wrap;\n",
              "      gap: 12px;\n",
              "    }\n",
              "\n",
              "    .colab-df-convert {\n",
              "      background-color: #E8F0FE;\n",
              "      border: none;\n",
              "      border-radius: 50%;\n",
              "      cursor: pointer;\n",
              "      display: none;\n",
              "      fill: #1967D2;\n",
              "      height: 32px;\n",
              "      padding: 0 0 0 0;\n",
              "      width: 32px;\n",
              "    }\n",
              "\n",
              "    .colab-df-convert:hover {\n",
              "      background-color: #E2EBFA;\n",
              "      box-shadow: 0px 1px 2px rgba(60, 64, 67, 0.3), 0px 1px 3px 1px rgba(60, 64, 67, 0.15);\n",
              "      fill: #174EA6;\n",
              "    }\n",
              "\n",
              "    [theme=dark] .colab-df-convert {\n",
              "      background-color: #3B4455;\n",
              "      fill: #D2E3FC;\n",
              "    }\n",
              "\n",
              "    [theme=dark] .colab-df-convert:hover {\n",
              "      background-color: #434B5C;\n",
              "      box-shadow: 0px 1px 3px 1px rgba(0, 0, 0, 0.15);\n",
              "      filter: drop-shadow(0px 1px 2px rgba(0, 0, 0, 0.3));\n",
              "      fill: #FFFFFF;\n",
              "    }\n",
              "  </style>\n",
              "\n",
              "      <script>\n",
              "        const buttonEl =\n",
              "          document.querySelector('#df-5062a0e4-4a43-4c20-adb1-b35a57682f7f button.colab-df-convert');\n",
              "        buttonEl.style.display =\n",
              "          google.colab.kernel.accessAllowed ? 'block' : 'none';\n",
              "\n",
              "        async function convertToInteractive(key) {\n",
              "          const element = document.querySelector('#df-5062a0e4-4a43-4c20-adb1-b35a57682f7f');\n",
              "          const dataTable =\n",
              "            await google.colab.kernel.invokeFunction('convertToInteractive',\n",
              "                                                     [key], {});\n",
              "          if (!dataTable) return;\n",
              "\n",
              "          const docLinkHtml = 'Like what you see? Visit the ' +\n",
              "            '<a target=\"_blank\" href=https://colab.research.google.com/notebooks/data_table.ipynb>data table notebook</a>'\n",
              "            + ' to learn more about interactive tables.';\n",
              "          element.innerHTML = '';\n",
              "          dataTable['output_type'] = 'display_data';\n",
              "          await google.colab.output.renderOutput(dataTable, element);\n",
              "          const docLink = document.createElement('div');\n",
              "          docLink.innerHTML = docLinkHtml;\n",
              "          element.appendChild(docLink);\n",
              "        }\n",
              "      </script>\n",
              "    </div>\n",
              "  </div>\n",
              "  "
            ]
          },
          "metadata": {},
          "execution_count": 155
        }
      ]
    },
    {
      "cell_type": "code",
      "source": [
        "#NOS PASAMOS\n",
        "#Entreno CV para probar el learning rate mas alto\n",
        "results=xgb.cv(dtrain=data_dmatrix,nfold=10,params={'learning_rate':0.02},num_boost_round=8,metrics='auc',seed=0)\n",
        "#, 0.001, 0.01, 0.1, 0.2, 0.3\n",
        "results"
      ],
      "metadata": {
        "colab": {
          "base_uri": "https://localhost:8080/",
          "height": 300
        },
        "id": "WKoE8dUSqE74",
        "outputId": "ab658c5d-b4c6-4533-a02b-56f7d778bc0f"
      },
      "execution_count": null,
      "outputs": [
        {
          "output_type": "execute_result",
          "data": {
            "text/plain": [
              "   train-auc-mean  train-auc-std  test-auc-mean  test-auc-std\n",
              "0        0.889914       0.000611       0.888289      0.003810\n",
              "1        0.890327       0.000735       0.888885      0.003790\n",
              "2        0.890458       0.000778       0.888994      0.003686\n",
              "3        0.890560       0.000677       0.889210      0.003821\n",
              "4        0.890880       0.000743       0.889436      0.003612\n",
              "5        0.891184       0.000515       0.889783      0.004097\n",
              "6        0.891247       0.000529       0.889798      0.004115\n",
              "7        0.892243       0.000901       0.890682      0.004395"
            ],
            "text/html": [
              "\n",
              "  <div id=\"df-cf318f8c-362d-4b7e-8a21-8435c271c223\">\n",
              "    <div class=\"colab-df-container\">\n",
              "      <div>\n",
              "<style scoped>\n",
              "    .dataframe tbody tr th:only-of-type {\n",
              "        vertical-align: middle;\n",
              "    }\n",
              "\n",
              "    .dataframe tbody tr th {\n",
              "        vertical-align: top;\n",
              "    }\n",
              "\n",
              "    .dataframe thead th {\n",
              "        text-align: right;\n",
              "    }\n",
              "</style>\n",
              "<table border=\"1\" class=\"dataframe\">\n",
              "  <thead>\n",
              "    <tr style=\"text-align: right;\">\n",
              "      <th></th>\n",
              "      <th>train-auc-mean</th>\n",
              "      <th>train-auc-std</th>\n",
              "      <th>test-auc-mean</th>\n",
              "      <th>test-auc-std</th>\n",
              "    </tr>\n",
              "  </thead>\n",
              "  <tbody>\n",
              "    <tr>\n",
              "      <th>0</th>\n",
              "      <td>0.889914</td>\n",
              "      <td>0.000611</td>\n",
              "      <td>0.888289</td>\n",
              "      <td>0.003810</td>\n",
              "    </tr>\n",
              "    <tr>\n",
              "      <th>1</th>\n",
              "      <td>0.890327</td>\n",
              "      <td>0.000735</td>\n",
              "      <td>0.888885</td>\n",
              "      <td>0.003790</td>\n",
              "    </tr>\n",
              "    <tr>\n",
              "      <th>2</th>\n",
              "      <td>0.890458</td>\n",
              "      <td>0.000778</td>\n",
              "      <td>0.888994</td>\n",
              "      <td>0.003686</td>\n",
              "    </tr>\n",
              "    <tr>\n",
              "      <th>3</th>\n",
              "      <td>0.890560</td>\n",
              "      <td>0.000677</td>\n",
              "      <td>0.889210</td>\n",
              "      <td>0.003821</td>\n",
              "    </tr>\n",
              "    <tr>\n",
              "      <th>4</th>\n",
              "      <td>0.890880</td>\n",
              "      <td>0.000743</td>\n",
              "      <td>0.889436</td>\n",
              "      <td>0.003612</td>\n",
              "    </tr>\n",
              "    <tr>\n",
              "      <th>5</th>\n",
              "      <td>0.891184</td>\n",
              "      <td>0.000515</td>\n",
              "      <td>0.889783</td>\n",
              "      <td>0.004097</td>\n",
              "    </tr>\n",
              "    <tr>\n",
              "      <th>6</th>\n",
              "      <td>0.891247</td>\n",
              "      <td>0.000529</td>\n",
              "      <td>0.889798</td>\n",
              "      <td>0.004115</td>\n",
              "    </tr>\n",
              "    <tr>\n",
              "      <th>7</th>\n",
              "      <td>0.892243</td>\n",
              "      <td>0.000901</td>\n",
              "      <td>0.890682</td>\n",
              "      <td>0.004395</td>\n",
              "    </tr>\n",
              "  </tbody>\n",
              "</table>\n",
              "</div>\n",
              "      <button class=\"colab-df-convert\" onclick=\"convertToInteractive('df-cf318f8c-362d-4b7e-8a21-8435c271c223')\"\n",
              "              title=\"Convert this dataframe to an interactive table.\"\n",
              "              style=\"display:none;\">\n",
              "        \n",
              "  <svg xmlns=\"http://www.w3.org/2000/svg\" height=\"24px\"viewBox=\"0 0 24 24\"\n",
              "       width=\"24px\">\n",
              "    <path d=\"M0 0h24v24H0V0z\" fill=\"none\"/>\n",
              "    <path d=\"M18.56 5.44l.94 2.06.94-2.06 2.06-.94-2.06-.94-.94-2.06-.94 2.06-2.06.94zm-11 1L8.5 8.5l.94-2.06 2.06-.94-2.06-.94L8.5 2.5l-.94 2.06-2.06.94zm10 10l.94 2.06.94-2.06 2.06-.94-2.06-.94-.94-2.06-.94 2.06-2.06.94z\"/><path d=\"M17.41 7.96l-1.37-1.37c-.4-.4-.92-.59-1.43-.59-.52 0-1.04.2-1.43.59L10.3 9.45l-7.72 7.72c-.78.78-.78 2.05 0 2.83L4 21.41c.39.39.9.59 1.41.59.51 0 1.02-.2 1.41-.59l7.78-7.78 2.81-2.81c.8-.78.8-2.07 0-2.86zM5.41 20L4 18.59l7.72-7.72 1.47 1.35L5.41 20z\"/>\n",
              "  </svg>\n",
              "      </button>\n",
              "      \n",
              "  <style>\n",
              "    .colab-df-container {\n",
              "      display:flex;\n",
              "      flex-wrap:wrap;\n",
              "      gap: 12px;\n",
              "    }\n",
              "\n",
              "    .colab-df-convert {\n",
              "      background-color: #E8F0FE;\n",
              "      border: none;\n",
              "      border-radius: 50%;\n",
              "      cursor: pointer;\n",
              "      display: none;\n",
              "      fill: #1967D2;\n",
              "      height: 32px;\n",
              "      padding: 0 0 0 0;\n",
              "      width: 32px;\n",
              "    }\n",
              "\n",
              "    .colab-df-convert:hover {\n",
              "      background-color: #E2EBFA;\n",
              "      box-shadow: 0px 1px 2px rgba(60, 64, 67, 0.3), 0px 1px 3px 1px rgba(60, 64, 67, 0.15);\n",
              "      fill: #174EA6;\n",
              "    }\n",
              "\n",
              "    [theme=dark] .colab-df-convert {\n",
              "      background-color: #3B4455;\n",
              "      fill: #D2E3FC;\n",
              "    }\n",
              "\n",
              "    [theme=dark] .colab-df-convert:hover {\n",
              "      background-color: #434B5C;\n",
              "      box-shadow: 0px 1px 3px 1px rgba(0, 0, 0, 0.15);\n",
              "      filter: drop-shadow(0px 1px 2px rgba(0, 0, 0, 0.3));\n",
              "      fill: #FFFFFF;\n",
              "    }\n",
              "  </style>\n",
              "\n",
              "      <script>\n",
              "        const buttonEl =\n",
              "          document.querySelector('#df-cf318f8c-362d-4b7e-8a21-8435c271c223 button.colab-df-convert');\n",
              "        buttonEl.style.display =\n",
              "          google.colab.kernel.accessAllowed ? 'block' : 'none';\n",
              "\n",
              "        async function convertToInteractive(key) {\n",
              "          const element = document.querySelector('#df-cf318f8c-362d-4b7e-8a21-8435c271c223');\n",
              "          const dataTable =\n",
              "            await google.colab.kernel.invokeFunction('convertToInteractive',\n",
              "                                                     [key], {});\n",
              "          if (!dataTable) return;\n",
              "\n",
              "          const docLinkHtml = 'Like what you see? Visit the ' +\n",
              "            '<a target=\"_blank\" href=https://colab.research.google.com/notebooks/data_table.ipynb>data table notebook</a>'\n",
              "            + ' to learn more about interactive tables.';\n",
              "          element.innerHTML = '';\n",
              "          dataTable['output_type'] = 'display_data';\n",
              "          await google.colab.output.renderOutput(dataTable, element);\n",
              "          const docLink = document.createElement('div');\n",
              "          docLink.innerHTML = docLinkHtml;\n",
              "          element.appendChild(docLink);\n",
              "        }\n",
              "      </script>\n",
              "    </div>\n",
              "  </div>\n",
              "  "
            ]
          },
          "metadata": {},
          "execution_count": 148
        }
      ]
    },
    {
      "cell_type": "code",
      "source": [
        "#Entreno CV para probar el learning rate mas alto\n",
        "results=xgb.cv(dtrain=data_dmatrix,nfold=10,params={'learning_rate':0.03},num_boost_round=8,metrics='auc',seed=0)\n",
        "#, 0.001, 0.01, 0.1, 0.2, 0.3\n",
        "results"
      ],
      "metadata": {
        "colab": {
          "base_uri": "https://localhost:8080/",
          "height": 300
        },
        "outputId": "de37111f-8e34-4234-98fe-50069f5559c2",
        "id": "Vt03WPS5qNHV"
      },
      "execution_count": null,
      "outputs": [
        {
          "output_type": "execute_result",
          "data": {
            "text/plain": [
              "   train-auc-mean  train-auc-std  test-auc-mean  test-auc-std\n",
              "0        0.889914       0.000611       0.888289      0.003810\n",
              "1        0.890391       0.000777       0.888887      0.003810\n",
              "2        0.890537       0.000657       0.889114      0.003830\n",
              "3        0.891085       0.000850       0.889528      0.003673\n",
              "4        0.891302       0.000513       0.889794      0.004188\n",
              "5        0.892767       0.001188       0.891252      0.004847\n",
              "6        0.895342       0.001368       0.893877      0.004884\n",
              "7        0.896440       0.000910       0.894948      0.005021"
            ],
            "text/html": [
              "\n",
              "  <div id=\"df-fc10de9d-5565-409c-aeab-affaa8c53d2c\">\n",
              "    <div class=\"colab-df-container\">\n",
              "      <div>\n",
              "<style scoped>\n",
              "    .dataframe tbody tr th:only-of-type {\n",
              "        vertical-align: middle;\n",
              "    }\n",
              "\n",
              "    .dataframe tbody tr th {\n",
              "        vertical-align: top;\n",
              "    }\n",
              "\n",
              "    .dataframe thead th {\n",
              "        text-align: right;\n",
              "    }\n",
              "</style>\n",
              "<table border=\"1\" class=\"dataframe\">\n",
              "  <thead>\n",
              "    <tr style=\"text-align: right;\">\n",
              "      <th></th>\n",
              "      <th>train-auc-mean</th>\n",
              "      <th>train-auc-std</th>\n",
              "      <th>test-auc-mean</th>\n",
              "      <th>test-auc-std</th>\n",
              "    </tr>\n",
              "  </thead>\n",
              "  <tbody>\n",
              "    <tr>\n",
              "      <th>0</th>\n",
              "      <td>0.889914</td>\n",
              "      <td>0.000611</td>\n",
              "      <td>0.888289</td>\n",
              "      <td>0.003810</td>\n",
              "    </tr>\n",
              "    <tr>\n",
              "      <th>1</th>\n",
              "      <td>0.890391</td>\n",
              "      <td>0.000777</td>\n",
              "      <td>0.888887</td>\n",
              "      <td>0.003810</td>\n",
              "    </tr>\n",
              "    <tr>\n",
              "      <th>2</th>\n",
              "      <td>0.890537</td>\n",
              "      <td>0.000657</td>\n",
              "      <td>0.889114</td>\n",
              "      <td>0.003830</td>\n",
              "    </tr>\n",
              "    <tr>\n",
              "      <th>3</th>\n",
              "      <td>0.891085</td>\n",
              "      <td>0.000850</td>\n",
              "      <td>0.889528</td>\n",
              "      <td>0.003673</td>\n",
              "    </tr>\n",
              "    <tr>\n",
              "      <th>4</th>\n",
              "      <td>0.891302</td>\n",
              "      <td>0.000513</td>\n",
              "      <td>0.889794</td>\n",
              "      <td>0.004188</td>\n",
              "    </tr>\n",
              "    <tr>\n",
              "      <th>5</th>\n",
              "      <td>0.892767</td>\n",
              "      <td>0.001188</td>\n",
              "      <td>0.891252</td>\n",
              "      <td>0.004847</td>\n",
              "    </tr>\n",
              "    <tr>\n",
              "      <th>6</th>\n",
              "      <td>0.895342</td>\n",
              "      <td>0.001368</td>\n",
              "      <td>0.893877</td>\n",
              "      <td>0.004884</td>\n",
              "    </tr>\n",
              "    <tr>\n",
              "      <th>7</th>\n",
              "      <td>0.896440</td>\n",
              "      <td>0.000910</td>\n",
              "      <td>0.894948</td>\n",
              "      <td>0.005021</td>\n",
              "    </tr>\n",
              "  </tbody>\n",
              "</table>\n",
              "</div>\n",
              "      <button class=\"colab-df-convert\" onclick=\"convertToInteractive('df-fc10de9d-5565-409c-aeab-affaa8c53d2c')\"\n",
              "              title=\"Convert this dataframe to an interactive table.\"\n",
              "              style=\"display:none;\">\n",
              "        \n",
              "  <svg xmlns=\"http://www.w3.org/2000/svg\" height=\"24px\"viewBox=\"0 0 24 24\"\n",
              "       width=\"24px\">\n",
              "    <path d=\"M0 0h24v24H0V0z\" fill=\"none\"/>\n",
              "    <path d=\"M18.56 5.44l.94 2.06.94-2.06 2.06-.94-2.06-.94-.94-2.06-.94 2.06-2.06.94zm-11 1L8.5 8.5l.94-2.06 2.06-.94-2.06-.94L8.5 2.5l-.94 2.06-2.06.94zm10 10l.94 2.06.94-2.06 2.06-.94-2.06-.94-.94-2.06-.94 2.06-2.06.94z\"/><path d=\"M17.41 7.96l-1.37-1.37c-.4-.4-.92-.59-1.43-.59-.52 0-1.04.2-1.43.59L10.3 9.45l-7.72 7.72c-.78.78-.78 2.05 0 2.83L4 21.41c.39.39.9.59 1.41.59.51 0 1.02-.2 1.41-.59l7.78-7.78 2.81-2.81c.8-.78.8-2.07 0-2.86zM5.41 20L4 18.59l7.72-7.72 1.47 1.35L5.41 20z\"/>\n",
              "  </svg>\n",
              "      </button>\n",
              "      \n",
              "  <style>\n",
              "    .colab-df-container {\n",
              "      display:flex;\n",
              "      flex-wrap:wrap;\n",
              "      gap: 12px;\n",
              "    }\n",
              "\n",
              "    .colab-df-convert {\n",
              "      background-color: #E8F0FE;\n",
              "      border: none;\n",
              "      border-radius: 50%;\n",
              "      cursor: pointer;\n",
              "      display: none;\n",
              "      fill: #1967D2;\n",
              "      height: 32px;\n",
              "      padding: 0 0 0 0;\n",
              "      width: 32px;\n",
              "    }\n",
              "\n",
              "    .colab-df-convert:hover {\n",
              "      background-color: #E2EBFA;\n",
              "      box-shadow: 0px 1px 2px rgba(60, 64, 67, 0.3), 0px 1px 3px 1px rgba(60, 64, 67, 0.15);\n",
              "      fill: #174EA6;\n",
              "    }\n",
              "\n",
              "    [theme=dark] .colab-df-convert {\n",
              "      background-color: #3B4455;\n",
              "      fill: #D2E3FC;\n",
              "    }\n",
              "\n",
              "    [theme=dark] .colab-df-convert:hover {\n",
              "      background-color: #434B5C;\n",
              "      box-shadow: 0px 1px 3px 1px rgba(0, 0, 0, 0.15);\n",
              "      filter: drop-shadow(0px 1px 2px rgba(0, 0, 0, 0.3));\n",
              "      fill: #FFFFFF;\n",
              "    }\n",
              "  </style>\n",
              "\n",
              "      <script>\n",
              "        const buttonEl =\n",
              "          document.querySelector('#df-fc10de9d-5565-409c-aeab-affaa8c53d2c button.colab-df-convert');\n",
              "        buttonEl.style.display =\n",
              "          google.colab.kernel.accessAllowed ? 'block' : 'none';\n",
              "\n",
              "        async function convertToInteractive(key) {\n",
              "          const element = document.querySelector('#df-fc10de9d-5565-409c-aeab-affaa8c53d2c');\n",
              "          const dataTable =\n",
              "            await google.colab.kernel.invokeFunction('convertToInteractive',\n",
              "                                                     [key], {});\n",
              "          if (!dataTable) return;\n",
              "\n",
              "          const docLinkHtml = 'Like what you see? Visit the ' +\n",
              "            '<a target=\"_blank\" href=https://colab.research.google.com/notebooks/data_table.ipynb>data table notebook</a>'\n",
              "            + ' to learn more about interactive tables.';\n",
              "          element.innerHTML = '';\n",
              "          dataTable['output_type'] = 'display_data';\n",
              "          await google.colab.output.renderOutput(dataTable, element);\n",
              "          const docLink = document.createElement('div');\n",
              "          docLink.innerHTML = docLinkHtml;\n",
              "          element.appendChild(docLink);\n",
              "        }\n",
              "      </script>\n",
              "    </div>\n",
              "  </div>\n",
              "  "
            ]
          },
          "metadata": {},
          "execution_count": 149
        }
      ]
    },
    {
      "cell_type": "code",
      "source": [
        "#Entreno CV para probar el learning rate mas alto\n",
        "results=xgb.cv(dtrain=data_dmatrix,nfold=10,params={'learning_rate':0.04},num_boost_round=8,metrics='auc',seed=0)\n",
        "#, 0.001, 0.01, 0.1, 0.2, 0.3\n",
        "results"
      ],
      "metadata": {
        "colab": {
          "base_uri": "https://localhost:8080/",
          "height": 300
        },
        "outputId": "097495cb-6b3e-4e2d-d89f-9ff15095db7e",
        "id": "j2yKBiJTqSkn"
      },
      "execution_count": null,
      "outputs": [
        {
          "output_type": "execute_result",
          "data": {
            "text/plain": [
              "   train-auc-mean  train-auc-std  test-auc-mean  test-auc-std\n",
              "0        0.889914       0.000611       0.888289      0.003810\n",
              "1        0.890482       0.000777       0.889024      0.003668\n",
              "2        0.890815       0.000716       0.889360      0.003648\n",
              "3        0.891384       0.000498       0.890001      0.004183\n",
              "4        0.894067       0.001443       0.892421      0.005556\n",
              "5        0.896039       0.001159       0.894598      0.004648\n",
              "6        0.897323       0.001537       0.895815      0.005137\n",
              "7        0.897660       0.001622       0.895838      0.004701"
            ],
            "text/html": [
              "\n",
              "  <div id=\"df-fc38e813-f1bd-4d4a-a05f-b03d295a0936\">\n",
              "    <div class=\"colab-df-container\">\n",
              "      <div>\n",
              "<style scoped>\n",
              "    .dataframe tbody tr th:only-of-type {\n",
              "        vertical-align: middle;\n",
              "    }\n",
              "\n",
              "    .dataframe tbody tr th {\n",
              "        vertical-align: top;\n",
              "    }\n",
              "\n",
              "    .dataframe thead th {\n",
              "        text-align: right;\n",
              "    }\n",
              "</style>\n",
              "<table border=\"1\" class=\"dataframe\">\n",
              "  <thead>\n",
              "    <tr style=\"text-align: right;\">\n",
              "      <th></th>\n",
              "      <th>train-auc-mean</th>\n",
              "      <th>train-auc-std</th>\n",
              "      <th>test-auc-mean</th>\n",
              "      <th>test-auc-std</th>\n",
              "    </tr>\n",
              "  </thead>\n",
              "  <tbody>\n",
              "    <tr>\n",
              "      <th>0</th>\n",
              "      <td>0.889914</td>\n",
              "      <td>0.000611</td>\n",
              "      <td>0.888289</td>\n",
              "      <td>0.003810</td>\n",
              "    </tr>\n",
              "    <tr>\n",
              "      <th>1</th>\n",
              "      <td>0.890482</td>\n",
              "      <td>0.000777</td>\n",
              "      <td>0.889024</td>\n",
              "      <td>0.003668</td>\n",
              "    </tr>\n",
              "    <tr>\n",
              "      <th>2</th>\n",
              "      <td>0.890815</td>\n",
              "      <td>0.000716</td>\n",
              "      <td>0.889360</td>\n",
              "      <td>0.003648</td>\n",
              "    </tr>\n",
              "    <tr>\n",
              "      <th>3</th>\n",
              "      <td>0.891384</td>\n",
              "      <td>0.000498</td>\n",
              "      <td>0.890001</td>\n",
              "      <td>0.004183</td>\n",
              "    </tr>\n",
              "    <tr>\n",
              "      <th>4</th>\n",
              "      <td>0.894067</td>\n",
              "      <td>0.001443</td>\n",
              "      <td>0.892421</td>\n",
              "      <td>0.005556</td>\n",
              "    </tr>\n",
              "    <tr>\n",
              "      <th>5</th>\n",
              "      <td>0.896039</td>\n",
              "      <td>0.001159</td>\n",
              "      <td>0.894598</td>\n",
              "      <td>0.004648</td>\n",
              "    </tr>\n",
              "    <tr>\n",
              "      <th>6</th>\n",
              "      <td>0.897323</td>\n",
              "      <td>0.001537</td>\n",
              "      <td>0.895815</td>\n",
              "      <td>0.005137</td>\n",
              "    </tr>\n",
              "    <tr>\n",
              "      <th>7</th>\n",
              "      <td>0.897660</td>\n",
              "      <td>0.001622</td>\n",
              "      <td>0.895838</td>\n",
              "      <td>0.004701</td>\n",
              "    </tr>\n",
              "  </tbody>\n",
              "</table>\n",
              "</div>\n",
              "      <button class=\"colab-df-convert\" onclick=\"convertToInteractive('df-fc38e813-f1bd-4d4a-a05f-b03d295a0936')\"\n",
              "              title=\"Convert this dataframe to an interactive table.\"\n",
              "              style=\"display:none;\">\n",
              "        \n",
              "  <svg xmlns=\"http://www.w3.org/2000/svg\" height=\"24px\"viewBox=\"0 0 24 24\"\n",
              "       width=\"24px\">\n",
              "    <path d=\"M0 0h24v24H0V0z\" fill=\"none\"/>\n",
              "    <path d=\"M18.56 5.44l.94 2.06.94-2.06 2.06-.94-2.06-.94-.94-2.06-.94 2.06-2.06.94zm-11 1L8.5 8.5l.94-2.06 2.06-.94-2.06-.94L8.5 2.5l-.94 2.06-2.06.94zm10 10l.94 2.06.94-2.06 2.06-.94-2.06-.94-.94-2.06-.94 2.06-2.06.94z\"/><path d=\"M17.41 7.96l-1.37-1.37c-.4-.4-.92-.59-1.43-.59-.52 0-1.04.2-1.43.59L10.3 9.45l-7.72 7.72c-.78.78-.78 2.05 0 2.83L4 21.41c.39.39.9.59 1.41.59.51 0 1.02-.2 1.41-.59l7.78-7.78 2.81-2.81c.8-.78.8-2.07 0-2.86zM5.41 20L4 18.59l7.72-7.72 1.47 1.35L5.41 20z\"/>\n",
              "  </svg>\n",
              "      </button>\n",
              "      \n",
              "  <style>\n",
              "    .colab-df-container {\n",
              "      display:flex;\n",
              "      flex-wrap:wrap;\n",
              "      gap: 12px;\n",
              "    }\n",
              "\n",
              "    .colab-df-convert {\n",
              "      background-color: #E8F0FE;\n",
              "      border: none;\n",
              "      border-radius: 50%;\n",
              "      cursor: pointer;\n",
              "      display: none;\n",
              "      fill: #1967D2;\n",
              "      height: 32px;\n",
              "      padding: 0 0 0 0;\n",
              "      width: 32px;\n",
              "    }\n",
              "\n",
              "    .colab-df-convert:hover {\n",
              "      background-color: #E2EBFA;\n",
              "      box-shadow: 0px 1px 2px rgba(60, 64, 67, 0.3), 0px 1px 3px 1px rgba(60, 64, 67, 0.15);\n",
              "      fill: #174EA6;\n",
              "    }\n",
              "\n",
              "    [theme=dark] .colab-df-convert {\n",
              "      background-color: #3B4455;\n",
              "      fill: #D2E3FC;\n",
              "    }\n",
              "\n",
              "    [theme=dark] .colab-df-convert:hover {\n",
              "      background-color: #434B5C;\n",
              "      box-shadow: 0px 1px 3px 1px rgba(0, 0, 0, 0.15);\n",
              "      filter: drop-shadow(0px 1px 2px rgba(0, 0, 0, 0.3));\n",
              "      fill: #FFFFFF;\n",
              "    }\n",
              "  </style>\n",
              "\n",
              "      <script>\n",
              "        const buttonEl =\n",
              "          document.querySelector('#df-fc38e813-f1bd-4d4a-a05f-b03d295a0936 button.colab-df-convert');\n",
              "        buttonEl.style.display =\n",
              "          google.colab.kernel.accessAllowed ? 'block' : 'none';\n",
              "\n",
              "        async function convertToInteractive(key) {\n",
              "          const element = document.querySelector('#df-fc38e813-f1bd-4d4a-a05f-b03d295a0936');\n",
              "          const dataTable =\n",
              "            await google.colab.kernel.invokeFunction('convertToInteractive',\n",
              "                                                     [key], {});\n",
              "          if (!dataTable) return;\n",
              "\n",
              "          const docLinkHtml = 'Like what you see? Visit the ' +\n",
              "            '<a target=\"_blank\" href=https://colab.research.google.com/notebooks/data_table.ipynb>data table notebook</a>'\n",
              "            + ' to learn more about interactive tables.';\n",
              "          element.innerHTML = '';\n",
              "          dataTable['output_type'] = 'display_data';\n",
              "          await google.colab.output.renderOutput(dataTable, element);\n",
              "          const docLink = document.createElement('div');\n",
              "          docLink.innerHTML = docLinkHtml;\n",
              "          element.appendChild(docLink);\n",
              "        }\n",
              "      </script>\n",
              "    </div>\n",
              "  </div>\n",
              "  "
            ]
          },
          "metadata": {},
          "execution_count": 150
        }
      ]
    },
    {
      "cell_type": "markdown",
      "source": [
        "Decido optimizar mis parametros usando Grid Search, tal que mejore mi metrica de f1_score"
      ],
      "metadata": {
        "id": "xtaxwHsbwWGG"
      }
    },
    {
      "cell_type": "code",
      "source": [
        "#Parámetros a optimizar\n",
        "#params_grid = {'n_estimators':range(20, 150, 5), 'max_depth':range(1,7), 'learning_rate':np.arange(0,1,0.001)}\n",
        "# Define the search space\n",
        "param_grid = { \n",
        "    # Percentage of columns to be randomly samples for each tree.\n",
        "    \"colsample_bytree\": [ 0.3, 0.5 , 0.8 ],\n",
        "    # reg_alpha provides l1 regularization to the weight, higher values result in more conservative models\n",
        "    \"reg_alpha\": [0, 0.5, 1, 5],\n",
        "    # reg_lambda provides l2 regularization to the weight, higher values result in more conservative models\n",
        "    \"reg_lambda\": [0, 0.5, 1, 5],\n",
        "    'learning_rate': [0.012]\n",
        "    }\n",
        "\n",
        "# Set up the k-fold cross-validation\n",
        "#kfold = StratifiedKFold(n_splits=3, shuffle=True, random_state=0)\n",
        "#Folds\n",
        "kfoldcv = StratifiedKFold(n_splits=10)\n",
        "\n",
        "#Ramdom Search CV\n",
        "randomcv = RandomizedSearchCV(xgb.XGBClassifier(), params_grid, n_jobs=10, scoring='f1',cv=kfoldcv, n_iter=10)\n",
        "randomcv.fit(x_train,y_train)\n",
        "\n",
        "print (randomcv.best_score_, randomcv.best_params_)\n",
        "\n",
        "#Mejor Modelo\n",
        "xgb_bestmodel = randomcv.best_estimator_\n",
        "\n"
      ],
      "metadata": {
        "colab": {
          "base_uri": "https://localhost:8080/"
        },
        "outputId": "3c96f1f8-bc7d-4d5a-fc46-a59a87479f6c",
        "id": "wrSZAMXZs58I"
      },
      "execution_count": null,
      "outputs": [
        {
          "output_type": "stream",
          "name": "stdout",
          "text": [
            "[17:05:18] WARNING: ../src/learner.cc:767: \n",
            "Parameters: { \"algorithm\", \"metric\", \"n_neighbors\", \"weights\" } are not used.\n",
            "\n",
            "0.8663891133806777 {'weights': 'uniform', 'n_neighbors': 7, 'metric': 'chebyshev', 'algorithm': 'kd_tree'}\n"
          ]
        }
      ]
    },
    {
      "cell_type": "markdown",
      "source": [
        "###XGB Best Model"
      ],
      "metadata": {
        "id": "3VnraZ1ZtMIf"
      }
    },
    {
      "cell_type": "code",
      "source": [
        "#Creo el modelo y lo entreno\n",
        "xgb_bestmodel.fit(x_train, y_train)"
      ],
      "metadata": {
        "colab": {
          "base_uri": "https://localhost:8080/",
          "height": 304
        },
        "outputId": "399f4f70-205e-476b-cbf1-faf85bc4b46d",
        "id": "jPkWzGuatZlD"
      },
      "execution_count": null,
      "outputs": [
        {
          "output_type": "stream",
          "name": "stdout",
          "text": [
            "[17:05:25] WARNING: ../src/learner.cc:767: \n",
            "Parameters: { \"algorithm\", \"metric\", \"n_neighbors\", \"weights\" } are not used.\n",
            "\n"
          ]
        },
        {
          "output_type": "execute_result",
          "data": {
            "text/plain": [
              "XGBClassifier(algorithm='ball_tree', base_score=None, booster=None,\n",
              "              callbacks=None, colsample_bylevel=None, colsample_bynode=None,\n",
              "              colsample_bytree=None, early_stopping_rounds=None,\n",
              "              enable_categorical=False, eval_metric=None, feature_types=None,\n",
              "              gamma=None, gpu_id=None, grow_policy=None, importance_type=None,\n",
              "              interaction_constraints=None, learning_rate=0.012, max_bin=None,\n",
              "              max_cat_threshold=None, max_cat_to_onehot=None,\n",
              "              max_delta_step=None, max_depth=None, max_leaves=None,\n",
              "              metric='euclidean', min_child_weight=None, missing=nan,\n",
              "              monotone_constraints=None, n_estimators=100, n_jobs=None,\n",
              "              n_neighbors=6, ...)"
            ],
            "text/html": [
              "<style>#sk-container-id-4 {color: black;background-color: white;}#sk-container-id-4 pre{padding: 0;}#sk-container-id-4 div.sk-toggleable {background-color: white;}#sk-container-id-4 label.sk-toggleable__label {cursor: pointer;display: block;width: 100%;margin-bottom: 0;padding: 0.3em;box-sizing: border-box;text-align: center;}#sk-container-id-4 label.sk-toggleable__label-arrow:before {content: \"▸\";float: left;margin-right: 0.25em;color: #696969;}#sk-container-id-4 label.sk-toggleable__label-arrow:hover:before {color: black;}#sk-container-id-4 div.sk-estimator:hover label.sk-toggleable__label-arrow:before {color: black;}#sk-container-id-4 div.sk-toggleable__content {max-height: 0;max-width: 0;overflow: hidden;text-align: left;background-color: #f0f8ff;}#sk-container-id-4 div.sk-toggleable__content pre {margin: 0.2em;color: black;border-radius: 0.25em;background-color: #f0f8ff;}#sk-container-id-4 input.sk-toggleable__control:checked~div.sk-toggleable__content {max-height: 200px;max-width: 100%;overflow: auto;}#sk-container-id-4 input.sk-toggleable__control:checked~label.sk-toggleable__label-arrow:before {content: \"▾\";}#sk-container-id-4 div.sk-estimator input.sk-toggleable__control:checked~label.sk-toggleable__label {background-color: #d4ebff;}#sk-container-id-4 div.sk-label input.sk-toggleable__control:checked~label.sk-toggleable__label {background-color: #d4ebff;}#sk-container-id-4 input.sk-hidden--visually {border: 0;clip: rect(1px 1px 1px 1px);clip: rect(1px, 1px, 1px, 1px);height: 1px;margin: -1px;overflow: hidden;padding: 0;position: absolute;width: 1px;}#sk-container-id-4 div.sk-estimator {font-family: monospace;background-color: #f0f8ff;border: 1px dotted black;border-radius: 0.25em;box-sizing: border-box;margin-bottom: 0.5em;}#sk-container-id-4 div.sk-estimator:hover {background-color: #d4ebff;}#sk-container-id-4 div.sk-parallel-item::after {content: \"\";width: 100%;border-bottom: 1px solid gray;flex-grow: 1;}#sk-container-id-4 div.sk-label:hover label.sk-toggleable__label {background-color: #d4ebff;}#sk-container-id-4 div.sk-serial::before {content: \"\";position: absolute;border-left: 1px solid gray;box-sizing: border-box;top: 0;bottom: 0;left: 50%;z-index: 0;}#sk-container-id-4 div.sk-serial {display: flex;flex-direction: column;align-items: center;background-color: white;padding-right: 0.2em;padding-left: 0.2em;position: relative;}#sk-container-id-4 div.sk-item {position: relative;z-index: 1;}#sk-container-id-4 div.sk-parallel {display: flex;align-items: stretch;justify-content: center;background-color: white;position: relative;}#sk-container-id-4 div.sk-item::before, #sk-container-id-4 div.sk-parallel-item::before {content: \"\";position: absolute;border-left: 1px solid gray;box-sizing: border-box;top: 0;bottom: 0;left: 50%;z-index: -1;}#sk-container-id-4 div.sk-parallel-item {display: flex;flex-direction: column;z-index: 1;position: relative;background-color: white;}#sk-container-id-4 div.sk-parallel-item:first-child::after {align-self: flex-end;width: 50%;}#sk-container-id-4 div.sk-parallel-item:last-child::after {align-self: flex-start;width: 50%;}#sk-container-id-4 div.sk-parallel-item:only-child::after {width: 0;}#sk-container-id-4 div.sk-dashed-wrapped {border: 1px dashed gray;margin: 0 0.4em 0.5em 0.4em;box-sizing: border-box;padding-bottom: 0.4em;background-color: white;}#sk-container-id-4 div.sk-label label {font-family: monospace;font-weight: bold;display: inline-block;line-height: 1.2em;}#sk-container-id-4 div.sk-label-container {text-align: center;}#sk-container-id-4 div.sk-container {/* jupyter's `normalize.less` sets `[hidden] { display: none; }` but bootstrap.min.css set `[hidden] { display: none !important; }` so we also need the `!important` here to be able to override the default hidden behavior on the sphinx rendered scikit-learn.org. See: https://github.com/scikit-learn/scikit-learn/issues/21755 */display: inline-block !important;position: relative;}#sk-container-id-4 div.sk-text-repr-fallback {display: none;}</style><div id=\"sk-container-id-4\" class=\"sk-top-container\"><div class=\"sk-text-repr-fallback\"><pre>XGBClassifier(algorithm=&#x27;ball_tree&#x27;, base_score=None, booster=None,\n",
              "              callbacks=None, colsample_bylevel=None, colsample_bynode=None,\n",
              "              colsample_bytree=None, early_stopping_rounds=None,\n",
              "              enable_categorical=False, eval_metric=None, feature_types=None,\n",
              "              gamma=None, gpu_id=None, grow_policy=None, importance_type=None,\n",
              "              interaction_constraints=None, learning_rate=0.012, max_bin=None,\n",
              "              max_cat_threshold=None, max_cat_to_onehot=None,\n",
              "              max_delta_step=None, max_depth=None, max_leaves=None,\n",
              "              metric=&#x27;euclidean&#x27;, min_child_weight=None, missing=nan,\n",
              "              monotone_constraints=None, n_estimators=100, n_jobs=None,\n",
              "              n_neighbors=6, ...)</pre><b>In a Jupyter environment, please rerun this cell to show the HTML representation or trust the notebook. <br />On GitHub, the HTML representation is unable to render, please try loading this page with nbviewer.org.</b></div><div class=\"sk-container\" hidden><div class=\"sk-item\"><div class=\"sk-estimator sk-toggleable\"><input class=\"sk-toggleable__control sk-hidden--visually\" id=\"sk-estimator-id-4\" type=\"checkbox\" checked><label for=\"sk-estimator-id-4\" class=\"sk-toggleable__label sk-toggleable__label-arrow\">XGBClassifier</label><div class=\"sk-toggleable__content\"><pre>XGBClassifier(algorithm=&#x27;ball_tree&#x27;, base_score=None, booster=None,\n",
              "              callbacks=None, colsample_bylevel=None, colsample_bynode=None,\n",
              "              colsample_bytree=None, early_stopping_rounds=None,\n",
              "              enable_categorical=False, eval_metric=None, feature_types=None,\n",
              "              gamma=None, gpu_id=None, grow_policy=None, importance_type=None,\n",
              "              interaction_constraints=None, learning_rate=0.012, max_bin=None,\n",
              "              max_cat_threshold=None, max_cat_to_onehot=None,\n",
              "              max_delta_step=None, max_depth=None, max_leaves=None,\n",
              "              metric=&#x27;euclidean&#x27;, min_child_weight=None, missing=nan,\n",
              "              monotone_constraints=None, n_estimators=100, n_jobs=None,\n",
              "              n_neighbors=6, ...)</pre></div></div></div></div></div>"
            ]
          },
          "metadata": {},
          "execution_count": 166
        }
      ]
    },
    {
      "cell_type": "code",
      "source": [
        "#Evaluo en el set de test\n",
        "y_pred= xgb_bestmodel.predict_proba(x_test)[:, 1]\n",
        "\n",
        "#Matriz de Confusion\n",
        "y_pred=xgb_bestmodel.predict(x_test)\n",
        "\n",
        "cm = confusion_matrix(y_test,y_pred)\n",
        "sns.heatmap(cm, cmap='Blues',annot=True,fmt='g')\n",
        "plt.xlabel('Predicted')\n",
        "plt.ylabel('True')\n",
        "\n",
        "#Reporte\n",
        "print(classification_report(y_test,y_pred))\n"
      ],
      "metadata": {
        "colab": {
          "base_uri": "https://localhost:8080/",
          "height": 615
        },
        "outputId": "159aa5a4-0831-4512-f362-45832276de6f",
        "id": "WRF3BHPCtZlF"
      },
      "execution_count": null,
      "outputs": [
        {
          "output_type": "stream",
          "name": "stdout",
          "text": [
            "              precision    recall  f1-score   support\n",
            "\n",
            "           0       0.80      0.84      0.82      6095\n",
            "           1       0.83      0.78      0.81      6108\n",
            "\n",
            "    accuracy                           0.81     12203\n",
            "   macro avg       0.81      0.81      0.81     12203\n",
            "weighted avg       0.81      0.81      0.81     12203\n",
            "\n"
          ]
        },
        {
          "output_type": "display_data",
          "data": {
            "text/plain": [
              "<Figure size 640x480 with 2 Axes>"
            ],
            "image/png": "[encoded data removed]"
          },
          "metadata": {}
        }
      ]
    },
    {
      "cell_type": "markdown",
      "source": [
        "##e. Construir un ensamble híbrido tipo Voting y otro tipo Stacking."
      ],
      "metadata": {
        "id": "fnQuERMR30_G"
      }
    },
    {
      "cell_type": "markdown",
      "source": [
        "### Stacking"
      ],
      "metadata": {
        "id": "4OF5dSObp_uv"
      }
    },
    {
      "cell_type": "markdown",
      "source": [
        "#### Preparacion"
      ],
      "metadata": {
        "id": "Udd_0O1fqEpj"
      }
    },
    {
      "cell_type": "code",
      "source": [
        "import plotly.graph_objects as go\n",
        "from sklearn.model_selection import cross_val_score, RepeatedStratifiedKFold\n",
        "from collections import defaultdict\n"
      ],
      "metadata": {
        "id": "uFpY7MxOzWTQ"
      },
      "execution_count": null,
      "outputs": []
    },
    {
      "cell_type": "code",
      "source": [
        "df_stackingtest = df_test.copy()"
      ],
      "metadata": {
        "id": "UEBtEEpzqJ_j"
      },
      "execution_count": null,
      "outputs": []
    },
    {
      "cell_type": "code",
      "source": [
        "df_stackingtest = df_stackingtest.drop(columns=['assigned_room_type', 'reserved_room_type', 'id', 'arrival_date'])"
      ],
      "metadata": {
        "id": "sUlmQHacqKAE"
      },
      "execution_count": null,
      "outputs": []
    },
    {
      "cell_type": "code",
      "source": [
        "df_stackingtest = df_stackingtest[features]\n",
        "      "
      ],
      "metadata": {
        "id": "3_BQ_GbhqKAJ"
      },
      "execution_count": null,
      "outputs": []
    },
    {
      "cell_type": "code",
      "source": [
        "#Funcion para evaluar los modelos 5fold -CV (repite 2 veces)\n",
        "def evaluate_model(model, x, y):\n",
        "    cv = RepeatedStratifiedKFold(n_splits=5, n_repeats=2, random_state=1)\n",
        "    scores = cross_val_score(model, x, y, scoring='f1', cv=cv, verbose=1, n_jobs=3, error_score='raise')\n",
        "    return scores"
      ],
      "metadata": {
        "id": "32J-g4eUuvLv"
      },
      "execution_count": null,
      "outputs": []
    },
    {
      "cell_type": "code",
      "source": [
        "#Funcion para plotear a performance\n",
        "def plot_results(model_scores, name):\n",
        "    \n",
        "    model_names = list(model_scores.keys())\n",
        "    results = [model_scores[model] for model in model_names]\n",
        "    fig = go.Figure()\n",
        "    for model, result in zip(model_names, results):\n",
        "        fig.add_trace(go.Box(\n",
        "            y=result,\n",
        "            name=model,\n",
        "            boxpoints='all',\n",
        "            jitter=0.5,\n",
        "            whiskerwidth=0.2,\n",
        "            marker_size=2,\n",
        "            line_width=1)\n",
        "        )\n",
        "    \n",
        "    fig.update_layout(\n",
        "    title='Performance of Different Models Using 5-Fold Cross-Validation',\n",
        "    paper_bgcolor='rgb(243, 243, 243)',\n",
        "    plot_bgcolor='rgb(243, 243, 243)',\n",
        "    xaxis_title='Model',\n",
        "    yaxis_title='Accuracy',\n",
        "    showlegend=False)\n",
        "    fig.show()"
      ],
      "metadata": {
        "id": "HUq4CDj3vA9Y"
      },
      "execution_count": null,
      "outputs": []
    },
    {
      "cell_type": "code",
      "source": [
        "#Armo conjunto entrenamiento y test 80-20\n",
        "x_train, x_test, y_train, y_test = train_test_split(x, y, random_state = 42, train_size = 0.80)"
      ],
      "metadata": {
        "id": "Lnv7_Qjnyqzb"
      },
      "execution_count": null,
      "outputs": []
    },
    {
      "cell_type": "code",
      "source": [
        "#Modelos Base\n",
        "base_models = {'random_forest':RandomForestClassifier(n_estimators=50),\n",
        "               'svm': SVC(),\n",
        "               'knn': KNeighborsClassifier(n_neighbors=11)}\n",
        "\n",
        "#Guarda los scores de cada modelo\n",
        "model_scores = defaultdict()\n",
        "\n",
        "#Entreno los clasificadores\n",
        "for name, model in base_models.items():\n",
        "    print('Evaluating {}'.format(name))\n",
        "    scores = evaluate_model(model, x_train, y_train)\n",
        "    model_scores[name] = scores"
      ],
      "metadata": {
        "colab": {
          "base_uri": "https://localhost:8080/"
        },
        "id": "wbyuajOWZXAu",
        "outputId": "cf582806-69aa-45a1-a10e-8b7f33d9ad75"
      },
      "execution_count": null,
      "outputs": [
        {
          "output_type": "stream",
          "name": "stdout",
          "text": [
            "Evaluating random_forest\n"
          ]
        },
        {
          "output_type": "stream",
          "name": "stderr",
          "text": [
            "[Parallel(n_jobs=3)]: Using backend LokyBackend with 3 concurrent workers.\n",
            "[Parallel(n_jobs=3)]: Done  10 out of  10 | elapsed:   30.0s finished\n",
            "[Parallel(n_jobs=3)]: Using backend LokyBackend with 3 concurrent workers.\n"
          ]
        },
        {
          "output_type": "stream",
          "name": "stdout",
          "text": [
            "Evaluating svm\n"
          ]
        },
        {
          "output_type": "stream",
          "name": "stderr",
          "text": [
            "[Parallel(n_jobs=3)]: Done  10 out of  10 | elapsed: 24.3min finished\n",
            "[Parallel(n_jobs=3)]: Using backend LokyBackend with 3 concurrent workers.\n"
          ]
        },
        {
          "output_type": "stream",
          "name": "stdout",
          "text": [
            "Evaluating knn\n"
          ]
        },
        {
          "output_type": "stream",
          "name": "stderr",
          "text": [
            "[Parallel(n_jobs=3)]: Done  10 out of  10 | elapsed:   33.1s finished\n"
          ]
        }
      ]
    },
    {
      "cell_type": "code",
      "source": [
        "from sklearn.ensemble import StackingClassifier\n",
        "\n",
        "#Modelos Base\n",
        "base_models = [('random_forest', rf_cv_best),\n",
        "               ('svm', svm_radial),\n",
        "               ('knn', knn)]\n",
        "\n",
        "#Meta Modelo\n",
        "meta_model = LogisticRegressionCV()\n",
        "\n",
        "#Ensemble Stacking\n",
        "stacking_model = StackingClassifier(estimators=base_models, \n",
        "                                    final_estimator=meta_model, \n",
        "                                    passthrough=True, \n",
        "                                    cv=5,\n",
        "                                    verbose=2)"
      ],
      "metadata": {
        "id": "5f5BaM07aRH3"
      },
      "execution_count": null,
      "outputs": []
    },
    {
      "cell_type": "code",
      "source": [
        "#Performance el modelo en entrenamiento\n",
        "#stacking_scores = evaluate_model(stacking_model, x_train, y_train)\n",
        "#model_scores['stacking'] = stacking_scores"
      ],
      "metadata": {
        "id": "rBJ-OYP8aoGu"
      },
      "execution_count": null,
      "outputs": []
    },
    {
      "cell_type": "code",
      "source": [
        "#Grafico performance\n",
        "#plot_results(model_scores, name='stacking_model_cv')"
      ],
      "metadata": {
        "id": "ijQJJcJIayzo"
      },
      "execution_count": null,
      "outputs": []
    },
    {
      "cell_type": "markdown",
      "source": [
        "#### Modelo"
      ],
      "metadata": {
        "id": "rw9zblykrVao"
      }
    },
    {
      "cell_type": "code",
      "source": [
        "#Evaluo en conjunto de test\n",
        "#stacking_model.fit(x_train,y_train).score(x_test,y_test)\n",
        "stacking_model.fit(x_train,y_train)\n",
        "y_pred_st = stacking_model.predict(x_test)\n",
        "f1_score(y_test, y_pred_st)"
      ],
      "metadata": {
        "colab": {
          "base_uri": "https://localhost:8080/"
        },
        "outputId": "fada5237-a5e2-4644-c187-f3d17f90cf8d",
        "id": "z6TjgMt1rHac"
      },
      "execution_count": null,
      "outputs": [
        {
          "output_type": "stream",
          "name": "stderr",
          "text": [
            "/usr/local/lib/python3.10/dist-packages/sklearn/ensemble/_forest.py:424: FutureWarning: `max_features='auto'` has been deprecated in 1.1 and will be removed in 1.3. To keep the past behaviour, explicitly set `max_features='sqrt'` or remove this parameter as it is also the default value for RandomForestClassifiers and ExtraTreesClassifiers.\n",
            "  warn(\n",
            "[Parallel(n_jobs=1)]: Using backend SequentialBackend with 1 concurrent workers.\n",
            "/usr/local/lib/python3.10/dist-packages/sklearn/ensemble/_forest.py:424: FutureWarning: `max_features='auto'` has been deprecated in 1.1 and will be removed in 1.3. To keep the past behaviour, explicitly set `max_features='sqrt'` or remove this parameter as it is also the default value for RandomForestClassifiers and ExtraTreesClassifiers.\n",
            "  warn(\n",
            "[Parallel(n_jobs=1)]: Done   1 out of   1 | elapsed:    4.9s remaining:    0.0s\n",
            "/usr/local/lib/python3.10/dist-packages/sklearn/ensemble/_forest.py:424: FutureWarning: `max_features='auto'` has been deprecated in 1.1 and will be removed in 1.3. To keep the past behaviour, explicitly set `max_features='sqrt'` or remove this parameter as it is also the default value for RandomForestClassifiers and ExtraTreesClassifiers.\n",
            "  warn(\n",
            "/usr/local/lib/python3.10/dist-packages/sklearn/ensemble/_forest.py:424: FutureWarning: `max_features='auto'` has been deprecated in 1.1 and will be removed in 1.3. To keep the past behaviour, explicitly set `max_features='sqrt'` or remove this parameter as it is also the default value for RandomForestClassifiers and ExtraTreesClassifiers.\n",
            "  warn(\n",
            "/usr/local/lib/python3.10/dist-packages/sklearn/ensemble/_forest.py:424: FutureWarning: `max_features='auto'` has been deprecated in 1.1 and will be removed in 1.3. To keep the past behaviour, explicitly set `max_features='sqrt'` or remove this parameter as it is also the default value for RandomForestClassifiers and ExtraTreesClassifiers.\n",
            "  warn(\n",
            "/usr/local/lib/python3.10/dist-packages/sklearn/ensemble/_forest.py:424: FutureWarning: `max_features='auto'` has been deprecated in 1.1 and will be removed in 1.3. To keep the past behaviour, explicitly set `max_features='sqrt'` or remove this parameter as it is also the default value for RandomForestClassifiers and ExtraTreesClassifiers.\n",
            "  warn(\n",
            "[Parallel(n_jobs=1)]: Done   5 out of   5 | elapsed:   17.0s finished\n",
            "[Parallel(n_jobs=1)]: Using backend SequentialBackend with 1 concurrent workers.\n",
            "[Parallel(n_jobs=1)]: Done   1 out of   1 | elapsed:  8.5min remaining:    0.0s\n",
            "[Parallel(n_jobs=1)]: Done   5 out of   5 | elapsed: 40.9min finished\n",
            "[Parallel(n_jobs=1)]: Using backend SequentialBackend with 1 concurrent workers.\n",
            "[Parallel(n_jobs=1)]: Done   1 out of   1 | elapsed:  3.2min remaining:    0.0s\n",
            "[Parallel(n_jobs=1)]: Done   5 out of   5 | elapsed: 15.8min finished\n",
            "/usr/local/lib/python3.10/dist-packages/sklearn/linear_model/_logistic.py:458: ConvergenceWarning: lbfgs failed to converge (status=1):\n",
            "STOP: TOTAL NO. of ITERATIONS REACHED LIMIT.\n",
            "\n",
            "Increase the number of iterations (max_iter) or scale the data as shown in:\n",
            "    https://scikit-learn.org/stable/modules/preprocessing.html\n",
            "Please also refer to the documentation for alternative solver options:\n",
            "    https://scikit-learn.org/stable/modules/linear_model.html#logistic-regression\n",
            "  n_iter_i = _check_optimize_result(\n",
            "/usr/local/lib/python3.10/dist-packages/sklearn/linear_model/_logistic.py:458: ConvergenceWarning: lbfgs failed to converge (status=1):\n",
            "STOP: TOTAL NO. of ITERATIONS REACHED LIMIT.\n",
            "\n",
            "Increase the number of iterations (max_iter) or scale the data as shown in:\n",
            "    https://scikit-learn.org/stable/modules/preprocessing.html\n",
            "Please also refer to the documentation for alternative solver options:\n",
            "    https://scikit-learn.org/stable/modules/linear_model.html#logistic-regression\n",
            "  n_iter_i = _check_optimize_result(\n",
            "/usr/local/lib/python3.10/dist-packages/sklearn/linear_model/_logistic.py:458: ConvergenceWarning: lbfgs failed to converge (status=1):\n",
            "STOP: TOTAL NO. of ITERATIONS REACHED LIMIT.\n",
            "\n",
            "Increase the number of iterations (max_iter) or scale the data as shown in:\n",
            "    https://scikit-learn.org/stable/modules/preprocessing.html\n",
            "Please also refer to the documentation for alternative solver options:\n",
            "    https://scikit-learn.org/stable/modules/linear_model.html#logistic-regression\n",
            "  n_iter_i = _check_optimize_result(\n",
            "/usr/local/lib/python3.10/dist-packages/sklearn/linear_model/_logistic.py:458: ConvergenceWarning: lbfgs failed to converge (status=1):\n",
            "STOP: TOTAL NO. of ITERATIONS REACHED LIMIT.\n",
            "\n",
            "Increase the number of iterations (max_iter) or scale the data as shown in:\n",
            "    https://scikit-learn.org/stable/modules/preprocessing.html\n",
            "Please also refer to the documentation for alternative solver options:\n",
            "    https://scikit-learn.org/stable/modules/linear_model.html#logistic-regression\n",
            "  n_iter_i = _check_optimize_result(\n",
            "/usr/local/lib/python3.10/dist-packages/sklearn/linear_model/_logistic.py:458: ConvergenceWarning: lbfgs failed to converge (status=1):\n",
            "STOP: TOTAL NO. of ITERATIONS REACHED LIMIT.\n",
            "\n",
            "Increase the number of iterations (max_iter) or scale the data as shown in:\n",
            "    https://scikit-learn.org/stable/modules/preprocessing.html\n",
            "Please also refer to the documentation for alternative solver options:\n",
            "    https://scikit-learn.org/stable/modules/linear_model.html#logistic-regression\n",
            "  n_iter_i = _check_optimize_result(\n",
            "/usr/local/lib/python3.10/dist-packages/sklearn/linear_model/_logistic.py:458: ConvergenceWarning: lbfgs failed to converge (status=1):\n",
            "STOP: TOTAL NO. of ITERATIONS REACHED LIMIT.\n",
            "\n",
            "Increase the number of iterations (max_iter) or scale the data as shown in:\n",
            "    https://scikit-learn.org/stable/modules/preprocessing.html\n",
            "Please also refer to the documentation for alternative solver options:\n",
            "    https://scikit-learn.org/stable/modules/linear_model.html#logistic-regression\n",
            "  n_iter_i = _check_optimize_result(\n"
          ]
        },
        {
          "output_type": "execute_result",
          "data": {
            "text/plain": [
              "0.8758542141230068"
            ]
          },
          "metadata": {},
          "execution_count": 29
        }
      ]
    },
    {
      "cell_type": "code",
      "source": [
        "predicciones_stacking = stacking_model.predict(df_stackingtest)\n"
      ],
      "metadata": {
        "id": "qTHhIB2upmko"
      },
      "execution_count": null,
      "outputs": []
    },
    {
      "cell_type": "code",
      "source": [
        "#Creo la matriz de confusión\n",
        "tabla=confusion_matrix(y_test, y_pred_st)\n",
        "\n",
        "#Grafico la matriz de confusión\n",
        "sns.heatmap(tabla,cmap='GnBu',annot=True,fmt='g')\n",
        "plt.xlabel('Predicted')\n",
        "plt.ylabel('True')"
      ],
      "metadata": {
        "colab": {
          "base_uri": "https://localhost:8080/",
          "height": 466
        },
        "id": "yEvcja3QshQF",
        "outputId": "2f988a3e-dec4-4f47-d456-8c96e1ea13c4"
      },
      "execution_count": null,
      "outputs": [
        {
          "output_type": "execute_result",
          "data": {
            "text/plain": [
              "Text(50.722222222222214, 0.5, 'True')"
            ]
          },
          "metadata": {},
          "execution_count": 39
        },
        {
          "output_type": "display_data",
          "data": {
            "text/plain": [
              "<Figure size 640x480 with 2 Axes>"
            ],
            "image/png": "[encoded data removed]"
          },
          "metadata": {}
        }
      ]
    },
    {
      "cell_type": "code",
      "source": [
        "print('accuracy: ' + str(accuracy_score(y_test, y_pred_st)))\n",
        "print('f1_score: ' + str(f1_score(y_test, y_pred_st)))\n",
        "print('recall: ' + str(recall_score(y_test, y_pred_st)))\n",
        "print('precision: ' + str(precision_score(y_test, y_pred_st)))"
      ],
      "metadata": {
        "colab": {
          "base_uri": "https://localhost:8080/"
        },
        "id": "8fkjnQWdthyy",
        "outputId": "5dd7d19a-2559-44c3-a0ac-f303be669d92"
      },
      "execution_count": null,
      "outputs": [
        {
          "output_type": "stream",
          "name": "stdout",
          "text": [
            "accuracy: 0.8749487830861263\n",
            "f1_score: 0.8758542141230068\n",
            "recall: 0.8713175785043703\n",
            "precision: 0.8804383382401046\n"
          ]
        }
      ]
    },
    {
      "cell_type": "markdown",
      "source": [
        "### Voting\n"
      ],
      "metadata": {
        "id": "c_TFVS2S0pjL"
      }
    },
    {
      "cell_type": "markdown",
      "source": [
        "#### Preparacion"
      ],
      "metadata": {
        "id": "eJQgjMrShw8V"
      }
    },
    {
      "cell_type": "code",
      "source": [
        "from sklearn.ensemble import RandomForestClassifier \n",
        "from sklearn.linear_model import LogisticRegression \n",
        "from sklearn.neighbors import KNeighborsClassifier\n",
        "from sklearn.ensemble import VotingClassifier\n",
        "from sklearn.model_selection import train_test_split\n",
        "from sklearn.metrics import accuracy_score"
      ],
      "metadata": {
        "id": "VMtNpKikhazK"
      },
      "execution_count": null,
      "outputs": []
    },
    {
      "cell_type": "code",
      "source": [
        "df_vottest = df_test.copy()"
      ],
      "metadata": {
        "id": "VvNzJj_8jJVc"
      },
      "execution_count": null,
      "outputs": []
    },
    {
      "cell_type": "code",
      "source": [
        "df_vottest = df_vottest.drop(columns=['assigned_room_type', 'reserved_room_type', 'id', 'arrival_date'])"
      ],
      "metadata": {
        "id": "sIMIXCTBcJaR"
      },
      "execution_count": null,
      "outputs": []
    },
    {
      "cell_type": "code",
      "source": [
        "df_vottest = df_vottest[features]\n",
        "      "
      ],
      "metadata": {
        "id": "5fa24kPlcJaS"
      },
      "execution_count": null,
      "outputs": []
    },
    {
      "cell_type": "markdown",
      "source": [
        "#### Modelo"
      ],
      "metadata": {
        "id": "_u24qgGgh1Dv"
      }
    },
    {
      "cell_type": "code",
      "source": [
        "\n",
        "#Creo ensemble de Votación\n",
        "vot_clf = VotingClassifier(estimators = [('svm', svm_radial), ('rnd', rf_cv_best), ('knn', knn)], voting = 'hard')\n",
        "\n",
        "#Armo conjunto entrenamiento y test 80-20\n",
        "x_train, x_test, y_train, y_test = train_test_split(x, y, random_state = 42, train_size = 0.80)\n",
        "\n",
        "\n",
        "#Entreno el ensemble\n",
        "vot_clf.fit(x_train, y_train)\n",
        "\n",
        "#Evaluo en conjunto de test\n",
        "pred = vot_clf.predict(x_test)\n",
        "accuracy_score(y_test, pred)"
      ],
      "metadata": {
        "colab": {
          "base_uri": "https://localhost:8080/"
        },
        "id": "HJMljU0ohMxH",
        "outputId": "90b84a19-8d32-47dc-9cf4-77c89693ae6b"
      },
      "execution_count": null,
      "outputs": [
        {
          "output_type": "stream",
          "name": "stderr",
          "text": [
            "/usr/local/lib/python3.10/dist-packages/sklearn/ensemble/_forest.py:424: FutureWarning: `max_features='auto'` has been deprecated in 1.1 and will be removed in 1.3. To keep the past behaviour, explicitly set `max_features='sqrt'` or remove this parameter as it is also the default value for RandomForestClassifiers and ExtraTreesClassifiers.\n",
            "  warn(\n"
          ]
        },
        {
          "output_type": "execute_result",
          "data": {
            "text/plain": [
              "0.8302056871261165"
            ]
          },
          "metadata": {},
          "execution_count": 18
        }
      ]
    },
    {
      "cell_type": "code",
      "source": [
        "f1_score(y_test, pred)"
      ],
      "metadata": {
        "colab": {
          "base_uri": "https://localhost:8080/"
        },
        "id": "0icuOLHia_lz",
        "outputId": "91c3d4c2-7ecb-4d58-b215-d23629ac183e"
      },
      "execution_count": null,
      "outputs": [
        {
          "output_type": "execute_result",
          "data": {
            "text/plain": [
              "0.8337879030964223"
            ]
          },
          "metadata": {},
          "execution_count": 19
        }
      ]
    },
    {
      "cell_type": "code",
      "source": [
        "#Creo la matriz de confusión\n",
        "tabla=confusion_matrix(y_test, pred)\n",
        "\n",
        "#Grafico la matriz de confusión\n",
        "sns.heatmap(tabla,cmap='GnBu',annot=True,fmt='g')\n",
        "plt.xlabel('Predicted')\n",
        "plt.ylabel('True')"
      ],
      "metadata": {
        "colab": {
          "base_uri": "https://localhost:8080/",
          "height": 467
        },
        "id": "r3bWuMlheV7_",
        "outputId": "90cbdeac-44bf-4fc2-8cc8-bb073a35e1f4"
      },
      "execution_count": null,
      "outputs": [
        {
          "output_type": "execute_result",
          "data": {
            "text/plain": [
              "Text(50.722222222222214, 0.5, 'True')"
            ]
          },
          "metadata": {},
          "execution_count": 32
        },
        {
          "output_type": "display_data",
          "data": {
            "text/plain": [
              "<Figure size 640x480 with 2 Axes>"
            ],
            "image/png": "[encoded data removed]"
          },
          "metadata": {}
        }
      ]
    },
    {
      "cell_type": "code",
      "source": [
        "print('accuracy: ' + str(accuracy_score(y_test, pred)))\n",
        "print('f1_score: ' + str(f1_score(y_test, pred)))\n",
        "print('recall: '+ str(recall_score(y_test, pred)))\n",
        "print('precision: '+str(precision_score(y_test,pred)))"
      ],
      "metadata": {
        "colab": {
          "base_uri": "https://localhost:8080/"
        },
        "id": "YVi96bHRe8us",
        "outputId": "1efd559d-972f-44bc-d4f6-f76f9dcc9ead"
      },
      "execution_count": null,
      "outputs": [
        {
          "output_type": "stream",
          "name": "stdout",
          "text": [
            "accuracy: 0.8302056871261165\n",
            "f1_score: 0.8337879030964223\n",
            "recall: 0.8412107478148269\n",
            "precision: 0.8264949109414759\n"
          ]
        }
      ]
    },
    {
      "cell_type": "code",
      "source": [
        "predicciones_vot = vot_clf.predict(df_vottest.values)"
      ],
      "metadata": {
        "colab": {
          "base_uri": "https://localhost:8080/"
        },
        "id": "qXWjba5sbtWI",
        "outputId": "d6f770ec-ece0-46f0-82f5-3571a53e251e"
      },
      "execution_count": null,
      "outputs": [
        {
          "output_type": "stream",
          "name": "stderr",
          "text": [
            "/usr/local/lib/python3.10/dist-packages/sklearn/base.py:439: UserWarning: X does not have valid feature names, but SVC was fitted with feature names\n",
            "  warnings.warn(\n",
            "/usr/local/lib/python3.10/dist-packages/sklearn/base.py:439: UserWarning: X does not have valid feature names, but RandomForestClassifier was fitted with feature names\n",
            "  warnings.warn(\n",
            "/usr/local/lib/python3.10/dist-packages/sklearn/base.py:439: UserWarning: X does not have valid feature names, but KNeighborsClassifier was fitted with feature names\n",
            "  warnings.warn(\n"
          ]
        }
      ]
    },
    {
      "cell_type": "code",
      "source": [
        "df_submission = pd.DataFrame({'id':df_test['id'], 'is_canceled':predicciones_vot})\n",
        "df_submission.head()\n",
        "df_submission.shape"
      ],
      "metadata": {
        "colab": {
          "base_uri": "https://localhost:8080/"
        },
        "id": "XbPa1OYNbtWJ",
        "outputId": "ab68a52b-5047-4436-e9d5-615b94f0c8c8"
      },
      "execution_count": null,
      "outputs": [
        {
          "output_type": "execute_result",
          "data": {
            "text/plain": [
              "(26535, 2)"
            ]
          },
          "metadata": {},
          "execution_count": 30
        }
      ]
    },
    {
      "cell_type": "code",
      "source": [
        "#df_submission.to_csv('/content/drive/MyDrive/submissions/submission_voting_ensamble.csv', index=False)"
      ],
      "metadata": {
        "id": "qlPPXgsabtWK"
      },
      "execution_count": null,
      "outputs": []
    },
    {
      "cell_type": "code",
      "source": [
        "joblib.dump(vot_clf, 'vot_ensamble.plk')"
      ],
      "metadata": {
        "colab": {
          "base_uri": "https://localhost:8080/"
        },
        "id": "EbjD3fz8bFdK",
        "outputId": "050abe13-07ed-45d8-f84a-fc0448822290"
      },
      "execution_count": null,
      "outputs": [
        {
          "output_type": "execute_result",
          "data": {
            "text/plain": [
              "['vot_ensamble.plk']"
            ]
          },
          "metadata": {},
          "execution_count": 20
        }
      ]
    }
  ]
}